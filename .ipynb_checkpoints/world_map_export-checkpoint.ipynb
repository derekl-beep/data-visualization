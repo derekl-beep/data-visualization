{
 "cells": [
  {
   "cell_type": "markdown",
   "metadata": {},
   "source": [
    "# HK Export Data in 2018\n",
    "\n",
    "This notebook documents the python codes to visualize economic data using choropleth maps.\n",
    "\n",
    "Data source: https://tradingeconomics.com/hong-kong/exports-by-country"
   ]
  },
  {
   "cell_type": "code",
   "execution_count": 1,
   "metadata": {},
   "outputs": [],
   "source": [
    "import plotly.graph_objects as go\n",
    "import pandas as pd\n",
    "import numpy as np\n",
    "\n",
    "%matplotlib notebook"
   ]
  },
  {
   "cell_type": "code",
   "execution_count": 2,
   "metadata": {},
   "outputs": [],
   "source": [
    "def convert_to_money(x):\n",
    "    x = x[1:]\n",
    "    if x[-1] == 'B':\n",
    "        x = float(x[:-1]) * 1e9\n",
    "    elif x[-1] == 'M':\n",
    "        x = float(x[:-1]) * 1e6\n",
    "    elif x[-1] == 'K':\n",
    "        x = float(x[:-1]) * 1e3\n",
    "    return x\n",
    "\n",
    "def get_country_code(x):\n",
    "    x = code.loc[code['Country'] == x, 'Alpha-3 code']\n",
    "    if x.empty:\n",
    "        x = ''\n",
    "    else:\n",
    "        x = x.item()\n",
    "    return x\n",
    "\n",
    "def convert_to_log(x):\n",
    "    x = np.log10(x)\n",
    "    return x"
   ]
  },
  {
   "cell_type": "code",
   "execution_count": 3,
   "metadata": {
    "scrolled": false
   },
   "outputs": [],
   "source": [
    "df = pd.read_csv(\"hk_export_data.csv\")\n",
    "df[\"code\"] = ''\n",
    "df[\"log(export)\"] = ''\n",
    "df.columns = ['country', 'export', 'year', 'code', \"log(export)\"]\n",
    "\n",
    "# Processing\n",
    "df = df[df.year == 2018]\n",
    "for i in range(df['export'].count()):\n",
    "    df.loc[i, 'export'] = convert_to_money(df.loc[i, 'export'])\n",
    "    df.loc[i, 'log(export)'] = convert_to_log(df.loc[i, 'export'])"
   ]
  },
  {
   "cell_type": "code",
   "execution_count": 4,
   "metadata": {},
   "outputs": [
    {
     "name": "stderr",
     "output_type": "stream",
     "text": [
      "/home/derek/anaconda3/lib/python3.7/site-packages/ipykernel_launcher.py:16: FutureWarning:\n",
      "\n",
      "`item` has been deprecated and will be removed in a future version\n",
      "\n"
     ]
    }
   ],
   "source": [
    "code = pd.read_csv('country_code_table.csv')\n",
    "for i in range(df['country'].count()):\n",
    "    df.loc[i, 'code'] = get_country_code(df.loc[i, 'country'])"
   ]
  },
  {
   "cell_type": "code",
   "execution_count": 5,
   "metadata": {},
   "outputs": [
    {
     "data": {
      "text/html": [
       "<div>\n",
       "<style scoped>\n",
       "    .dataframe tbody tr th:only-of-type {\n",
       "        vertical-align: middle;\n",
       "    }\n",
       "\n",
       "    .dataframe tbody tr th {\n",
       "        vertical-align: top;\n",
       "    }\n",
       "\n",
       "    .dataframe thead th {\n",
       "        text-align: right;\n",
       "    }\n",
       "</style>\n",
       "<table border=\"1\" class=\"dataframe\">\n",
       "  <thead>\n",
       "    <tr style=\"text-align: right;\">\n",
       "      <th></th>\n",
       "      <th>country</th>\n",
       "      <th>export</th>\n",
       "      <th>year</th>\n",
       "      <th>code</th>\n",
       "      <th>log(export)</th>\n",
       "    </tr>\n",
       "  </thead>\n",
       "  <tbody>\n",
       "    <tr>\n",
       "      <th>0</th>\n",
       "      <td>China</td>\n",
       "      <td>3.1429e+11</td>\n",
       "      <td>2018</td>\n",
       "      <td>CHN</td>\n",
       "      <td>11.4973</td>\n",
       "    </tr>\n",
       "    <tr>\n",
       "      <th>1</th>\n",
       "      <td>United States</td>\n",
       "      <td>4.587e+10</td>\n",
       "      <td>2018</td>\n",
       "      <td>USA</td>\n",
       "      <td>10.6615</td>\n",
       "    </tr>\n",
       "    <tr>\n",
       "      <th>2</th>\n",
       "      <td>India</td>\n",
       "      <td>1.79e+10</td>\n",
       "      <td>2018</td>\n",
       "      <td>IND</td>\n",
       "      <td>10.2529</td>\n",
       "    </tr>\n",
       "    <tr>\n",
       "      <th>3</th>\n",
       "      <td>Japan</td>\n",
       "      <td>1.653e+10</td>\n",
       "      <td>2018</td>\n",
       "      <td>JPN</td>\n",
       "      <td>10.2183</td>\n",
       "    </tr>\n",
       "    <tr>\n",
       "      <th>4</th>\n",
       "      <td>Thailand</td>\n",
       "      <td>1.345e+10</td>\n",
       "      <td>2018</td>\n",
       "      <td>THA</td>\n",
       "      <td>10.1287</td>\n",
       "    </tr>\n",
       "    <tr>\n",
       "      <th>...</th>\n",
       "      <td>...</td>\n",
       "      <td>...</td>\n",
       "      <td>...</td>\n",
       "      <td>...</td>\n",
       "      <td>...</td>\n",
       "    </tr>\n",
       "    <tr>\n",
       "      <th>193</th>\n",
       "      <td>Vatican City State</td>\n",
       "      <td>88150</td>\n",
       "      <td>2018</td>\n",
       "      <td>VAT</td>\n",
       "      <td>4.94522</td>\n",
       "    </tr>\n",
       "    <tr>\n",
       "      <th>194</th>\n",
       "      <td>Tokelau</td>\n",
       "      <td>18280</td>\n",
       "      <td>2018</td>\n",
       "      <td>TKL</td>\n",
       "      <td>4.26198</td>\n",
       "    </tr>\n",
       "    <tr>\n",
       "      <th>195</th>\n",
       "      <td>United States Minor Outlying Islands</td>\n",
       "      <td>15450</td>\n",
       "      <td>2018</td>\n",
       "      <td>UMI</td>\n",
       "      <td>4.18893</td>\n",
       "    </tr>\n",
       "    <tr>\n",
       "      <th>196</th>\n",
       "      <td>Greenland</td>\n",
       "      <td>2590</td>\n",
       "      <td>2018</td>\n",
       "      <td>GRL</td>\n",
       "      <td>3.4133</td>\n",
       "    </tr>\n",
       "    <tr>\n",
       "      <th>197</th>\n",
       "      <td>America, nes</td>\n",
       "      <td>1660</td>\n",
       "      <td>2018</td>\n",
       "      <td></td>\n",
       "      <td>3.22011</td>\n",
       "    </tr>\n",
       "  </tbody>\n",
       "</table>\n",
       "<p>198 rows × 5 columns</p>\n",
       "</div>"
      ],
      "text/plain": [
       "                                  country      export  year code log(export)\n",
       "0                                   China  3.1429e+11  2018  CHN     11.4973\n",
       "1                           United States   4.587e+10  2018  USA     10.6615\n",
       "2                                   India    1.79e+10  2018  IND     10.2529\n",
       "3                                   Japan   1.653e+10  2018  JPN     10.2183\n",
       "4                                Thailand   1.345e+10  2018  THA     10.1287\n",
       "..                                    ...         ...   ...  ...         ...\n",
       "193                    Vatican City State       88150  2018  VAT     4.94522\n",
       "194                               Tokelau       18280  2018  TKL     4.26198\n",
       "195  United States Minor Outlying Islands       15450  2018  UMI     4.18893\n",
       "196                             Greenland        2590  2018  GRL      3.4133\n",
       "197                          America, nes        1660  2018          3.22011\n",
       "\n",
       "[198 rows x 5 columns]"
      ]
     },
     "execution_count": 5,
     "metadata": {},
     "output_type": "execute_result"
    }
   ],
   "source": [
    "df.to_csv(index=False, path_or_buf='modified_data.csv')\n",
    "df"
   ]
  },
  {
   "cell_type": "code",
   "execution_count": 24,
   "metadata": {},
   "outputs": [
    {
     "data": {
      "application/vnd.plotly.v1+json": {
       "config": {
        "plotlyServerURL": "https://plot.ly"
       },
       "data": [
        {
         "autocolorscale": false,
         "colorbar": {
          "tickprefix": "",
          "title": {
           "text": "Log(Export US$)"
          }
         },
         "colorscale": [
          [
           0,
           "rgb(247,251,255)"
          ],
          [
           0.125,
           "rgb(222,235,247)"
          ],
          [
           0.25,
           "rgb(198,219,239)"
          ],
          [
           0.375,
           "rgb(158,202,225)"
          ],
          [
           0.5,
           "rgb(107,174,214)"
          ],
          [
           0.625,
           "rgb(66,146,198)"
          ],
          [
           0.75,
           "rgb(33,113,181)"
          ],
          [
           0.875,
           "rgb(8,81,156)"
          ],
          [
           1,
           "rgb(8,48,107)"
          ]
         ],
         "locations": [
          "CHN",
          "USA",
          "IND",
          "JPN",
          "THA",
          "SGP",
          "",
          "VNM",
          "DEU",
          "NLD",
          "KOR",
          "ARE",
          "GBR",
          "MAC",
          "CHE",
          "AUS",
          "FRA",
          "MYS",
          "MEX",
          "PHL",
          "RUS",
          "ITA",
          "IDN",
          "BEL",
          "CAN",
          "ESP",
          "ISR",
          "HUN",
          "BGD",
          "CZE",
          "POL",
          "BRA",
          "ZAF",
          "TUR",
          "SAU",
          "KHM",
          "EGY",
          "SWE",
          "AUT",
          "COL",
          "NGA",
          "PAK",
          "CHL",
          "NZL",
          "LKA",
          "PER",
          "ARG",
          "ROU",
          "DNK",
          "FIN",
          "PRT",
          "QAT",
          "IRL",
          "UKR",
          "TGO",
          "SVK",
          "PAN",
          "MMR",
          "LTU",
          "IRN",
          "JOR",
          "NPL",
          "KAZ",
          "GTM",
          "EST",
          "DZA",
          "NOR",
          "MAR",
          "TUN",
          "KEN",
          "GRC",
          "SEN",
          "PRY",
          "CRI",
          "OMN",
          "ETH",
          "KWT",
          "ECU",
          "SRB",
          "BGR",
          "BHR",
          "DOM",
          "GHA",
          "LVA",
          "BLR",
          "SVN",
          "GUM",
          "IRQ",
          "URY",
          "TZA",
          "CMR",
          "HND",
          "SLV",
          "LUX",
          "HRV",
          "MUS",
          "ZMB",
          "MNP",
          "NIC",
          "AZE",
          "LBN",
          "GEO",
          "RWA",
          "BFA",
          "MWI",
          "CIV",
          "MDG",
          "MNG",
          "BOL",
          "COG",
          "ZWE",
          "ISL",
          "CYP",
          "MOZ",
          "AGO",
          "BWA",
          "ARM",
          "PNG",
          "COD",
          "UZB",
          "MDA",
          "LAO",
          "FJI",
          "GIN",
          "HTI",
          "",
          "MDV",
          "MLI",
          "LBY",
          "VEN",
          "KGZ",
          "MKD",
          "BRN",
          "MLT",
          "TTO",
          "UGA",
          "BIH",
          "NAM",
          "GAB",
          "TCD",
          "ALB",
          "BEN",
          "LSO",
          "SLB",
          "JAM",
          "SLE",
          "NER",
          "MNE",
          "SDN",
          "SUR",
          "LBR",
          "SOM",
          "VUT",
          "DJI",
          "CUB",
          "BDI",
          "SYC",
          "WSM",
          "AFG",
          "COM",
          "TKM",
          "SWZ",
          "ABW",
          "GNQ",
          "BHS",
          "FSM",
          "GNB",
          "MRT",
          "SYR",
          "GMB",
          "PRK",
          "GIB",
          "SSD",
          "BTN",
          "BRB",
          "GUY",
          "CPV",
          "TJK",
          "ASM",
          "BLZ",
          "CAF",
          "SMR",
          "AND",
          "KIR",
          "STP",
          "TON",
          "YEM",
          "MHL",
          "",
          "NRU",
          "",
          "GRD",
          "TUV",
          "VAT",
          "TKL",
          "UMI",
          "GRL",
          ""
         ],
         "marker": {
          "line": {
           "color": "darkgray",
           "width": 0.5
          }
         },
         "reversescale": false,
         "text": [
          "China",
          "United States",
          "India",
          "Japan",
          "Thailand",
          "Singapore",
          "Other Asia, nes",
          "Vietnam",
          "Germany",
          "Netherlands",
          "South Korea",
          "United Arab Emirates",
          "United Kingdom",
          "Macau",
          "Switzerland",
          "Australia",
          "France",
          "Malaysia",
          "Mexico",
          "Philippines",
          "Russia",
          "Italy",
          "Indonesia",
          "Belgium",
          "Canada",
          "Spain",
          "Israel",
          "Hungary",
          "Bangladesh",
          "Czech Republic",
          "Poland",
          "Brazil",
          "South Africa",
          "Turkey",
          "Saudi Arabia",
          "Cambodia",
          "Egypt",
          "Sweden",
          "Austria",
          "Colombia",
          "Nigeria",
          "Pakistan",
          "Chile",
          "New Zealand",
          "Sri Lanka",
          "Peru",
          "Argentina",
          "Romania",
          "Denmark",
          "Finland",
          "Portugal",
          "Qatar",
          "Ireland",
          "Ukraine",
          "Togo",
          "Slovakia",
          "Panama",
          "Myanmar",
          "Lithuania",
          "Iran",
          "Jordan",
          "Nepal",
          "Kazakhstan",
          "Guatemala",
          "Estonia",
          "Algeria",
          "Norway",
          "Morocco",
          "Tunisia",
          "Kenya",
          "Greece",
          "Senegal",
          "Paraguay",
          "Costa Rica",
          "Oman",
          "Ethiopia",
          "Kuwait",
          "Ecuador",
          "Serbia",
          "Bulgaria",
          "Bahrain",
          "Dominican Republic",
          "Ghana",
          "Latvia",
          "Belarus",
          "Slovenia",
          "Guam",
          "Iraq",
          "Uruguay",
          "Tanzania",
          "Cameroon",
          "Honduras",
          "El Salvador",
          "Luxembourg",
          "Croatia",
          "Mauritius",
          "Zambia",
          "Northern Mariana Islands",
          "Nicaragua",
          "Azerbaijan",
          "Lebanon",
          "Georgia",
          "Rwanda",
          "Burkina Faso",
          "Malawi",
          "Ivory Coast",
          "Madagascar",
          "Mongolia",
          "Bolivia",
          "Congo",
          "Zimbabwe",
          "Iceland",
          "Cyprus",
          "Mozambique",
          "Angola",
          "Botswana",
          "Armenia",
          "Papua New Guinea",
          "Republic of the Congo",
          "Uzbekistan",
          "Moldova",
          "Laos",
          "Fiji",
          "Guinea",
          "Haiti",
          "Oceania, nes",
          "Maldives",
          "Mali",
          "Libya",
          "Venezuela",
          "Kyrgyzstan",
          "Macedonia",
          "Brunei",
          "Malta",
          "Trinidad And Tobago",
          "Uganda",
          "Bosnia And Herzegovina",
          "Namibia",
          "Gabon",
          "Chad",
          "Albania",
          "Benin",
          "Lesotho",
          "Solomon Islands",
          "Jamaica",
          "Sierra Leone",
          "Niger",
          "Montenegro",
          "Sudan",
          "Suriname",
          "Liberia",
          "Somalia",
          "Vanuatu",
          "Djibouti",
          "Cuba",
          "Burundi",
          "Seychelles",
          "Samoa",
          "Afghanistan",
          "Comoros",
          "Turkmenistan",
          "Swaziland",
          "Aruba",
          "Equatorial Guinea",
          "Bahamas",
          "FS Micronesia",
          "Guinea Bissau",
          "Mauritania",
          "Syria",
          "Gambia",
          "North Korea",
          "Gibraltar",
          "South Sudan",
          "Bhutan",
          "Barbados",
          "Guyana",
          "Cape Verde",
          "Tajikistan",
          "American Samoa",
          "Belize",
          "Central African Republic",
          "San Marino",
          "Andorra",
          "Kiribati",
          "Sao Tome And Principe",
          "Tonga",
          "Yemen",
          "Marshall Islands",
          "Other Africa, nes",
          "Nauru",
          "Other Europe, nes",
          "Grenada",
          "Tuvalu",
          "Vatican City State",
          "Tokelau",
          "United States Minor Outlying Islands",
          "Greenland",
          "America, nes"
         ],
         "type": "choropleth",
         "z": [
          11.497330562965052,
          10.661528740131983,
          10.252853030979892,
          10.218272853571447,
          10.128722284338426,
          10.090963076595731,
          10.06929801211553,
          10.027757204690554,
          9.987666264926274,
          9.959518376972998,
          9.89209460269048,
          9.879095879500072,
          9.806179973983888,
          9.799340549453582,
          9.76417613239033,
          9.664641975556126,
          9.658964842664435,
          9.651278013998144,
          9.642464520242122,
          9.586587304671754,
          9.571708831808687,
          9.558708570533165,
          9.503790683057181,
          9.424881636631067,
          9.372912002970107,
          9.33645973384853,
          9.332438459915606,
          9.290034611362518,
          9.26245108973043,
          9.238046103128795,
          9.222716471147583,
          9.204119982655925,
          9.133538908370218,
          9.021189299069938,
          9,
          8.984675803167216,
          8.949833833691677,
          8.926820730401763,
          8.907561832791997,
          8.899918945937374,
          8.898478353232806,
          8.8879603249798,
          8.8782057255345,
          8.81991884617903,
          8.71563570812853,
          8.711663846031191,
          8.682794677681105,
          8.678481958688556,
          8.666583494177326,
          8.590038907203445,
          8.574123907335984,
          8.512430894876465,
          8.49614056268429,
          8.49394574838715,
          8.488832634382401,
          8.438589810070448,
          8.418367590759903,
          8.40823996531185,
          8.379033431817968,
          8.363423932917176,
          8.351255033547634,
          8.344569099688464,
          8.311139058288992,
          8.298416380061294,
          8.28712962071911,
          8.284814097381231,
          8.272421826371504,
          8.266819454909125,
          8.265737364317491,
          8.26370706460743,
          8.253531843527005,
          8.24843920814151,
          8.239499684031626,
          8.221101119961505,
          8.203087306472447,
          8.20240657263938,
          8.168261710182875,
          8.146562113157557,
          8.141230218896581,
          8.122478014681512,
          8.059979716944161,
          8.043951418263276,
          8.039057018033443,
          8.033504172945175,
          8.014940349792937,
          8.002813779224674,
          7.998608029315094,
          7.961136217387225,
          7.9589936650303255,
          7.938469688367645,
          7.928703027430597,
          7.903903526690164,
          7.8755821043278855,
          7.8568496787251725,
          7.844601419626347,
          7.830267800933642,
          7.797613730153076,
          7.7780788619374555,
          7.746478509930031,
          7.734639838987699,
          7.732071940999867,
          7.715167357848458,
          7.687707279624819,
          7.672928690442722,
          7.668758541750957,
          7.620448384711709,
          7.611617110554336,
          7.609914410085998,
          7.587374172073066,
          7.586474778571397,
          7.544068044350276,
          7.52022143588196,
          7.517987203025078,
          7.500099191915723,
          7.494293768665333,
          7.4766867429456445,
          7.44870631990508,
          7.429590802223301,
          7.4284587735155805,
          7.411788004543869,
          7.406028944963615,
          7.405517106976376,
          7.4017450822370625,
          7.3951515915045425,
          7.373463721632369,
          7.356599435724971,
          7.348499570283837,
          7.348110068480238,
          7.318480725174517,
          7.304921161900892,
          7.292477593667784,
          7.27943878828702,
          7.265053788504015,
          7.2638726768652235,
          7.243286146083446,
          7.227115082589125,
          7.217483944213907,
          7.210318519826232,
          7.207365037469072,
          7.1423894661188365,
          7.094121595840561,
          7.063333358951749,
          7.0269416279590295,
          7.006037954997317,
          6.9304395947667,
          6.920123326290724,
          6.791690649020118,
          6.750508394851346,
          6.748188027006201,
          6.726727209026572,
          6.713490543093942,
          6.710963118995275,
          6.710117365111817,
          6.661812685537261,
          6.605305046141109,
          6.595496221825574,
          6.57287160220048,
          6.465382851448418,
          6.459392487759231,
          6.4361626470407565,
          6.431363764158987,
          6.409933123331294,
          6.382017042574868,
          6.376576957056512,
          6.3747483460101035,
          6.3747483460101035,
          6.365487984890899,
          6.267171728403014,
          6.227886704613674,
          6.220108088040055,
          6.204119982655925,
          6.201397124320452,
          6.187520720836463,
          6.161368002234975,
          6.158362492095249,
          6.146128035678238,
          6.146128035678238,
          6.096910013008056,
          6.08278537031645,
          6.02938377768521,
          5.983874255743606,
          5.978271841610635,
          5.935250240611644,
          5.927616701379096,
          5.91353835876603,
          5.893323363798492,
          5.759025369160864,
          5.715886402454576,
          5.651704343897262,
          5.61244476282634,
          5.592731766393962,
          5.347017601324949,
          5.067033639842262,
          4.94522231663534,
          4.261976191397813,
          4.188928483760853,
          3.413299764081252,
          3.220108088040055
         ]
        }
       ],
       "layout": {
        "annotations": [
         {
          "showarrow": false,
          "text": "Source: <a href=\"https://tradingeconomics.com/hong-kong/exports-by-country\">            Trading Economics</a>",
          "x": 0.55,
          "xref": "paper",
          "y": 0.1,
          "yref": "paper"
         }
        ],
        "geo": {
         "projection": {
          "type": "equirectangular"
         },
         "showcoastlines": true,
         "showframe": false
        },
        "template": {
         "data": {
          "bar": [
           {
            "error_x": {
             "color": "#2a3f5f"
            },
            "error_y": {
             "color": "#2a3f5f"
            },
            "marker": {
             "line": {
              "color": "#E5ECF6",
              "width": 0.5
             }
            },
            "type": "bar"
           }
          ],
          "barpolar": [
           {
            "marker": {
             "line": {
              "color": "#E5ECF6",
              "width": 0.5
             }
            },
            "type": "barpolar"
           }
          ],
          "carpet": [
           {
            "aaxis": {
             "endlinecolor": "#2a3f5f",
             "gridcolor": "white",
             "linecolor": "white",
             "minorgridcolor": "white",
             "startlinecolor": "#2a3f5f"
            },
            "baxis": {
             "endlinecolor": "#2a3f5f",
             "gridcolor": "white",
             "linecolor": "white",
             "minorgridcolor": "white",
             "startlinecolor": "#2a3f5f"
            },
            "type": "carpet"
           }
          ],
          "choropleth": [
           {
            "colorbar": {
             "outlinewidth": 0,
             "ticks": ""
            },
            "type": "choropleth"
           }
          ],
          "contour": [
           {
            "colorbar": {
             "outlinewidth": 0,
             "ticks": ""
            },
            "colorscale": [
             [
              0,
              "#0d0887"
             ],
             [
              0.1111111111111111,
              "#46039f"
             ],
             [
              0.2222222222222222,
              "#7201a8"
             ],
             [
              0.3333333333333333,
              "#9c179e"
             ],
             [
              0.4444444444444444,
              "#bd3786"
             ],
             [
              0.5555555555555556,
              "#d8576b"
             ],
             [
              0.6666666666666666,
              "#ed7953"
             ],
             [
              0.7777777777777778,
              "#fb9f3a"
             ],
             [
              0.8888888888888888,
              "#fdca26"
             ],
             [
              1,
              "#f0f921"
             ]
            ],
            "type": "contour"
           }
          ],
          "contourcarpet": [
           {
            "colorbar": {
             "outlinewidth": 0,
             "ticks": ""
            },
            "type": "contourcarpet"
           }
          ],
          "heatmap": [
           {
            "colorbar": {
             "outlinewidth": 0,
             "ticks": ""
            },
            "colorscale": [
             [
              0,
              "#0d0887"
             ],
             [
              0.1111111111111111,
              "#46039f"
             ],
             [
              0.2222222222222222,
              "#7201a8"
             ],
             [
              0.3333333333333333,
              "#9c179e"
             ],
             [
              0.4444444444444444,
              "#bd3786"
             ],
             [
              0.5555555555555556,
              "#d8576b"
             ],
             [
              0.6666666666666666,
              "#ed7953"
             ],
             [
              0.7777777777777778,
              "#fb9f3a"
             ],
             [
              0.8888888888888888,
              "#fdca26"
             ],
             [
              1,
              "#f0f921"
             ]
            ],
            "type": "heatmap"
           }
          ],
          "heatmapgl": [
           {
            "colorbar": {
             "outlinewidth": 0,
             "ticks": ""
            },
            "colorscale": [
             [
              0,
              "#0d0887"
             ],
             [
              0.1111111111111111,
              "#46039f"
             ],
             [
              0.2222222222222222,
              "#7201a8"
             ],
             [
              0.3333333333333333,
              "#9c179e"
             ],
             [
              0.4444444444444444,
              "#bd3786"
             ],
             [
              0.5555555555555556,
              "#d8576b"
             ],
             [
              0.6666666666666666,
              "#ed7953"
             ],
             [
              0.7777777777777778,
              "#fb9f3a"
             ],
             [
              0.8888888888888888,
              "#fdca26"
             ],
             [
              1,
              "#f0f921"
             ]
            ],
            "type": "heatmapgl"
           }
          ],
          "histogram": [
           {
            "marker": {
             "colorbar": {
              "outlinewidth": 0,
              "ticks": ""
             }
            },
            "type": "histogram"
           }
          ],
          "histogram2d": [
           {
            "colorbar": {
             "outlinewidth": 0,
             "ticks": ""
            },
            "colorscale": [
             [
              0,
              "#0d0887"
             ],
             [
              0.1111111111111111,
              "#46039f"
             ],
             [
              0.2222222222222222,
              "#7201a8"
             ],
             [
              0.3333333333333333,
              "#9c179e"
             ],
             [
              0.4444444444444444,
              "#bd3786"
             ],
             [
              0.5555555555555556,
              "#d8576b"
             ],
             [
              0.6666666666666666,
              "#ed7953"
             ],
             [
              0.7777777777777778,
              "#fb9f3a"
             ],
             [
              0.8888888888888888,
              "#fdca26"
             ],
             [
              1,
              "#f0f921"
             ]
            ],
            "type": "histogram2d"
           }
          ],
          "histogram2dcontour": [
           {
            "colorbar": {
             "outlinewidth": 0,
             "ticks": ""
            },
            "colorscale": [
             [
              0,
              "#0d0887"
             ],
             [
              0.1111111111111111,
              "#46039f"
             ],
             [
              0.2222222222222222,
              "#7201a8"
             ],
             [
              0.3333333333333333,
              "#9c179e"
             ],
             [
              0.4444444444444444,
              "#bd3786"
             ],
             [
              0.5555555555555556,
              "#d8576b"
             ],
             [
              0.6666666666666666,
              "#ed7953"
             ],
             [
              0.7777777777777778,
              "#fb9f3a"
             ],
             [
              0.8888888888888888,
              "#fdca26"
             ],
             [
              1,
              "#f0f921"
             ]
            ],
            "type": "histogram2dcontour"
           }
          ],
          "mesh3d": [
           {
            "colorbar": {
             "outlinewidth": 0,
             "ticks": ""
            },
            "type": "mesh3d"
           }
          ],
          "parcoords": [
           {
            "line": {
             "colorbar": {
              "outlinewidth": 0,
              "ticks": ""
             }
            },
            "type": "parcoords"
           }
          ],
          "pie": [
           {
            "automargin": true,
            "type": "pie"
           }
          ],
          "scatter": [
           {
            "marker": {
             "colorbar": {
              "outlinewidth": 0,
              "ticks": ""
             }
            },
            "type": "scatter"
           }
          ],
          "scatter3d": [
           {
            "line": {
             "colorbar": {
              "outlinewidth": 0,
              "ticks": ""
             }
            },
            "marker": {
             "colorbar": {
              "outlinewidth": 0,
              "ticks": ""
             }
            },
            "type": "scatter3d"
           }
          ],
          "scattercarpet": [
           {
            "marker": {
             "colorbar": {
              "outlinewidth": 0,
              "ticks": ""
             }
            },
            "type": "scattercarpet"
           }
          ],
          "scattergeo": [
           {
            "marker": {
             "colorbar": {
              "outlinewidth": 0,
              "ticks": ""
             }
            },
            "type": "scattergeo"
           }
          ],
          "scattergl": [
           {
            "marker": {
             "colorbar": {
              "outlinewidth": 0,
              "ticks": ""
             }
            },
            "type": "scattergl"
           }
          ],
          "scattermapbox": [
           {
            "marker": {
             "colorbar": {
              "outlinewidth": 0,
              "ticks": ""
             }
            },
            "type": "scattermapbox"
           }
          ],
          "scatterpolar": [
           {
            "marker": {
             "colorbar": {
              "outlinewidth": 0,
              "ticks": ""
             }
            },
            "type": "scatterpolar"
           }
          ],
          "scatterpolargl": [
           {
            "marker": {
             "colorbar": {
              "outlinewidth": 0,
              "ticks": ""
             }
            },
            "type": "scatterpolargl"
           }
          ],
          "scatterternary": [
           {
            "marker": {
             "colorbar": {
              "outlinewidth": 0,
              "ticks": ""
             }
            },
            "type": "scatterternary"
           }
          ],
          "surface": [
           {
            "colorbar": {
             "outlinewidth": 0,
             "ticks": ""
            },
            "colorscale": [
             [
              0,
              "#0d0887"
             ],
             [
              0.1111111111111111,
              "#46039f"
             ],
             [
              0.2222222222222222,
              "#7201a8"
             ],
             [
              0.3333333333333333,
              "#9c179e"
             ],
             [
              0.4444444444444444,
              "#bd3786"
             ],
             [
              0.5555555555555556,
              "#d8576b"
             ],
             [
              0.6666666666666666,
              "#ed7953"
             ],
             [
              0.7777777777777778,
              "#fb9f3a"
             ],
             [
              0.8888888888888888,
              "#fdca26"
             ],
             [
              1,
              "#f0f921"
             ]
            ],
            "type": "surface"
           }
          ],
          "table": [
           {
            "cells": {
             "fill": {
              "color": "#EBF0F8"
             },
             "line": {
              "color": "white"
             }
            },
            "header": {
             "fill": {
              "color": "#C8D4E3"
             },
             "line": {
              "color": "white"
             }
            },
            "type": "table"
           }
          ]
         },
         "layout": {
          "annotationdefaults": {
           "arrowcolor": "#2a3f5f",
           "arrowhead": 0,
           "arrowwidth": 1
          },
          "coloraxis": {
           "colorbar": {
            "outlinewidth": 0,
            "ticks": ""
           }
          },
          "colorscale": {
           "diverging": [
            [
             0,
             "#8e0152"
            ],
            [
             0.1,
             "#c51b7d"
            ],
            [
             0.2,
             "#de77ae"
            ],
            [
             0.3,
             "#f1b6da"
            ],
            [
             0.4,
             "#fde0ef"
            ],
            [
             0.5,
             "#f7f7f7"
            ],
            [
             0.6,
             "#e6f5d0"
            ],
            [
             0.7,
             "#b8e186"
            ],
            [
             0.8,
             "#7fbc41"
            ],
            [
             0.9,
             "#4d9221"
            ],
            [
             1,
             "#276419"
            ]
           ],
           "sequential": [
            [
             0,
             "#0d0887"
            ],
            [
             0.1111111111111111,
             "#46039f"
            ],
            [
             0.2222222222222222,
             "#7201a8"
            ],
            [
             0.3333333333333333,
             "#9c179e"
            ],
            [
             0.4444444444444444,
             "#bd3786"
            ],
            [
             0.5555555555555556,
             "#d8576b"
            ],
            [
             0.6666666666666666,
             "#ed7953"
            ],
            [
             0.7777777777777778,
             "#fb9f3a"
            ],
            [
             0.8888888888888888,
             "#fdca26"
            ],
            [
             1,
             "#f0f921"
            ]
           ],
           "sequentialminus": [
            [
             0,
             "#0d0887"
            ],
            [
             0.1111111111111111,
             "#46039f"
            ],
            [
             0.2222222222222222,
             "#7201a8"
            ],
            [
             0.3333333333333333,
             "#9c179e"
            ],
            [
             0.4444444444444444,
             "#bd3786"
            ],
            [
             0.5555555555555556,
             "#d8576b"
            ],
            [
             0.6666666666666666,
             "#ed7953"
            ],
            [
             0.7777777777777778,
             "#fb9f3a"
            ],
            [
             0.8888888888888888,
             "#fdca26"
            ],
            [
             1,
             "#f0f921"
            ]
           ]
          },
          "colorway": [
           "#636efa",
           "#EF553B",
           "#00cc96",
           "#ab63fa",
           "#FFA15A",
           "#19d3f3",
           "#FF6692",
           "#B6E880",
           "#FF97FF",
           "#FECB52"
          ],
          "font": {
           "color": "#2a3f5f"
          },
          "geo": {
           "bgcolor": "white",
           "lakecolor": "white",
           "landcolor": "#E5ECF6",
           "showlakes": true,
           "showland": true,
           "subunitcolor": "white"
          },
          "hoverlabel": {
           "align": "left"
          },
          "hovermode": "closest",
          "mapbox": {
           "style": "light"
          },
          "paper_bgcolor": "white",
          "plot_bgcolor": "#E5ECF6",
          "polar": {
           "angularaxis": {
            "gridcolor": "white",
            "linecolor": "white",
            "ticks": ""
           },
           "bgcolor": "#E5ECF6",
           "radialaxis": {
            "gridcolor": "white",
            "linecolor": "white",
            "ticks": ""
           }
          },
          "scene": {
           "xaxis": {
            "backgroundcolor": "#E5ECF6",
            "gridcolor": "white",
            "gridwidth": 2,
            "linecolor": "white",
            "showbackground": true,
            "ticks": "",
            "zerolinecolor": "white"
           },
           "yaxis": {
            "backgroundcolor": "#E5ECF6",
            "gridcolor": "white",
            "gridwidth": 2,
            "linecolor": "white",
            "showbackground": true,
            "ticks": "",
            "zerolinecolor": "white"
           },
           "zaxis": {
            "backgroundcolor": "#E5ECF6",
            "gridcolor": "white",
            "gridwidth": 2,
            "linecolor": "white",
            "showbackground": true,
            "ticks": "",
            "zerolinecolor": "white"
           }
          },
          "shapedefaults": {
           "line": {
            "color": "#2a3f5f"
           }
          },
          "ternary": {
           "aaxis": {
            "gridcolor": "white",
            "linecolor": "white",
            "ticks": ""
           },
           "baxis": {
            "gridcolor": "white",
            "linecolor": "white",
            "ticks": ""
           },
           "bgcolor": "#E5ECF6",
           "caxis": {
            "gridcolor": "white",
            "linecolor": "white",
            "ticks": ""
           }
          },
          "title": {
           "x": 0.05
          },
          "xaxis": {
           "automargin": true,
           "gridcolor": "white",
           "linecolor": "white",
           "ticks": "",
           "title": {
            "standoff": 15
           },
           "zerolinecolor": "white",
           "zerolinewidth": 2
          },
          "yaxis": {
           "automargin": true,
           "gridcolor": "white",
           "linecolor": "white",
           "ticks": "",
           "title": {
            "standoff": 15
           },
           "zerolinecolor": "white",
           "zerolinewidth": 2
          }
         }
        },
        "title": {
         "text": "2018 HK Export in Log Scale"
        }
       }
      },
      "text/html": [
       "<div>\n",
       "        \n",
       "        \n",
       "            <div id=\"0d01b479-34f1-4b4a-9a23-8e60f9c26b68\" class=\"plotly-graph-div\" style=\"height:525px; width:100%;\"></div>\n",
       "            <script type=\"text/javascript\">\n",
       "                require([\"plotly\"], function(Plotly) {\n",
       "                    window.PLOTLYENV=window.PLOTLYENV || {};\n",
       "                    \n",
       "                if (document.getElementById(\"0d01b479-34f1-4b4a-9a23-8e60f9c26b68\")) {\n",
       "                    Plotly.newPlot(\n",
       "                        '0d01b479-34f1-4b4a-9a23-8e60f9c26b68',\n",
       "                        [{\"autocolorscale\": false, \"colorbar\": {\"tickprefix\": \"\", \"title\": {\"text\": \"Log(Export US$)\"}}, \"colorscale\": [[0.0, \"rgb(247,251,255)\"], [0.125, \"rgb(222,235,247)\"], [0.25, \"rgb(198,219,239)\"], [0.375, \"rgb(158,202,225)\"], [0.5, \"rgb(107,174,214)\"], [0.625, \"rgb(66,146,198)\"], [0.75, \"rgb(33,113,181)\"], [0.875, \"rgb(8,81,156)\"], [1.0, \"rgb(8,48,107)\"]], \"locations\": [\"CHN\", \"USA\", \"IND\", \"JPN\", \"THA\", \"SGP\", \"\", \"VNM\", \"DEU\", \"NLD\", \"KOR\", \"ARE\", \"GBR\", \"MAC\", \"CHE\", \"AUS\", \"FRA\", \"MYS\", \"MEX\", \"PHL\", \"RUS\", \"ITA\", \"IDN\", \"BEL\", \"CAN\", \"ESP\", \"ISR\", \"HUN\", \"BGD\", \"CZE\", \"POL\", \"BRA\", \"ZAF\", \"TUR\", \"SAU\", \"KHM\", \"EGY\", \"SWE\", \"AUT\", \"COL\", \"NGA\", \"PAK\", \"CHL\", \"NZL\", \"LKA\", \"PER\", \"ARG\", \"ROU\", \"DNK\", \"FIN\", \"PRT\", \"QAT\", \"IRL\", \"UKR\", \"TGO\", \"SVK\", \"PAN\", \"MMR\", \"LTU\", \"IRN\", \"JOR\", \"NPL\", \"KAZ\", \"GTM\", \"EST\", \"DZA\", \"NOR\", \"MAR\", \"TUN\", \"KEN\", \"GRC\", \"SEN\", \"PRY\", \"CRI\", \"OMN\", \"ETH\", \"KWT\", \"ECU\", \"SRB\", \"BGR\", \"BHR\", \"DOM\", \"GHA\", \"LVA\", \"BLR\", \"SVN\", \"GUM\", \"IRQ\", \"URY\", \"TZA\", \"CMR\", \"HND\", \"SLV\", \"LUX\", \"HRV\", \"MUS\", \"ZMB\", \"MNP\", \"NIC\", \"AZE\", \"LBN\", \"GEO\", \"RWA\", \"BFA\", \"MWI\", \"CIV\", \"MDG\", \"MNG\", \"BOL\", \"COG\", \"ZWE\", \"ISL\", \"CYP\", \"MOZ\", \"AGO\", \"BWA\", \"ARM\", \"PNG\", \"COD\", \"UZB\", \"MDA\", \"LAO\", \"FJI\", \"GIN\", \"HTI\", \"\", \"MDV\", \"MLI\", \"LBY\", \"VEN\", \"KGZ\", \"MKD\", \"BRN\", \"MLT\", \"TTO\", \"UGA\", \"BIH\", \"NAM\", \"GAB\", \"TCD\", \"ALB\", \"BEN\", \"LSO\", \"SLB\", \"JAM\", \"SLE\", \"NER\", \"MNE\", \"SDN\", \"SUR\", \"LBR\", \"SOM\", \"VUT\", \"DJI\", \"CUB\", \"BDI\", \"SYC\", \"WSM\", \"AFG\", \"COM\", \"TKM\", \"SWZ\", \"ABW\", \"GNQ\", \"BHS\", \"FSM\", \"GNB\", \"MRT\", \"SYR\", \"GMB\", \"PRK\", \"GIB\", \"SSD\", \"BTN\", \"BRB\", \"GUY\", \"CPV\", \"TJK\", \"ASM\", \"BLZ\", \"CAF\", \"SMR\", \"AND\", \"KIR\", \"STP\", \"TON\", \"YEM\", \"MHL\", \"\", \"NRU\", \"\", \"GRD\", \"TUV\", \"VAT\", \"TKL\", \"UMI\", \"GRL\", \"\"], \"marker\": {\"line\": {\"color\": \"darkgray\", \"width\": 0.5}}, \"reversescale\": false, \"text\": [\"China\", \"United States\", \"India\", \"Japan\", \"Thailand\", \"Singapore\", \"Other Asia, nes\", \"Vietnam\", \"Germany\", \"Netherlands\", \"South Korea\", \"United Arab Emirates\", \"United Kingdom\", \"Macau\", \"Switzerland\", \"Australia\", \"France\", \"Malaysia\", \"Mexico\", \"Philippines\", \"Russia\", \"Italy\", \"Indonesia\", \"Belgium\", \"Canada\", \"Spain\", \"Israel\", \"Hungary\", \"Bangladesh\", \"Czech Republic\", \"Poland\", \"Brazil\", \"South Africa\", \"Turkey\", \"Saudi Arabia\", \"Cambodia\", \"Egypt\", \"Sweden\", \"Austria\", \"Colombia\", \"Nigeria\", \"Pakistan\", \"Chile\", \"New Zealand\", \"Sri Lanka\", \"Peru\", \"Argentina\", \"Romania\", \"Denmark\", \"Finland\", \"Portugal\", \"Qatar\", \"Ireland\", \"Ukraine\", \"Togo\", \"Slovakia\", \"Panama\", \"Myanmar\", \"Lithuania\", \"Iran\", \"Jordan\", \"Nepal\", \"Kazakhstan\", \"Guatemala\", \"Estonia\", \"Algeria\", \"Norway\", \"Morocco\", \"Tunisia\", \"Kenya\", \"Greece\", \"Senegal\", \"Paraguay\", \"Costa Rica\", \"Oman\", \"Ethiopia\", \"Kuwait\", \"Ecuador\", \"Serbia\", \"Bulgaria\", \"Bahrain\", \"Dominican Republic\", \"Ghana\", \"Latvia\", \"Belarus\", \"Slovenia\", \"Guam\", \"Iraq\", \"Uruguay\", \"Tanzania\", \"Cameroon\", \"Honduras\", \"El Salvador\", \"Luxembourg\", \"Croatia\", \"Mauritius\", \"Zambia\", \"Northern Mariana Islands\", \"Nicaragua\", \"Azerbaijan\", \"Lebanon\", \"Georgia\", \"Rwanda\", \"Burkina Faso\", \"Malawi\", \"Ivory Coast\", \"Madagascar\", \"Mongolia\", \"Bolivia\", \"Congo\", \"Zimbabwe\", \"Iceland\", \"Cyprus\", \"Mozambique\", \"Angola\", \"Botswana\", \"Armenia\", \"Papua New Guinea\", \"Republic of the Congo\", \"Uzbekistan\", \"Moldova\", \"Laos\", \"Fiji\", \"Guinea\", \"Haiti\", \"Oceania, nes\", \"Maldives\", \"Mali\", \"Libya\", \"Venezuela\", \"Kyrgyzstan\", \"Macedonia\", \"Brunei\", \"Malta\", \"Trinidad And Tobago\", \"Uganda\", \"Bosnia And Herzegovina\", \"Namibia\", \"Gabon\", \"Chad\", \"Albania\", \"Benin\", \"Lesotho\", \"Solomon Islands\", \"Jamaica\", \"Sierra Leone\", \"Niger\", \"Montenegro\", \"Sudan\", \"Suriname\", \"Liberia\", \"Somalia\", \"Vanuatu\", \"Djibouti\", \"Cuba\", \"Burundi\", \"Seychelles\", \"Samoa\", \"Afghanistan\", \"Comoros\", \"Turkmenistan\", \"Swaziland\", \"Aruba\", \"Equatorial Guinea\", \"Bahamas\", \"FS Micronesia\", \"Guinea Bissau\", \"Mauritania\", \"Syria\", \"Gambia\", \"North Korea\", \"Gibraltar\", \"South Sudan\", \"Bhutan\", \"Barbados\", \"Guyana\", \"Cape Verde\", \"Tajikistan\", \"American Samoa\", \"Belize\", \"Central African Republic\", \"San Marino\", \"Andorra\", \"Kiribati\", \"Sao Tome And Principe\", \"Tonga\", \"Yemen\", \"Marshall Islands\", \"Other Africa, nes\", \"Nauru\", \"Other Europe, nes\", \"Grenada\", \"Tuvalu\", \"Vatican City State\", \"Tokelau\", \"United States Minor Outlying Islands\", \"Greenland\", \"America, nes\"], \"type\": \"choropleth\", \"z\": [11.497330562965052, 10.661528740131983, 10.252853030979892, 10.218272853571447, 10.128722284338426, 10.090963076595731, 10.06929801211553, 10.027757204690554, 9.987666264926274, 9.959518376972998, 9.89209460269048, 9.879095879500072, 9.806179973983888, 9.799340549453582, 9.76417613239033, 9.664641975556126, 9.658964842664435, 9.651278013998144, 9.642464520242122, 9.586587304671754, 9.571708831808687, 9.558708570533165, 9.503790683057181, 9.424881636631067, 9.372912002970107, 9.33645973384853, 9.332438459915606, 9.290034611362518, 9.26245108973043, 9.238046103128795, 9.222716471147583, 9.204119982655925, 9.133538908370218, 9.021189299069938, 9.0, 8.984675803167216, 8.949833833691677, 8.926820730401763, 8.907561832791997, 8.899918945937374, 8.898478353232806, 8.8879603249798, 8.8782057255345, 8.81991884617903, 8.71563570812853, 8.711663846031191, 8.682794677681105, 8.678481958688556, 8.666583494177326, 8.590038907203445, 8.574123907335984, 8.512430894876465, 8.49614056268429, 8.49394574838715, 8.488832634382401, 8.438589810070448, 8.418367590759903, 8.40823996531185, 8.379033431817968, 8.363423932917176, 8.351255033547634, 8.344569099688464, 8.311139058288992, 8.298416380061294, 8.28712962071911, 8.284814097381231, 8.272421826371504, 8.266819454909125, 8.265737364317491, 8.26370706460743, 8.253531843527005, 8.24843920814151, 8.239499684031626, 8.221101119961505, 8.203087306472447, 8.20240657263938, 8.168261710182875, 8.146562113157557, 8.141230218896581, 8.122478014681512, 8.059979716944161, 8.043951418263276, 8.039057018033443, 8.033504172945175, 8.014940349792937, 8.002813779224674, 7.998608029315094, 7.961136217387225, 7.9589936650303255, 7.938469688367645, 7.928703027430597, 7.903903526690164, 7.8755821043278855, 7.8568496787251725, 7.844601419626347, 7.830267800933642, 7.797613730153076, 7.7780788619374555, 7.746478509930031, 7.734639838987699, 7.732071940999867, 7.715167357848458, 7.687707279624819, 7.672928690442722, 7.668758541750957, 7.620448384711709, 7.611617110554336, 7.609914410085998, 7.587374172073066, 7.586474778571397, 7.544068044350276, 7.52022143588196, 7.517987203025078, 7.500099191915723, 7.494293768665333, 7.4766867429456445, 7.44870631990508, 7.429590802223301, 7.4284587735155805, 7.411788004543869, 7.406028944963615, 7.405517106976376, 7.4017450822370625, 7.3951515915045425, 7.373463721632369, 7.356599435724971, 7.348499570283837, 7.348110068480238, 7.318480725174517, 7.304921161900892, 7.292477593667784, 7.27943878828702, 7.265053788504015, 7.2638726768652235, 7.243286146083446, 7.227115082589125, 7.217483944213907, 7.210318519826232, 7.207365037469072, 7.1423894661188365, 7.094121595840561, 7.063333358951749, 7.0269416279590295, 7.006037954997317, 6.9304395947667, 6.920123326290724, 6.791690649020118, 6.750508394851346, 6.748188027006201, 6.726727209026572, 6.713490543093942, 6.710963118995275, 6.710117365111817, 6.661812685537261, 6.605305046141109, 6.595496221825574, 6.57287160220048, 6.465382851448418, 6.459392487759231, 6.4361626470407565, 6.431363764158987, 6.409933123331294, 6.382017042574868, 6.376576957056512, 6.3747483460101035, 6.3747483460101035, 6.365487984890899, 6.267171728403014, 6.227886704613674, 6.220108088040055, 6.204119982655925, 6.201397124320452, 6.187520720836463, 6.161368002234975, 6.158362492095249, 6.146128035678238, 6.146128035678238, 6.096910013008056, 6.08278537031645, 6.02938377768521, 5.983874255743606, 5.978271841610635, 5.935250240611644, 5.927616701379096, 5.91353835876603, 5.893323363798492, 5.759025369160864, 5.715886402454576, 5.651704343897262, 5.61244476282634, 5.592731766393962, 5.347017601324949, 5.067033639842262, 4.94522231663534, 4.261976191397813, 4.188928483760853, 3.413299764081252, 3.220108088040055]}],\n",
       "                        {\"annotations\": [{\"showarrow\": false, \"text\": \"Source: <a href=\\\"https://tradingeconomics.com/hong-kong/exports-by-country\\\">            Trading Economics</a>\", \"x\": 0.55, \"xref\": \"paper\", \"y\": 0.1, \"yref\": \"paper\"}], \"geo\": {\"projection\": {\"type\": \"equirectangular\"}, \"showcoastlines\": true, \"showframe\": false}, \"template\": {\"data\": {\"bar\": [{\"error_x\": {\"color\": \"#2a3f5f\"}, \"error_y\": {\"color\": \"#2a3f5f\"}, \"marker\": {\"line\": {\"color\": \"#E5ECF6\", \"width\": 0.5}}, \"type\": \"bar\"}], \"barpolar\": [{\"marker\": {\"line\": {\"color\": \"#E5ECF6\", \"width\": 0.5}}, \"type\": \"barpolar\"}], \"carpet\": [{\"aaxis\": {\"endlinecolor\": \"#2a3f5f\", \"gridcolor\": \"white\", \"linecolor\": \"white\", \"minorgridcolor\": \"white\", \"startlinecolor\": \"#2a3f5f\"}, \"baxis\": {\"endlinecolor\": \"#2a3f5f\", \"gridcolor\": \"white\", \"linecolor\": \"white\", \"minorgridcolor\": \"white\", \"startlinecolor\": \"#2a3f5f\"}, \"type\": \"carpet\"}], \"choropleth\": [{\"colorbar\": {\"outlinewidth\": 0, \"ticks\": \"\"}, \"type\": \"choropleth\"}], \"contour\": [{\"colorbar\": {\"outlinewidth\": 0, \"ticks\": \"\"}, \"colorscale\": [[0.0, \"#0d0887\"], [0.1111111111111111, \"#46039f\"], [0.2222222222222222, \"#7201a8\"], [0.3333333333333333, \"#9c179e\"], [0.4444444444444444, \"#bd3786\"], [0.5555555555555556, \"#d8576b\"], [0.6666666666666666, \"#ed7953\"], [0.7777777777777778, \"#fb9f3a\"], [0.8888888888888888, \"#fdca26\"], [1.0, \"#f0f921\"]], \"type\": \"contour\"}], \"contourcarpet\": [{\"colorbar\": {\"outlinewidth\": 0, \"ticks\": \"\"}, \"type\": \"contourcarpet\"}], \"heatmap\": [{\"colorbar\": {\"outlinewidth\": 0, \"ticks\": \"\"}, \"colorscale\": [[0.0, \"#0d0887\"], [0.1111111111111111, \"#46039f\"], [0.2222222222222222, \"#7201a8\"], [0.3333333333333333, \"#9c179e\"], [0.4444444444444444, \"#bd3786\"], [0.5555555555555556, \"#d8576b\"], [0.6666666666666666, \"#ed7953\"], [0.7777777777777778, \"#fb9f3a\"], [0.8888888888888888, \"#fdca26\"], [1.0, \"#f0f921\"]], \"type\": \"heatmap\"}], \"heatmapgl\": [{\"colorbar\": {\"outlinewidth\": 0, \"ticks\": \"\"}, \"colorscale\": [[0.0, \"#0d0887\"], [0.1111111111111111, \"#46039f\"], [0.2222222222222222, \"#7201a8\"], [0.3333333333333333, \"#9c179e\"], [0.4444444444444444, \"#bd3786\"], [0.5555555555555556, \"#d8576b\"], [0.6666666666666666, \"#ed7953\"], [0.7777777777777778, \"#fb9f3a\"], [0.8888888888888888, \"#fdca26\"], [1.0, \"#f0f921\"]], \"type\": \"heatmapgl\"}], \"histogram\": [{\"marker\": {\"colorbar\": {\"outlinewidth\": 0, \"ticks\": \"\"}}, \"type\": \"histogram\"}], \"histogram2d\": [{\"colorbar\": {\"outlinewidth\": 0, \"ticks\": \"\"}, \"colorscale\": [[0.0, \"#0d0887\"], [0.1111111111111111, \"#46039f\"], [0.2222222222222222, \"#7201a8\"], [0.3333333333333333, \"#9c179e\"], [0.4444444444444444, \"#bd3786\"], [0.5555555555555556, \"#d8576b\"], [0.6666666666666666, \"#ed7953\"], [0.7777777777777778, \"#fb9f3a\"], [0.8888888888888888, \"#fdca26\"], [1.0, \"#f0f921\"]], \"type\": \"histogram2d\"}], \"histogram2dcontour\": [{\"colorbar\": {\"outlinewidth\": 0, \"ticks\": \"\"}, \"colorscale\": [[0.0, \"#0d0887\"], [0.1111111111111111, \"#46039f\"], [0.2222222222222222, \"#7201a8\"], [0.3333333333333333, \"#9c179e\"], [0.4444444444444444, \"#bd3786\"], [0.5555555555555556, \"#d8576b\"], [0.6666666666666666, \"#ed7953\"], [0.7777777777777778, \"#fb9f3a\"], [0.8888888888888888, \"#fdca26\"], [1.0, \"#f0f921\"]], \"type\": \"histogram2dcontour\"}], \"mesh3d\": [{\"colorbar\": {\"outlinewidth\": 0, \"ticks\": \"\"}, \"type\": \"mesh3d\"}], \"parcoords\": [{\"line\": {\"colorbar\": {\"outlinewidth\": 0, \"ticks\": \"\"}}, \"type\": \"parcoords\"}], \"pie\": [{\"automargin\": true, \"type\": \"pie\"}], \"scatter\": [{\"marker\": {\"colorbar\": {\"outlinewidth\": 0, \"ticks\": \"\"}}, \"type\": \"scatter\"}], \"scatter3d\": [{\"line\": {\"colorbar\": {\"outlinewidth\": 0, \"ticks\": \"\"}}, \"marker\": {\"colorbar\": {\"outlinewidth\": 0, \"ticks\": \"\"}}, \"type\": \"scatter3d\"}], \"scattercarpet\": [{\"marker\": {\"colorbar\": {\"outlinewidth\": 0, \"ticks\": \"\"}}, \"type\": \"scattercarpet\"}], \"scattergeo\": [{\"marker\": {\"colorbar\": {\"outlinewidth\": 0, \"ticks\": \"\"}}, \"type\": \"scattergeo\"}], \"scattergl\": [{\"marker\": {\"colorbar\": {\"outlinewidth\": 0, \"ticks\": \"\"}}, \"type\": \"scattergl\"}], \"scattermapbox\": [{\"marker\": {\"colorbar\": {\"outlinewidth\": 0, \"ticks\": \"\"}}, \"type\": \"scattermapbox\"}], \"scatterpolar\": [{\"marker\": {\"colorbar\": {\"outlinewidth\": 0, \"ticks\": \"\"}}, \"type\": \"scatterpolar\"}], \"scatterpolargl\": [{\"marker\": {\"colorbar\": {\"outlinewidth\": 0, \"ticks\": \"\"}}, \"type\": \"scatterpolargl\"}], \"scatterternary\": [{\"marker\": {\"colorbar\": {\"outlinewidth\": 0, \"ticks\": \"\"}}, \"type\": \"scatterternary\"}], \"surface\": [{\"colorbar\": {\"outlinewidth\": 0, \"ticks\": \"\"}, \"colorscale\": [[0.0, \"#0d0887\"], [0.1111111111111111, \"#46039f\"], [0.2222222222222222, \"#7201a8\"], [0.3333333333333333, \"#9c179e\"], [0.4444444444444444, \"#bd3786\"], [0.5555555555555556, \"#d8576b\"], [0.6666666666666666, \"#ed7953\"], [0.7777777777777778, \"#fb9f3a\"], [0.8888888888888888, \"#fdca26\"], [1.0, \"#f0f921\"]], \"type\": \"surface\"}], \"table\": [{\"cells\": {\"fill\": {\"color\": \"#EBF0F8\"}, \"line\": {\"color\": \"white\"}}, \"header\": {\"fill\": {\"color\": \"#C8D4E3\"}, \"line\": {\"color\": \"white\"}}, \"type\": \"table\"}]}, \"layout\": {\"annotationdefaults\": {\"arrowcolor\": \"#2a3f5f\", \"arrowhead\": 0, \"arrowwidth\": 1}, \"coloraxis\": {\"colorbar\": {\"outlinewidth\": 0, \"ticks\": \"\"}}, \"colorscale\": {\"diverging\": [[0, \"#8e0152\"], [0.1, \"#c51b7d\"], [0.2, \"#de77ae\"], [0.3, \"#f1b6da\"], [0.4, \"#fde0ef\"], [0.5, \"#f7f7f7\"], [0.6, \"#e6f5d0\"], [0.7, \"#b8e186\"], [0.8, \"#7fbc41\"], [0.9, \"#4d9221\"], [1, \"#276419\"]], \"sequential\": [[0.0, \"#0d0887\"], [0.1111111111111111, \"#46039f\"], [0.2222222222222222, \"#7201a8\"], [0.3333333333333333, \"#9c179e\"], [0.4444444444444444, \"#bd3786\"], [0.5555555555555556, \"#d8576b\"], [0.6666666666666666, \"#ed7953\"], [0.7777777777777778, \"#fb9f3a\"], [0.8888888888888888, \"#fdca26\"], [1.0, \"#f0f921\"]], \"sequentialminus\": [[0.0, \"#0d0887\"], [0.1111111111111111, \"#46039f\"], [0.2222222222222222, \"#7201a8\"], [0.3333333333333333, \"#9c179e\"], [0.4444444444444444, \"#bd3786\"], [0.5555555555555556, \"#d8576b\"], [0.6666666666666666, \"#ed7953\"], [0.7777777777777778, \"#fb9f3a\"], [0.8888888888888888, \"#fdca26\"], [1.0, \"#f0f921\"]]}, \"colorway\": [\"#636efa\", \"#EF553B\", \"#00cc96\", \"#ab63fa\", \"#FFA15A\", \"#19d3f3\", \"#FF6692\", \"#B6E880\", \"#FF97FF\", \"#FECB52\"], \"font\": {\"color\": \"#2a3f5f\"}, \"geo\": {\"bgcolor\": \"white\", \"lakecolor\": \"white\", \"landcolor\": \"#E5ECF6\", \"showlakes\": true, \"showland\": true, \"subunitcolor\": \"white\"}, \"hoverlabel\": {\"align\": \"left\"}, \"hovermode\": \"closest\", \"mapbox\": {\"style\": \"light\"}, \"paper_bgcolor\": \"white\", \"plot_bgcolor\": \"#E5ECF6\", \"polar\": {\"angularaxis\": {\"gridcolor\": \"white\", \"linecolor\": \"white\", \"ticks\": \"\"}, \"bgcolor\": \"#E5ECF6\", \"radialaxis\": {\"gridcolor\": \"white\", \"linecolor\": \"white\", \"ticks\": \"\"}}, \"scene\": {\"xaxis\": {\"backgroundcolor\": \"#E5ECF6\", \"gridcolor\": \"white\", \"gridwidth\": 2, \"linecolor\": \"white\", \"showbackground\": true, \"ticks\": \"\", \"zerolinecolor\": \"white\"}, \"yaxis\": {\"backgroundcolor\": \"#E5ECF6\", \"gridcolor\": \"white\", \"gridwidth\": 2, \"linecolor\": \"white\", \"showbackground\": true, \"ticks\": \"\", \"zerolinecolor\": \"white\"}, \"zaxis\": {\"backgroundcolor\": \"#E5ECF6\", \"gridcolor\": \"white\", \"gridwidth\": 2, \"linecolor\": \"white\", \"showbackground\": true, \"ticks\": \"\", \"zerolinecolor\": \"white\"}}, \"shapedefaults\": {\"line\": {\"color\": \"#2a3f5f\"}}, \"ternary\": {\"aaxis\": {\"gridcolor\": \"white\", \"linecolor\": \"white\", \"ticks\": \"\"}, \"baxis\": {\"gridcolor\": \"white\", \"linecolor\": \"white\", \"ticks\": \"\"}, \"bgcolor\": \"#E5ECF6\", \"caxis\": {\"gridcolor\": \"white\", \"linecolor\": \"white\", \"ticks\": \"\"}}, \"title\": {\"x\": 0.05}, \"xaxis\": {\"automargin\": true, \"gridcolor\": \"white\", \"linecolor\": \"white\", \"ticks\": \"\", \"title\": {\"standoff\": 15}, \"zerolinecolor\": \"white\", \"zerolinewidth\": 2}, \"yaxis\": {\"automargin\": true, \"gridcolor\": \"white\", \"linecolor\": \"white\", \"ticks\": \"\", \"title\": {\"standoff\": 15}, \"zerolinecolor\": \"white\", \"zerolinewidth\": 2}}}, \"title\": {\"text\": \"2018 HK Export in Log Scale\"}},\n",
       "                        {\"responsive\": true}\n",
       "                    ).then(function(){\n",
       "                            \n",
       "var gd = document.getElementById('0d01b479-34f1-4b4a-9a23-8e60f9c26b68');\n",
       "var x = new MutationObserver(function (mutations, observer) {{\n",
       "        var display = window.getComputedStyle(gd).display;\n",
       "        if (!display || display === 'none') {{\n",
       "            console.log([gd, 'removed!']);\n",
       "            Plotly.purge(gd);\n",
       "            observer.disconnect();\n",
       "        }}\n",
       "}});\n",
       "\n",
       "// Listen for the removal of the full notebook cells\n",
       "var notebookContainer = gd.closest('#notebook-container');\n",
       "if (notebookContainer) {{\n",
       "    x.observe(notebookContainer, {childList: true});\n",
       "}}\n",
       "\n",
       "// Listen for the clearing of the current output cell\n",
       "var outputEl = gd.closest('.output');\n",
       "if (outputEl) {{\n",
       "    x.observe(outputEl, {childList: true});\n",
       "}}\n",
       "\n",
       "                        })\n",
       "                };\n",
       "                });\n",
       "            </script>\n",
       "        </div>"
      ]
     },
     "metadata": {},
     "output_type": "display_data"
    }
   ],
   "source": [
    "fig = go.Figure(data=go.Choropleth(\n",
    "    locations = df['code'],\n",
    "    z = df['log(export)'],\n",
    "    text = df['country'],\n",
    "    colorscale = 'Blues',\n",
    "    autocolorscale=False,\n",
    "    reversescale=False,\n",
    "    marker_line_color='darkgray',\n",
    "    marker_line_width=0.5,\n",
    "    colorbar_tickprefix = '',\n",
    "    colorbar_title = 'Log(Export US$)',\n",
    "))\n",
    "\n",
    "fig.update_layout(\n",
    "    title_text='2018 HK Export in Log Scale',\n",
    "    geo=dict(\n",
    "        showframe=False,\n",
    "        showcoastlines=True,\n",
    "        projection_type='equirectangular'\n",
    "    ),\n",
    "    annotations = [dict(\n",
    "        x=0.55,\n",
    "        y=0.1,\n",
    "        xref='paper',\n",
    "        yref='paper',\n",
    "        text='Source: <a href=\"https://tradingeconomics.com/hong-kong/exports-by-country\">\\\n",
    "            Trading Economics</a>',\n",
    "        showarrow = False\n",
    "    )]\n",
    ")\n",
    "\n",
    "fig.show()"
   ]
  },
  {
   "cell_type": "code",
   "execution_count": 28,
   "metadata": {},
   "outputs": [
    {
     "data": {
      "application/vnd.plotly.v1+json": {
       "config": {
        "plotlyServerURL": "https://plot.ly"
       },
       "data": [
        {
         "autocolorscale": false,
         "colorbar": {
          "tickprefix": "",
          "title": {
           "text": "Export US$"
          }
         },
         "colorscale": [
          [
           0,
           "rgb(247,251,255)"
          ],
          [
           0.125,
           "rgb(222,235,247)"
          ],
          [
           0.25,
           "rgb(198,219,239)"
          ],
          [
           0.375,
           "rgb(158,202,225)"
          ],
          [
           0.5,
           "rgb(107,174,214)"
          ],
          [
           0.625,
           "rgb(66,146,198)"
          ],
          [
           0.75,
           "rgb(33,113,181)"
          ],
          [
           0.875,
           "rgb(8,81,156)"
          ],
          [
           1,
           "rgb(8,48,107)"
          ]
         ],
         "locations": [
          "CHN",
          "USA",
          "IND",
          "JPN",
          "THA",
          "SGP",
          "",
          "VNM",
          "DEU",
          "NLD",
          "KOR",
          "ARE",
          "GBR",
          "MAC",
          "CHE",
          "AUS",
          "FRA",
          "MYS",
          "MEX",
          "PHL",
          "RUS",
          "ITA",
          "IDN",
          "BEL",
          "CAN",
          "ESP",
          "ISR",
          "HUN",
          "BGD",
          "CZE",
          "POL",
          "BRA",
          "ZAF",
          "TUR",
          "SAU",
          "KHM",
          "EGY",
          "SWE",
          "AUT",
          "COL",
          "NGA",
          "PAK",
          "CHL",
          "NZL",
          "LKA",
          "PER",
          "ARG",
          "ROU",
          "DNK",
          "FIN",
          "PRT",
          "QAT",
          "IRL",
          "UKR",
          "TGO",
          "SVK",
          "PAN",
          "MMR",
          "LTU",
          "IRN",
          "JOR",
          "NPL",
          "KAZ",
          "GTM",
          "EST",
          "DZA",
          "NOR",
          "MAR",
          "TUN",
          "KEN",
          "GRC",
          "SEN",
          "PRY",
          "CRI",
          "OMN",
          "ETH",
          "KWT",
          "ECU",
          "SRB",
          "BGR",
          "BHR",
          "DOM",
          "GHA",
          "LVA",
          "BLR",
          "SVN",
          "GUM",
          "IRQ",
          "URY",
          "TZA",
          "CMR",
          "HND",
          "SLV",
          "LUX",
          "HRV",
          "MUS",
          "ZMB",
          "MNP",
          "NIC",
          "AZE",
          "LBN",
          "GEO",
          "RWA",
          "BFA",
          "MWI",
          "CIV",
          "MDG",
          "MNG",
          "BOL",
          "COG",
          "ZWE",
          "ISL",
          "CYP",
          "MOZ",
          "AGO",
          "BWA",
          "ARM",
          "PNG",
          "COD",
          "UZB",
          "MDA",
          "LAO",
          "FJI",
          "GIN",
          "HTI",
          "",
          "MDV",
          "MLI",
          "LBY",
          "VEN",
          "KGZ",
          "MKD",
          "BRN",
          "MLT",
          "TTO",
          "UGA",
          "BIH",
          "NAM",
          "GAB",
          "TCD",
          "ALB",
          "BEN",
          "LSO",
          "SLB",
          "JAM",
          "SLE",
          "NER",
          "MNE",
          "SDN",
          "SUR",
          "LBR",
          "SOM",
          "VUT",
          "DJI",
          "CUB",
          "BDI",
          "SYC",
          "WSM",
          "AFG",
          "COM",
          "TKM",
          "SWZ",
          "ABW",
          "GNQ",
          "BHS",
          "FSM",
          "GNB",
          "MRT",
          "SYR",
          "GMB",
          "PRK",
          "GIB",
          "SSD",
          "BTN",
          "BRB",
          "GUY",
          "CPV",
          "TJK",
          "ASM",
          "BLZ",
          "CAF",
          "SMR",
          "AND",
          "KIR",
          "STP",
          "TON",
          "YEM",
          "MHL",
          "",
          "NRU",
          "",
          "GRD",
          "TUV",
          "VAT",
          "TKL",
          "UMI",
          "GRL",
          ""
         ],
         "marker": {
          "line": {
           "color": "darkgray",
           "width": 0.5
          }
         },
         "reversescale": false,
         "text": [
          "China",
          "United States",
          "India",
          "Japan",
          "Thailand",
          "Singapore",
          "Other Asia, nes",
          "Vietnam",
          "Germany",
          "Netherlands",
          "South Korea",
          "United Arab Emirates",
          "United Kingdom",
          "Macau",
          "Switzerland",
          "Australia",
          "France",
          "Malaysia",
          "Mexico",
          "Philippines",
          "Russia",
          "Italy",
          "Indonesia",
          "Belgium",
          "Canada",
          "Spain",
          "Israel",
          "Hungary",
          "Bangladesh",
          "Czech Republic",
          "Poland",
          "Brazil",
          "South Africa",
          "Turkey",
          "Saudi Arabia",
          "Cambodia",
          "Egypt",
          "Sweden",
          "Austria",
          "Colombia",
          "Nigeria",
          "Pakistan",
          "Chile",
          "New Zealand",
          "Sri Lanka",
          "Peru",
          "Argentina",
          "Romania",
          "Denmark",
          "Finland",
          "Portugal",
          "Qatar",
          "Ireland",
          "Ukraine",
          "Togo",
          "Slovakia",
          "Panama",
          "Myanmar",
          "Lithuania",
          "Iran",
          "Jordan",
          "Nepal",
          "Kazakhstan",
          "Guatemala",
          "Estonia",
          "Algeria",
          "Norway",
          "Morocco",
          "Tunisia",
          "Kenya",
          "Greece",
          "Senegal",
          "Paraguay",
          "Costa Rica",
          "Oman",
          "Ethiopia",
          "Kuwait",
          "Ecuador",
          "Serbia",
          "Bulgaria",
          "Bahrain",
          "Dominican Republic",
          "Ghana",
          "Latvia",
          "Belarus",
          "Slovenia",
          "Guam",
          "Iraq",
          "Uruguay",
          "Tanzania",
          "Cameroon",
          "Honduras",
          "El Salvador",
          "Luxembourg",
          "Croatia",
          "Mauritius",
          "Zambia",
          "Northern Mariana Islands",
          "Nicaragua",
          "Azerbaijan",
          "Lebanon",
          "Georgia",
          "Rwanda",
          "Burkina Faso",
          "Malawi",
          "Ivory Coast",
          "Madagascar",
          "Mongolia",
          "Bolivia",
          "Congo",
          "Zimbabwe",
          "Iceland",
          "Cyprus",
          "Mozambique",
          "Angola",
          "Botswana",
          "Armenia",
          "Papua New Guinea",
          "Republic of the Congo",
          "Uzbekistan",
          "Moldova",
          "Laos",
          "Fiji",
          "Guinea",
          "Haiti",
          "Oceania, nes",
          "Maldives",
          "Mali",
          "Libya",
          "Venezuela",
          "Kyrgyzstan",
          "Macedonia",
          "Brunei",
          "Malta",
          "Trinidad And Tobago",
          "Uganda",
          "Bosnia And Herzegovina",
          "Namibia",
          "Gabon",
          "Chad",
          "Albania",
          "Benin",
          "Lesotho",
          "Solomon Islands",
          "Jamaica",
          "Sierra Leone",
          "Niger",
          "Montenegro",
          "Sudan",
          "Suriname",
          "Liberia",
          "Somalia",
          "Vanuatu",
          "Djibouti",
          "Cuba",
          "Burundi",
          "Seychelles",
          "Samoa",
          "Afghanistan",
          "Comoros",
          "Turkmenistan",
          "Swaziland",
          "Aruba",
          "Equatorial Guinea",
          "Bahamas",
          "FS Micronesia",
          "Guinea Bissau",
          "Mauritania",
          "Syria",
          "Gambia",
          "North Korea",
          "Gibraltar",
          "South Sudan",
          "Bhutan",
          "Barbados",
          "Guyana",
          "Cape Verde",
          "Tajikistan",
          "American Samoa",
          "Belize",
          "Central African Republic",
          "San Marino",
          "Andorra",
          "Kiribati",
          "Sao Tome And Principe",
          "Tonga",
          "Yemen",
          "Marshall Islands",
          "Other Africa, nes",
          "Nauru",
          "Other Europe, nes",
          "Grenada",
          "Tuvalu",
          "Vatican City State",
          "Tokelau",
          "United States Minor Outlying Islands",
          "Greenland",
          "America, nes"
         ],
         "type": "choropleth",
         "z": [
          314290000000,
          45870000000,
          17900000000,
          16530000000.000002,
          13450000000,
          12330000000,
          11730000000,
          10660000000,
          9720000000,
          9110000000,
          7800000000,
          7570000000,
          6400000000,
          6300000000,
          5810000000,
          4620000000,
          4560000000,
          4480000000,
          4390000000,
          3860000000,
          3730000000,
          3620000000,
          3190000000,
          2660000000,
          2360000000,
          2170000000,
          2150000000,
          1950000000,
          1830000000,
          1730000000,
          1670000000,
          1600000000,
          1360000000,
          1050000000,
          1000000000,
          965330000,
          890910000,
          844930000,
          808280000,
          794180000,
          791550000,
          772610000,
          755450000,
          660570000,
          519559999.99999994,
          514830000.00000006,
          481720000,
          476960000,
          464070000,
          389080000,
          375080000,
          325410000,
          313430000,
          311850000,
          308200000,
          274530000,
          262040000.00000003,
          256000000,
          239350000,
          230900000,
          224520000,
          221090000,
          204710000,
          198800000,
          193700000,
          192670000,
          187250000,
          184850000,
          184390000,
          183530000,
          179280000,
          177190000,
          173580000,
          166380000,
          159620000,
          159370000,
          147320000,
          140140000,
          138430000,
          132580000.00000001,
          114810000,
          110650000,
          109410000,
          108020000,
          103500000,
          100650000,
          99680000,
          91440000,
          90990000,
          86790000,
          84860000,
          80150000,
          75090000,
          71920000,
          69920000,
          67650000,
          62750000,
          59990000,
          55780000,
          54280000,
          53960000,
          51900000,
          48720000,
          47090000,
          46640000,
          41730000,
          40890000,
          40730000,
          38670000,
          38590000,
          35000000,
          33130000.000000004,
          32960000,
          31630000,
          31210000,
          29970000,
          28100000,
          26890000,
          26820000,
          25810000,
          25470000,
          25440000,
          25220000,
          24840000,
          23630000,
          22730000,
          22310000,
          22290000,
          20820000,
          20180000,
          19610000,
          19030000,
          18410000,
          18360000,
          17510000,
          16870000,
          16500000,
          16230000,
          16120000.000000002,
          13880000,
          12420000,
          11570000,
          10640000,
          10140000,
          8520000,
          8320000,
          6190000,
          5630000,
          5600000,
          5330000,
          5170000,
          5140000,
          5130000,
          4590000,
          4030000.0000000005,
          3940000,
          3740000,
          2920000,
          2880000,
          2730000,
          2700000,
          2570000,
          2410000,
          2380000,
          2370000,
          2370000,
          2320000,
          1850000,
          1690000,
          1660000,
          1600000,
          1590000,
          1540000,
          1450000,
          1440000,
          1400000,
          1400000,
          1250000,
          1210000,
          1070000,
          963550,
          951200,
          861490,
          846480,
          819480,
          782210,
          574150,
          519860,
          448440,
          409680,
          391500,
          222340,
          116690,
          88150,
          18280,
          15450,
          2590,
          1660
         ]
        }
       ],
       "layout": {
        "annotations": [
         {
          "showarrow": false,
          "text": "Source: <a href=\"https://tradingeconomics.com/hong-kong/exports-by-country\">            Trading Economics</a>",
          "x": 0.55,
          "xref": "paper",
          "y": 0.1,
          "yref": "paper"
         }
        ],
        "geo": {
         "projection": {
          "type": "equirectangular"
         },
         "showcoastlines": true,
         "showframe": false
        },
        "template": {
         "data": {
          "bar": [
           {
            "error_x": {
             "color": "#2a3f5f"
            },
            "error_y": {
             "color": "#2a3f5f"
            },
            "marker": {
             "line": {
              "color": "#E5ECF6",
              "width": 0.5
             }
            },
            "type": "bar"
           }
          ],
          "barpolar": [
           {
            "marker": {
             "line": {
              "color": "#E5ECF6",
              "width": 0.5
             }
            },
            "type": "barpolar"
           }
          ],
          "carpet": [
           {
            "aaxis": {
             "endlinecolor": "#2a3f5f",
             "gridcolor": "white",
             "linecolor": "white",
             "minorgridcolor": "white",
             "startlinecolor": "#2a3f5f"
            },
            "baxis": {
             "endlinecolor": "#2a3f5f",
             "gridcolor": "white",
             "linecolor": "white",
             "minorgridcolor": "white",
             "startlinecolor": "#2a3f5f"
            },
            "type": "carpet"
           }
          ],
          "choropleth": [
           {
            "colorbar": {
             "outlinewidth": 0,
             "ticks": ""
            },
            "type": "choropleth"
           }
          ],
          "contour": [
           {
            "colorbar": {
             "outlinewidth": 0,
             "ticks": ""
            },
            "colorscale": [
             [
              0,
              "#0d0887"
             ],
             [
              0.1111111111111111,
              "#46039f"
             ],
             [
              0.2222222222222222,
              "#7201a8"
             ],
             [
              0.3333333333333333,
              "#9c179e"
             ],
             [
              0.4444444444444444,
              "#bd3786"
             ],
             [
              0.5555555555555556,
              "#d8576b"
             ],
             [
              0.6666666666666666,
              "#ed7953"
             ],
             [
              0.7777777777777778,
              "#fb9f3a"
             ],
             [
              0.8888888888888888,
              "#fdca26"
             ],
             [
              1,
              "#f0f921"
             ]
            ],
            "type": "contour"
           }
          ],
          "contourcarpet": [
           {
            "colorbar": {
             "outlinewidth": 0,
             "ticks": ""
            },
            "type": "contourcarpet"
           }
          ],
          "heatmap": [
           {
            "colorbar": {
             "outlinewidth": 0,
             "ticks": ""
            },
            "colorscale": [
             [
              0,
              "#0d0887"
             ],
             [
              0.1111111111111111,
              "#46039f"
             ],
             [
              0.2222222222222222,
              "#7201a8"
             ],
             [
              0.3333333333333333,
              "#9c179e"
             ],
             [
              0.4444444444444444,
              "#bd3786"
             ],
             [
              0.5555555555555556,
              "#d8576b"
             ],
             [
              0.6666666666666666,
              "#ed7953"
             ],
             [
              0.7777777777777778,
              "#fb9f3a"
             ],
             [
              0.8888888888888888,
              "#fdca26"
             ],
             [
              1,
              "#f0f921"
             ]
            ],
            "type": "heatmap"
           }
          ],
          "heatmapgl": [
           {
            "colorbar": {
             "outlinewidth": 0,
             "ticks": ""
            },
            "colorscale": [
             [
              0,
              "#0d0887"
             ],
             [
              0.1111111111111111,
              "#46039f"
             ],
             [
              0.2222222222222222,
              "#7201a8"
             ],
             [
              0.3333333333333333,
              "#9c179e"
             ],
             [
              0.4444444444444444,
              "#bd3786"
             ],
             [
              0.5555555555555556,
              "#d8576b"
             ],
             [
              0.6666666666666666,
              "#ed7953"
             ],
             [
              0.7777777777777778,
              "#fb9f3a"
             ],
             [
              0.8888888888888888,
              "#fdca26"
             ],
             [
              1,
              "#f0f921"
             ]
            ],
            "type": "heatmapgl"
           }
          ],
          "histogram": [
           {
            "marker": {
             "colorbar": {
              "outlinewidth": 0,
              "ticks": ""
             }
            },
            "type": "histogram"
           }
          ],
          "histogram2d": [
           {
            "colorbar": {
             "outlinewidth": 0,
             "ticks": ""
            },
            "colorscale": [
             [
              0,
              "#0d0887"
             ],
             [
              0.1111111111111111,
              "#46039f"
             ],
             [
              0.2222222222222222,
              "#7201a8"
             ],
             [
              0.3333333333333333,
              "#9c179e"
             ],
             [
              0.4444444444444444,
              "#bd3786"
             ],
             [
              0.5555555555555556,
              "#d8576b"
             ],
             [
              0.6666666666666666,
              "#ed7953"
             ],
             [
              0.7777777777777778,
              "#fb9f3a"
             ],
             [
              0.8888888888888888,
              "#fdca26"
             ],
             [
              1,
              "#f0f921"
             ]
            ],
            "type": "histogram2d"
           }
          ],
          "histogram2dcontour": [
           {
            "colorbar": {
             "outlinewidth": 0,
             "ticks": ""
            },
            "colorscale": [
             [
              0,
              "#0d0887"
             ],
             [
              0.1111111111111111,
              "#46039f"
             ],
             [
              0.2222222222222222,
              "#7201a8"
             ],
             [
              0.3333333333333333,
              "#9c179e"
             ],
             [
              0.4444444444444444,
              "#bd3786"
             ],
             [
              0.5555555555555556,
              "#d8576b"
             ],
             [
              0.6666666666666666,
              "#ed7953"
             ],
             [
              0.7777777777777778,
              "#fb9f3a"
             ],
             [
              0.8888888888888888,
              "#fdca26"
             ],
             [
              1,
              "#f0f921"
             ]
            ],
            "type": "histogram2dcontour"
           }
          ],
          "mesh3d": [
           {
            "colorbar": {
             "outlinewidth": 0,
             "ticks": ""
            },
            "type": "mesh3d"
           }
          ],
          "parcoords": [
           {
            "line": {
             "colorbar": {
              "outlinewidth": 0,
              "ticks": ""
             }
            },
            "type": "parcoords"
           }
          ],
          "pie": [
           {
            "automargin": true,
            "type": "pie"
           }
          ],
          "scatter": [
           {
            "marker": {
             "colorbar": {
              "outlinewidth": 0,
              "ticks": ""
             }
            },
            "type": "scatter"
           }
          ],
          "scatter3d": [
           {
            "line": {
             "colorbar": {
              "outlinewidth": 0,
              "ticks": ""
             }
            },
            "marker": {
             "colorbar": {
              "outlinewidth": 0,
              "ticks": ""
             }
            },
            "type": "scatter3d"
           }
          ],
          "scattercarpet": [
           {
            "marker": {
             "colorbar": {
              "outlinewidth": 0,
              "ticks": ""
             }
            },
            "type": "scattercarpet"
           }
          ],
          "scattergeo": [
           {
            "marker": {
             "colorbar": {
              "outlinewidth": 0,
              "ticks": ""
             }
            },
            "type": "scattergeo"
           }
          ],
          "scattergl": [
           {
            "marker": {
             "colorbar": {
              "outlinewidth": 0,
              "ticks": ""
             }
            },
            "type": "scattergl"
           }
          ],
          "scattermapbox": [
           {
            "marker": {
             "colorbar": {
              "outlinewidth": 0,
              "ticks": ""
             }
            },
            "type": "scattermapbox"
           }
          ],
          "scatterpolar": [
           {
            "marker": {
             "colorbar": {
              "outlinewidth": 0,
              "ticks": ""
             }
            },
            "type": "scatterpolar"
           }
          ],
          "scatterpolargl": [
           {
            "marker": {
             "colorbar": {
              "outlinewidth": 0,
              "ticks": ""
             }
            },
            "type": "scatterpolargl"
           }
          ],
          "scatterternary": [
           {
            "marker": {
             "colorbar": {
              "outlinewidth": 0,
              "ticks": ""
             }
            },
            "type": "scatterternary"
           }
          ],
          "surface": [
           {
            "colorbar": {
             "outlinewidth": 0,
             "ticks": ""
            },
            "colorscale": [
             [
              0,
              "#0d0887"
             ],
             [
              0.1111111111111111,
              "#46039f"
             ],
             [
              0.2222222222222222,
              "#7201a8"
             ],
             [
              0.3333333333333333,
              "#9c179e"
             ],
             [
              0.4444444444444444,
              "#bd3786"
             ],
             [
              0.5555555555555556,
              "#d8576b"
             ],
             [
              0.6666666666666666,
              "#ed7953"
             ],
             [
              0.7777777777777778,
              "#fb9f3a"
             ],
             [
              0.8888888888888888,
              "#fdca26"
             ],
             [
              1,
              "#f0f921"
             ]
            ],
            "type": "surface"
           }
          ],
          "table": [
           {
            "cells": {
             "fill": {
              "color": "#EBF0F8"
             },
             "line": {
              "color": "white"
             }
            },
            "header": {
             "fill": {
              "color": "#C8D4E3"
             },
             "line": {
              "color": "white"
             }
            },
            "type": "table"
           }
          ]
         },
         "layout": {
          "annotationdefaults": {
           "arrowcolor": "#2a3f5f",
           "arrowhead": 0,
           "arrowwidth": 1
          },
          "coloraxis": {
           "colorbar": {
            "outlinewidth": 0,
            "ticks": ""
           }
          },
          "colorscale": {
           "diverging": [
            [
             0,
             "#8e0152"
            ],
            [
             0.1,
             "#c51b7d"
            ],
            [
             0.2,
             "#de77ae"
            ],
            [
             0.3,
             "#f1b6da"
            ],
            [
             0.4,
             "#fde0ef"
            ],
            [
             0.5,
             "#f7f7f7"
            ],
            [
             0.6,
             "#e6f5d0"
            ],
            [
             0.7,
             "#b8e186"
            ],
            [
             0.8,
             "#7fbc41"
            ],
            [
             0.9,
             "#4d9221"
            ],
            [
             1,
             "#276419"
            ]
           ],
           "sequential": [
            [
             0,
             "#0d0887"
            ],
            [
             0.1111111111111111,
             "#46039f"
            ],
            [
             0.2222222222222222,
             "#7201a8"
            ],
            [
             0.3333333333333333,
             "#9c179e"
            ],
            [
             0.4444444444444444,
             "#bd3786"
            ],
            [
             0.5555555555555556,
             "#d8576b"
            ],
            [
             0.6666666666666666,
             "#ed7953"
            ],
            [
             0.7777777777777778,
             "#fb9f3a"
            ],
            [
             0.8888888888888888,
             "#fdca26"
            ],
            [
             1,
             "#f0f921"
            ]
           ],
           "sequentialminus": [
            [
             0,
             "#0d0887"
            ],
            [
             0.1111111111111111,
             "#46039f"
            ],
            [
             0.2222222222222222,
             "#7201a8"
            ],
            [
             0.3333333333333333,
             "#9c179e"
            ],
            [
             0.4444444444444444,
             "#bd3786"
            ],
            [
             0.5555555555555556,
             "#d8576b"
            ],
            [
             0.6666666666666666,
             "#ed7953"
            ],
            [
             0.7777777777777778,
             "#fb9f3a"
            ],
            [
             0.8888888888888888,
             "#fdca26"
            ],
            [
             1,
             "#f0f921"
            ]
           ]
          },
          "colorway": [
           "#636efa",
           "#EF553B",
           "#00cc96",
           "#ab63fa",
           "#FFA15A",
           "#19d3f3",
           "#FF6692",
           "#B6E880",
           "#FF97FF",
           "#FECB52"
          ],
          "font": {
           "color": "#2a3f5f"
          },
          "geo": {
           "bgcolor": "white",
           "lakecolor": "white",
           "landcolor": "#E5ECF6",
           "showlakes": true,
           "showland": true,
           "subunitcolor": "white"
          },
          "hoverlabel": {
           "align": "left"
          },
          "hovermode": "closest",
          "mapbox": {
           "style": "light"
          },
          "paper_bgcolor": "white",
          "plot_bgcolor": "#E5ECF6",
          "polar": {
           "angularaxis": {
            "gridcolor": "white",
            "linecolor": "white",
            "ticks": ""
           },
           "bgcolor": "#E5ECF6",
           "radialaxis": {
            "gridcolor": "white",
            "linecolor": "white",
            "ticks": ""
           }
          },
          "scene": {
           "xaxis": {
            "backgroundcolor": "#E5ECF6",
            "gridcolor": "white",
            "gridwidth": 2,
            "linecolor": "white",
            "showbackground": true,
            "ticks": "",
            "zerolinecolor": "white"
           },
           "yaxis": {
            "backgroundcolor": "#E5ECF6",
            "gridcolor": "white",
            "gridwidth": 2,
            "linecolor": "white",
            "showbackground": true,
            "ticks": "",
            "zerolinecolor": "white"
           },
           "zaxis": {
            "backgroundcolor": "#E5ECF6",
            "gridcolor": "white",
            "gridwidth": 2,
            "linecolor": "white",
            "showbackground": true,
            "ticks": "",
            "zerolinecolor": "white"
           }
          },
          "shapedefaults": {
           "line": {
            "color": "#2a3f5f"
           }
          },
          "ternary": {
           "aaxis": {
            "gridcolor": "white",
            "linecolor": "white",
            "ticks": ""
           },
           "baxis": {
            "gridcolor": "white",
            "linecolor": "white",
            "ticks": ""
           },
           "bgcolor": "#E5ECF6",
           "caxis": {
            "gridcolor": "white",
            "linecolor": "white",
            "ticks": ""
           }
          },
          "title": {
           "x": 0.05
          },
          "xaxis": {
           "automargin": true,
           "gridcolor": "white",
           "linecolor": "white",
           "ticks": "",
           "title": {
            "standoff": 15
           },
           "zerolinecolor": "white",
           "zerolinewidth": 2
          },
          "yaxis": {
           "automargin": true,
           "gridcolor": "white",
           "linecolor": "white",
           "ticks": "",
           "title": {
            "standoff": 15
           },
           "zerolinecolor": "white",
           "zerolinewidth": 2
          }
         }
        },
        "title": {
         "text": "2018 HK Export"
        }
       }
      },
      "text/html": [
       "<div>\n",
       "        \n",
       "        \n",
       "            <div id=\"7ec5e5af-6313-4882-a5f0-ac15b37b8de5\" class=\"plotly-graph-div\" style=\"height:525px; width:100%;\"></div>\n",
       "            <script type=\"text/javascript\">\n",
       "                require([\"plotly\"], function(Plotly) {\n",
       "                    window.PLOTLYENV=window.PLOTLYENV || {};\n",
       "                    \n",
       "                if (document.getElementById(\"7ec5e5af-6313-4882-a5f0-ac15b37b8de5\")) {\n",
       "                    Plotly.newPlot(\n",
       "                        '7ec5e5af-6313-4882-a5f0-ac15b37b8de5',\n",
       "                        [{\"autocolorscale\": false, \"colorbar\": {\"tickprefix\": \"\", \"title\": {\"text\": \"Export US$\"}}, \"colorscale\": [[0.0, \"rgb(247,251,255)\"], [0.125, \"rgb(222,235,247)\"], [0.25, \"rgb(198,219,239)\"], [0.375, \"rgb(158,202,225)\"], [0.5, \"rgb(107,174,214)\"], [0.625, \"rgb(66,146,198)\"], [0.75, \"rgb(33,113,181)\"], [0.875, \"rgb(8,81,156)\"], [1.0, \"rgb(8,48,107)\"]], \"locations\": [\"CHN\", \"USA\", \"IND\", \"JPN\", \"THA\", \"SGP\", \"\", \"VNM\", \"DEU\", \"NLD\", \"KOR\", \"ARE\", \"GBR\", \"MAC\", \"CHE\", \"AUS\", \"FRA\", \"MYS\", \"MEX\", \"PHL\", \"RUS\", \"ITA\", \"IDN\", \"BEL\", \"CAN\", \"ESP\", \"ISR\", \"HUN\", \"BGD\", \"CZE\", \"POL\", \"BRA\", \"ZAF\", \"TUR\", \"SAU\", \"KHM\", \"EGY\", \"SWE\", \"AUT\", \"COL\", \"NGA\", \"PAK\", \"CHL\", \"NZL\", \"LKA\", \"PER\", \"ARG\", \"ROU\", \"DNK\", \"FIN\", \"PRT\", \"QAT\", \"IRL\", \"UKR\", \"TGO\", \"SVK\", \"PAN\", \"MMR\", \"LTU\", \"IRN\", \"JOR\", \"NPL\", \"KAZ\", \"GTM\", \"EST\", \"DZA\", \"NOR\", \"MAR\", \"TUN\", \"KEN\", \"GRC\", \"SEN\", \"PRY\", \"CRI\", \"OMN\", \"ETH\", \"KWT\", \"ECU\", \"SRB\", \"BGR\", \"BHR\", \"DOM\", \"GHA\", \"LVA\", \"BLR\", \"SVN\", \"GUM\", \"IRQ\", \"URY\", \"TZA\", \"CMR\", \"HND\", \"SLV\", \"LUX\", \"HRV\", \"MUS\", \"ZMB\", \"MNP\", \"NIC\", \"AZE\", \"LBN\", \"GEO\", \"RWA\", \"BFA\", \"MWI\", \"CIV\", \"MDG\", \"MNG\", \"BOL\", \"COG\", \"ZWE\", \"ISL\", \"CYP\", \"MOZ\", \"AGO\", \"BWA\", \"ARM\", \"PNG\", \"COD\", \"UZB\", \"MDA\", \"LAO\", \"FJI\", \"GIN\", \"HTI\", \"\", \"MDV\", \"MLI\", \"LBY\", \"VEN\", \"KGZ\", \"MKD\", \"BRN\", \"MLT\", \"TTO\", \"UGA\", \"BIH\", \"NAM\", \"GAB\", \"TCD\", \"ALB\", \"BEN\", \"LSO\", \"SLB\", \"JAM\", \"SLE\", \"NER\", \"MNE\", \"SDN\", \"SUR\", \"LBR\", \"SOM\", \"VUT\", \"DJI\", \"CUB\", \"BDI\", \"SYC\", \"WSM\", \"AFG\", \"COM\", \"TKM\", \"SWZ\", \"ABW\", \"GNQ\", \"BHS\", \"FSM\", \"GNB\", \"MRT\", \"SYR\", \"GMB\", \"PRK\", \"GIB\", \"SSD\", \"BTN\", \"BRB\", \"GUY\", \"CPV\", \"TJK\", \"ASM\", \"BLZ\", \"CAF\", \"SMR\", \"AND\", \"KIR\", \"STP\", \"TON\", \"YEM\", \"MHL\", \"\", \"NRU\", \"\", \"GRD\", \"TUV\", \"VAT\", \"TKL\", \"UMI\", \"GRL\", \"\"], \"marker\": {\"line\": {\"color\": \"darkgray\", \"width\": 0.5}}, \"reversescale\": false, \"text\": [\"China\", \"United States\", \"India\", \"Japan\", \"Thailand\", \"Singapore\", \"Other Asia, nes\", \"Vietnam\", \"Germany\", \"Netherlands\", \"South Korea\", \"United Arab Emirates\", \"United Kingdom\", \"Macau\", \"Switzerland\", \"Australia\", \"France\", \"Malaysia\", \"Mexico\", \"Philippines\", \"Russia\", \"Italy\", \"Indonesia\", \"Belgium\", \"Canada\", \"Spain\", \"Israel\", \"Hungary\", \"Bangladesh\", \"Czech Republic\", \"Poland\", \"Brazil\", \"South Africa\", \"Turkey\", \"Saudi Arabia\", \"Cambodia\", \"Egypt\", \"Sweden\", \"Austria\", \"Colombia\", \"Nigeria\", \"Pakistan\", \"Chile\", \"New Zealand\", \"Sri Lanka\", \"Peru\", \"Argentina\", \"Romania\", \"Denmark\", \"Finland\", \"Portugal\", \"Qatar\", \"Ireland\", \"Ukraine\", \"Togo\", \"Slovakia\", \"Panama\", \"Myanmar\", \"Lithuania\", \"Iran\", \"Jordan\", \"Nepal\", \"Kazakhstan\", \"Guatemala\", \"Estonia\", \"Algeria\", \"Norway\", \"Morocco\", \"Tunisia\", \"Kenya\", \"Greece\", \"Senegal\", \"Paraguay\", \"Costa Rica\", \"Oman\", \"Ethiopia\", \"Kuwait\", \"Ecuador\", \"Serbia\", \"Bulgaria\", \"Bahrain\", \"Dominican Republic\", \"Ghana\", \"Latvia\", \"Belarus\", \"Slovenia\", \"Guam\", \"Iraq\", \"Uruguay\", \"Tanzania\", \"Cameroon\", \"Honduras\", \"El Salvador\", \"Luxembourg\", \"Croatia\", \"Mauritius\", \"Zambia\", \"Northern Mariana Islands\", \"Nicaragua\", \"Azerbaijan\", \"Lebanon\", \"Georgia\", \"Rwanda\", \"Burkina Faso\", \"Malawi\", \"Ivory Coast\", \"Madagascar\", \"Mongolia\", \"Bolivia\", \"Congo\", \"Zimbabwe\", \"Iceland\", \"Cyprus\", \"Mozambique\", \"Angola\", \"Botswana\", \"Armenia\", \"Papua New Guinea\", \"Republic of the Congo\", \"Uzbekistan\", \"Moldova\", \"Laos\", \"Fiji\", \"Guinea\", \"Haiti\", \"Oceania, nes\", \"Maldives\", \"Mali\", \"Libya\", \"Venezuela\", \"Kyrgyzstan\", \"Macedonia\", \"Brunei\", \"Malta\", \"Trinidad And Tobago\", \"Uganda\", \"Bosnia And Herzegovina\", \"Namibia\", \"Gabon\", \"Chad\", \"Albania\", \"Benin\", \"Lesotho\", \"Solomon Islands\", \"Jamaica\", \"Sierra Leone\", \"Niger\", \"Montenegro\", \"Sudan\", \"Suriname\", \"Liberia\", \"Somalia\", \"Vanuatu\", \"Djibouti\", \"Cuba\", \"Burundi\", \"Seychelles\", \"Samoa\", \"Afghanistan\", \"Comoros\", \"Turkmenistan\", \"Swaziland\", \"Aruba\", \"Equatorial Guinea\", \"Bahamas\", \"FS Micronesia\", \"Guinea Bissau\", \"Mauritania\", \"Syria\", \"Gambia\", \"North Korea\", \"Gibraltar\", \"South Sudan\", \"Bhutan\", \"Barbados\", \"Guyana\", \"Cape Verde\", \"Tajikistan\", \"American Samoa\", \"Belize\", \"Central African Republic\", \"San Marino\", \"Andorra\", \"Kiribati\", \"Sao Tome And Principe\", \"Tonga\", \"Yemen\", \"Marshall Islands\", \"Other Africa, nes\", \"Nauru\", \"Other Europe, nes\", \"Grenada\", \"Tuvalu\", \"Vatican City State\", \"Tokelau\", \"United States Minor Outlying Islands\", \"Greenland\", \"America, nes\"], \"type\": \"choropleth\", \"z\": [314290000000.0, 45870000000.0, 17900000000.0, 16530000000.000002, 13450000000.0, 12330000000.0, 11730000000.0, 10660000000.0, 9720000000.0, 9110000000.0, 7800000000.0, 7570000000.0, 6400000000.0, 6300000000.0, 5810000000.0, 4620000000.0, 4560000000.0, 4480000000.0, 4390000000.0, 3860000000.0, 3730000000.0, 3620000000.0, 3190000000.0, 2660000000.0, 2360000000.0, 2170000000.0, 2150000000.0, 1950000000.0, 1830000000.0, 1730000000.0, 1670000000.0, 1600000000.0, 1360000000.0, 1050000000.0, 1000000000.0, 965330000.0, 890910000.0, 844930000.0, 808280000.0, 794180000.0, 791550000.0, 772610000.0, 755450000.0, 660570000.0, 519559999.99999994, 514830000.00000006, 481720000.0, 476960000.0, 464070000.0, 389080000.0, 375080000.0, 325410000.0, 313430000.0, 311850000.0, 308200000.0, 274530000.0, 262040000.00000003, 256000000.0, 239350000.0, 230900000.0, 224520000.0, 221090000.0, 204710000.0, 198800000.0, 193700000.0, 192670000.0, 187250000.0, 184850000.0, 184390000.0, 183530000.0, 179280000.0, 177190000.0, 173580000.0, 166380000.0, 159620000.0, 159370000.0, 147320000.0, 140140000.0, 138430000.0, 132580000.00000001, 114810000.0, 110650000.0, 109410000.0, 108020000.0, 103500000.0, 100650000.0, 99680000.0, 91440000.0, 90990000.0, 86790000.0, 84860000.0, 80150000.0, 75090000.0, 71920000.0, 69920000.0, 67650000.0, 62750000.0, 59990000.0, 55780000.0, 54280000.0, 53960000.0, 51900000.0, 48720000.0, 47090000.0, 46640000.0, 41730000.0, 40890000.0, 40730000.0, 38670000.0, 38590000.0, 35000000.0, 33130000.000000004, 32960000.0, 31630000.0, 31210000.0, 29970000.0, 28100000.0, 26890000.0, 26820000.0, 25810000.0, 25470000.0, 25440000.0, 25220000.0, 24840000.0, 23630000.0, 22730000.0, 22310000.0, 22290000.0, 20820000.0, 20180000.0, 19610000.0, 19030000.0, 18410000.0, 18360000.0, 17510000.0, 16870000.0, 16500000.0, 16230000.0, 16120000.000000002, 13880000.0, 12420000.0, 11570000.0, 10640000.0, 10140000.0, 8520000.0, 8320000.0, 6190000.0, 5630000.0, 5600000.0, 5330000.0, 5170000.0, 5140000.0, 5130000.0, 4590000.0, 4030000.0000000005, 3940000.0, 3740000.0, 2920000.0, 2880000.0, 2730000.0, 2700000.0, 2570000.0, 2410000.0, 2380000.0, 2370000.0, 2370000.0, 2320000.0, 1850000.0, 1690000.0, 1660000.0, 1600000.0, 1590000.0, 1540000.0, 1450000.0, 1440000.0, 1400000.0, 1400000.0, 1250000.0, 1210000.0, 1070000.0, 963550.0, 951200.0, 861490.0, 846480.0, 819480.0, 782210.0, 574150.0, 519860.0, 448440.0, 409680.0, 391500.0, 222340.0, 116690.0, 88150.0, 18280.0, 15450.0, 2590.0, 1660.0]}],\n",
       "                        {\"annotations\": [{\"showarrow\": false, \"text\": \"Source: <a href=\\\"https://tradingeconomics.com/hong-kong/exports-by-country\\\">            Trading Economics</a>\", \"x\": 0.55, \"xref\": \"paper\", \"y\": 0.1, \"yref\": \"paper\"}], \"geo\": {\"projection\": {\"type\": \"equirectangular\"}, \"showcoastlines\": true, \"showframe\": false}, \"template\": {\"data\": {\"bar\": [{\"error_x\": {\"color\": \"#2a3f5f\"}, \"error_y\": {\"color\": \"#2a3f5f\"}, \"marker\": {\"line\": {\"color\": \"#E5ECF6\", \"width\": 0.5}}, \"type\": \"bar\"}], \"barpolar\": [{\"marker\": {\"line\": {\"color\": \"#E5ECF6\", \"width\": 0.5}}, \"type\": \"barpolar\"}], \"carpet\": [{\"aaxis\": {\"endlinecolor\": \"#2a3f5f\", \"gridcolor\": \"white\", \"linecolor\": \"white\", \"minorgridcolor\": \"white\", \"startlinecolor\": \"#2a3f5f\"}, \"baxis\": {\"endlinecolor\": \"#2a3f5f\", \"gridcolor\": \"white\", \"linecolor\": \"white\", \"minorgridcolor\": \"white\", \"startlinecolor\": \"#2a3f5f\"}, \"type\": \"carpet\"}], \"choropleth\": [{\"colorbar\": {\"outlinewidth\": 0, \"ticks\": \"\"}, \"type\": \"choropleth\"}], \"contour\": [{\"colorbar\": {\"outlinewidth\": 0, \"ticks\": \"\"}, \"colorscale\": [[0.0, \"#0d0887\"], [0.1111111111111111, \"#46039f\"], [0.2222222222222222, \"#7201a8\"], [0.3333333333333333, \"#9c179e\"], [0.4444444444444444, \"#bd3786\"], [0.5555555555555556, \"#d8576b\"], [0.6666666666666666, \"#ed7953\"], [0.7777777777777778, \"#fb9f3a\"], [0.8888888888888888, \"#fdca26\"], [1.0, \"#f0f921\"]], \"type\": \"contour\"}], \"contourcarpet\": [{\"colorbar\": {\"outlinewidth\": 0, \"ticks\": \"\"}, \"type\": \"contourcarpet\"}], \"heatmap\": [{\"colorbar\": {\"outlinewidth\": 0, \"ticks\": \"\"}, \"colorscale\": [[0.0, \"#0d0887\"], [0.1111111111111111, \"#46039f\"], [0.2222222222222222, \"#7201a8\"], [0.3333333333333333, \"#9c179e\"], [0.4444444444444444, \"#bd3786\"], [0.5555555555555556, \"#d8576b\"], [0.6666666666666666, \"#ed7953\"], [0.7777777777777778, \"#fb9f3a\"], [0.8888888888888888, \"#fdca26\"], [1.0, \"#f0f921\"]], \"type\": \"heatmap\"}], \"heatmapgl\": [{\"colorbar\": {\"outlinewidth\": 0, \"ticks\": \"\"}, \"colorscale\": [[0.0, \"#0d0887\"], [0.1111111111111111, \"#46039f\"], [0.2222222222222222, \"#7201a8\"], [0.3333333333333333, \"#9c179e\"], [0.4444444444444444, \"#bd3786\"], [0.5555555555555556, \"#d8576b\"], [0.6666666666666666, \"#ed7953\"], [0.7777777777777778, \"#fb9f3a\"], [0.8888888888888888, \"#fdca26\"], [1.0, \"#f0f921\"]], \"type\": \"heatmapgl\"}], \"histogram\": [{\"marker\": {\"colorbar\": {\"outlinewidth\": 0, \"ticks\": \"\"}}, \"type\": \"histogram\"}], \"histogram2d\": [{\"colorbar\": {\"outlinewidth\": 0, \"ticks\": \"\"}, \"colorscale\": [[0.0, \"#0d0887\"], [0.1111111111111111, \"#46039f\"], [0.2222222222222222, \"#7201a8\"], [0.3333333333333333, \"#9c179e\"], [0.4444444444444444, \"#bd3786\"], [0.5555555555555556, \"#d8576b\"], [0.6666666666666666, \"#ed7953\"], [0.7777777777777778, \"#fb9f3a\"], [0.8888888888888888, \"#fdca26\"], [1.0, \"#f0f921\"]], \"type\": \"histogram2d\"}], \"histogram2dcontour\": [{\"colorbar\": {\"outlinewidth\": 0, \"ticks\": \"\"}, \"colorscale\": [[0.0, \"#0d0887\"], [0.1111111111111111, \"#46039f\"], [0.2222222222222222, \"#7201a8\"], [0.3333333333333333, \"#9c179e\"], [0.4444444444444444, \"#bd3786\"], [0.5555555555555556, \"#d8576b\"], [0.6666666666666666, \"#ed7953\"], [0.7777777777777778, \"#fb9f3a\"], [0.8888888888888888, \"#fdca26\"], [1.0, \"#f0f921\"]], \"type\": \"histogram2dcontour\"}], \"mesh3d\": [{\"colorbar\": {\"outlinewidth\": 0, \"ticks\": \"\"}, \"type\": \"mesh3d\"}], \"parcoords\": [{\"line\": {\"colorbar\": {\"outlinewidth\": 0, \"ticks\": \"\"}}, \"type\": \"parcoords\"}], \"pie\": [{\"automargin\": true, \"type\": \"pie\"}], \"scatter\": [{\"marker\": {\"colorbar\": {\"outlinewidth\": 0, \"ticks\": \"\"}}, \"type\": \"scatter\"}], \"scatter3d\": [{\"line\": {\"colorbar\": {\"outlinewidth\": 0, \"ticks\": \"\"}}, \"marker\": {\"colorbar\": {\"outlinewidth\": 0, \"ticks\": \"\"}}, \"type\": \"scatter3d\"}], \"scattercarpet\": [{\"marker\": {\"colorbar\": {\"outlinewidth\": 0, \"ticks\": \"\"}}, \"type\": \"scattercarpet\"}], \"scattergeo\": [{\"marker\": {\"colorbar\": {\"outlinewidth\": 0, \"ticks\": \"\"}}, \"type\": \"scattergeo\"}], \"scattergl\": [{\"marker\": {\"colorbar\": {\"outlinewidth\": 0, \"ticks\": \"\"}}, \"type\": \"scattergl\"}], \"scattermapbox\": [{\"marker\": {\"colorbar\": {\"outlinewidth\": 0, \"ticks\": \"\"}}, \"type\": \"scattermapbox\"}], \"scatterpolar\": [{\"marker\": {\"colorbar\": {\"outlinewidth\": 0, \"ticks\": \"\"}}, \"type\": \"scatterpolar\"}], \"scatterpolargl\": [{\"marker\": {\"colorbar\": {\"outlinewidth\": 0, \"ticks\": \"\"}}, \"type\": \"scatterpolargl\"}], \"scatterternary\": [{\"marker\": {\"colorbar\": {\"outlinewidth\": 0, \"ticks\": \"\"}}, \"type\": \"scatterternary\"}], \"surface\": [{\"colorbar\": {\"outlinewidth\": 0, \"ticks\": \"\"}, \"colorscale\": [[0.0, \"#0d0887\"], [0.1111111111111111, \"#46039f\"], [0.2222222222222222, \"#7201a8\"], [0.3333333333333333, \"#9c179e\"], [0.4444444444444444, \"#bd3786\"], [0.5555555555555556, \"#d8576b\"], [0.6666666666666666, \"#ed7953\"], [0.7777777777777778, \"#fb9f3a\"], [0.8888888888888888, \"#fdca26\"], [1.0, \"#f0f921\"]], \"type\": \"surface\"}], \"table\": [{\"cells\": {\"fill\": {\"color\": \"#EBF0F8\"}, \"line\": {\"color\": \"white\"}}, \"header\": {\"fill\": {\"color\": \"#C8D4E3\"}, \"line\": {\"color\": \"white\"}}, \"type\": \"table\"}]}, \"layout\": {\"annotationdefaults\": {\"arrowcolor\": \"#2a3f5f\", \"arrowhead\": 0, \"arrowwidth\": 1}, \"coloraxis\": {\"colorbar\": {\"outlinewidth\": 0, \"ticks\": \"\"}}, \"colorscale\": {\"diverging\": [[0, \"#8e0152\"], [0.1, \"#c51b7d\"], [0.2, \"#de77ae\"], [0.3, \"#f1b6da\"], [0.4, \"#fde0ef\"], [0.5, \"#f7f7f7\"], [0.6, \"#e6f5d0\"], [0.7, \"#b8e186\"], [0.8, \"#7fbc41\"], [0.9, \"#4d9221\"], [1, \"#276419\"]], \"sequential\": [[0.0, \"#0d0887\"], [0.1111111111111111, \"#46039f\"], [0.2222222222222222, \"#7201a8\"], [0.3333333333333333, \"#9c179e\"], [0.4444444444444444, \"#bd3786\"], [0.5555555555555556, \"#d8576b\"], [0.6666666666666666, \"#ed7953\"], [0.7777777777777778, \"#fb9f3a\"], [0.8888888888888888, \"#fdca26\"], [1.0, \"#f0f921\"]], \"sequentialminus\": [[0.0, \"#0d0887\"], [0.1111111111111111, \"#46039f\"], [0.2222222222222222, \"#7201a8\"], [0.3333333333333333, \"#9c179e\"], [0.4444444444444444, \"#bd3786\"], [0.5555555555555556, \"#d8576b\"], [0.6666666666666666, \"#ed7953\"], [0.7777777777777778, \"#fb9f3a\"], [0.8888888888888888, \"#fdca26\"], [1.0, \"#f0f921\"]]}, \"colorway\": [\"#636efa\", \"#EF553B\", \"#00cc96\", \"#ab63fa\", \"#FFA15A\", \"#19d3f3\", \"#FF6692\", \"#B6E880\", \"#FF97FF\", \"#FECB52\"], \"font\": {\"color\": \"#2a3f5f\"}, \"geo\": {\"bgcolor\": \"white\", \"lakecolor\": \"white\", \"landcolor\": \"#E5ECF6\", \"showlakes\": true, \"showland\": true, \"subunitcolor\": \"white\"}, \"hoverlabel\": {\"align\": \"left\"}, \"hovermode\": \"closest\", \"mapbox\": {\"style\": \"light\"}, \"paper_bgcolor\": \"white\", \"plot_bgcolor\": \"#E5ECF6\", \"polar\": {\"angularaxis\": {\"gridcolor\": \"white\", \"linecolor\": \"white\", \"ticks\": \"\"}, \"bgcolor\": \"#E5ECF6\", \"radialaxis\": {\"gridcolor\": \"white\", \"linecolor\": \"white\", \"ticks\": \"\"}}, \"scene\": {\"xaxis\": {\"backgroundcolor\": \"#E5ECF6\", \"gridcolor\": \"white\", \"gridwidth\": 2, \"linecolor\": \"white\", \"showbackground\": true, \"ticks\": \"\", \"zerolinecolor\": \"white\"}, \"yaxis\": {\"backgroundcolor\": \"#E5ECF6\", \"gridcolor\": \"white\", \"gridwidth\": 2, \"linecolor\": \"white\", \"showbackground\": true, \"ticks\": \"\", \"zerolinecolor\": \"white\"}, \"zaxis\": {\"backgroundcolor\": \"#E5ECF6\", \"gridcolor\": \"white\", \"gridwidth\": 2, \"linecolor\": \"white\", \"showbackground\": true, \"ticks\": \"\", \"zerolinecolor\": \"white\"}}, \"shapedefaults\": {\"line\": {\"color\": \"#2a3f5f\"}}, \"ternary\": {\"aaxis\": {\"gridcolor\": \"white\", \"linecolor\": \"white\", \"ticks\": \"\"}, \"baxis\": {\"gridcolor\": \"white\", \"linecolor\": \"white\", \"ticks\": \"\"}, \"bgcolor\": \"#E5ECF6\", \"caxis\": {\"gridcolor\": \"white\", \"linecolor\": \"white\", \"ticks\": \"\"}}, \"title\": {\"x\": 0.05}, \"xaxis\": {\"automargin\": true, \"gridcolor\": \"white\", \"linecolor\": \"white\", \"ticks\": \"\", \"title\": {\"standoff\": 15}, \"zerolinecolor\": \"white\", \"zerolinewidth\": 2}, \"yaxis\": {\"automargin\": true, \"gridcolor\": \"white\", \"linecolor\": \"white\", \"ticks\": \"\", \"title\": {\"standoff\": 15}, \"zerolinecolor\": \"white\", \"zerolinewidth\": 2}}}, \"title\": {\"text\": \"2018 HK Export\"}},\n",
       "                        {\"responsive\": true}\n",
       "                    ).then(function(){\n",
       "                            \n",
       "var gd = document.getElementById('7ec5e5af-6313-4882-a5f0-ac15b37b8de5');\n",
       "var x = new MutationObserver(function (mutations, observer) {{\n",
       "        var display = window.getComputedStyle(gd).display;\n",
       "        if (!display || display === 'none') {{\n",
       "            console.log([gd, 'removed!']);\n",
       "            Plotly.purge(gd);\n",
       "            observer.disconnect();\n",
       "        }}\n",
       "}});\n",
       "\n",
       "// Listen for the removal of the full notebook cells\n",
       "var notebookContainer = gd.closest('#notebook-container');\n",
       "if (notebookContainer) {{\n",
       "    x.observe(notebookContainer, {childList: true});\n",
       "}}\n",
       "\n",
       "// Listen for the clearing of the current output cell\n",
       "var outputEl = gd.closest('.output');\n",
       "if (outputEl) {{\n",
       "    x.observe(outputEl, {childList: true});\n",
       "}}\n",
       "\n",
       "                        })\n",
       "                };\n",
       "                });\n",
       "            </script>\n",
       "        </div>"
      ]
     },
     "metadata": {},
     "output_type": "display_data"
    }
   ],
   "source": [
    "fig = go.Figure(data=go.Choropleth(\n",
    "    locations = df['code'],\n",
    "    z = df['export'],\n",
    "    text = df['country'],\n",
    "    colorscale = 'Blues',\n",
    "    autocolorscale=False,\n",
    "    reversescale=False,\n",
    "    marker_line_color='darkgray',\n",
    "    marker_line_width=0.5,\n",
    "    colorbar_tickprefix = '',\n",
    "    colorbar_title = 'Export US$',\n",
    "))\n",
    "\n",
    "fig.update_layout(\n",
    "    title_text='2018 HK Export',\n",
    "    geo=dict(\n",
    "        showframe=False,\n",
    "        showcoastlines=True,\n",
    "        projection_type='equirectangular'\n",
    "    ),\n",
    "    annotations = [dict(\n",
    "        x=0.55,\n",
    "        y=0.1,\n",
    "        xref='paper',\n",
    "        yref='paper',\n",
    "        text='Source: <a href=\"https://tradingeconomics.com/hong-kong/exports-by-country\">\\\n",
    "            Trading Economics</a>',\n",
    "        showarrow = False\n",
    "    )]\n",
    ")\n",
    "\n",
    "fig.show()"
   ]
  },
  {
   "cell_type": "code",
   "execution_count": 19,
   "metadata": {},
   "outputs": [
    {
     "data": {
      "application/vnd.plotly.v1+json": {
       "config": {
        "plotlyServerURL": "https://plot.ly"
       },
       "data": [
        {
         "autocolorscale": false,
         "colorbar": {
          "tickprefix": "",
          "title": {
           "text": "Ranking"
          }
         },
         "colorscale": [
          [
           0,
           "rgb(247,251,255)"
          ],
          [
           0.125,
           "rgb(222,235,247)"
          ],
          [
           0.25,
           "rgb(198,219,239)"
          ],
          [
           0.375,
           "rgb(158,202,225)"
          ],
          [
           0.5,
           "rgb(107,174,214)"
          ],
          [
           0.625,
           "rgb(66,146,198)"
          ],
          [
           0.75,
           "rgb(33,113,181)"
          ],
          [
           0.875,
           "rgb(8,81,156)"
          ],
          [
           1,
           "rgb(8,48,107)"
          ]
         ],
         "locations": [
          "CHN",
          "USA",
          "IND",
          "JPN",
          "THA",
          "SGP",
          "",
          "VNM",
          "DEU",
          "NLD",
          "KOR",
          "ARE",
          "GBR",
          "MAC",
          "CHE",
          "AUS",
          "FRA",
          "MYS",
          "MEX",
          "PHL",
          "RUS",
          "ITA",
          "IDN",
          "BEL",
          "CAN",
          "ESP",
          "ISR",
          "HUN",
          "BGD",
          "CZE",
          "POL",
          "BRA",
          "ZAF",
          "TUR",
          "SAU",
          "KHM",
          "EGY",
          "SWE",
          "AUT",
          "COL",
          "NGA",
          "PAK",
          "CHL",
          "NZL",
          "LKA",
          "PER",
          "ARG",
          "ROU",
          "DNK",
          "FIN",
          "PRT",
          "QAT",
          "IRL",
          "UKR",
          "TGO",
          "SVK",
          "PAN",
          "MMR",
          "LTU",
          "IRN",
          "JOR",
          "NPL",
          "KAZ",
          "GTM",
          "EST",
          "DZA",
          "NOR",
          "MAR",
          "TUN",
          "KEN",
          "GRC",
          "SEN",
          "PRY",
          "CRI",
          "OMN",
          "ETH",
          "KWT",
          "ECU",
          "SRB",
          "BGR",
          "BHR",
          "DOM",
          "GHA",
          "LVA",
          "BLR",
          "SVN",
          "GUM",
          "IRQ",
          "URY",
          "TZA",
          "CMR",
          "HND",
          "SLV",
          "LUX",
          "HRV",
          "MUS",
          "ZMB",
          "MNP",
          "NIC",
          "AZE",
          "LBN",
          "GEO",
          "RWA",
          "BFA",
          "MWI",
          "CIV",
          "MDG",
          "MNG",
          "BOL",
          "COG",
          "ZWE",
          "ISL",
          "CYP",
          "MOZ",
          "AGO",
          "BWA",
          "ARM",
          "PNG",
          "COD",
          "UZB",
          "MDA",
          "LAO",
          "FJI",
          "GIN",
          "HTI",
          "",
          "MDV",
          "MLI",
          "LBY",
          "VEN",
          "KGZ",
          "MKD",
          "BRN",
          "MLT",
          "TTO",
          "UGA",
          "BIH",
          "NAM",
          "GAB",
          "TCD",
          "ALB",
          "BEN",
          "LSO",
          "SLB",
          "JAM",
          "SLE",
          "NER",
          "MNE",
          "SDN",
          "SUR",
          "LBR",
          "SOM",
          "VUT",
          "DJI",
          "CUB",
          "BDI",
          "SYC",
          "WSM",
          "AFG",
          "COM",
          "TKM",
          "SWZ",
          "ABW",
          "GNQ",
          "BHS",
          "FSM",
          "GNB",
          "MRT",
          "SYR",
          "GMB",
          "PRK",
          "GIB",
          "SSD",
          "BTN",
          "BRB",
          "GUY",
          "CPV",
          "TJK",
          "ASM",
          "BLZ",
          "CAF",
          "SMR",
          "AND",
          "KIR",
          "STP",
          "TON",
          "YEM",
          "MHL",
          "",
          "NRU",
          "",
          "GRD",
          "TUV",
          "VAT",
          "TKL",
          "UMI",
          "GRL",
          ""
         ],
         "marker": {
          "line": {
           "color": "darkgray",
           "width": 0.5
          }
         },
         "reversescale": false,
         "text": [
          "China",
          "United States",
          "India",
          "Japan",
          "Thailand",
          "Singapore",
          "Other Asia, nes",
          "Vietnam",
          "Germany",
          "Netherlands",
          "South Korea",
          "United Arab Emirates",
          "United Kingdom",
          "Macau",
          "Switzerland",
          "Australia",
          "France",
          "Malaysia",
          "Mexico",
          "Philippines",
          "Russia",
          "Italy",
          "Indonesia",
          "Belgium",
          "Canada",
          "Spain",
          "Israel",
          "Hungary",
          "Bangladesh",
          "Czech Republic",
          "Poland",
          "Brazil",
          "South Africa",
          "Turkey",
          "Saudi Arabia",
          "Cambodia",
          "Egypt",
          "Sweden",
          "Austria",
          "Colombia",
          "Nigeria",
          "Pakistan",
          "Chile",
          "New Zealand",
          "Sri Lanka",
          "Peru",
          "Argentina",
          "Romania",
          "Denmark",
          "Finland",
          "Portugal",
          "Qatar",
          "Ireland",
          "Ukraine",
          "Togo",
          "Slovakia",
          "Panama",
          "Myanmar",
          "Lithuania",
          "Iran",
          "Jordan",
          "Nepal",
          "Kazakhstan",
          "Guatemala",
          "Estonia",
          "Algeria",
          "Norway",
          "Morocco",
          "Tunisia",
          "Kenya",
          "Greece",
          "Senegal",
          "Paraguay",
          "Costa Rica",
          "Oman",
          "Ethiopia",
          "Kuwait",
          "Ecuador",
          "Serbia",
          "Bulgaria",
          "Bahrain",
          "Dominican Republic",
          "Ghana",
          "Latvia",
          "Belarus",
          "Slovenia",
          "Guam",
          "Iraq",
          "Uruguay",
          "Tanzania",
          "Cameroon",
          "Honduras",
          "El Salvador",
          "Luxembourg",
          "Croatia",
          "Mauritius",
          "Zambia",
          "Northern Mariana Islands",
          "Nicaragua",
          "Azerbaijan",
          "Lebanon",
          "Georgia",
          "Rwanda",
          "Burkina Faso",
          "Malawi",
          "Ivory Coast",
          "Madagascar",
          "Mongolia",
          "Bolivia",
          "Congo",
          "Zimbabwe",
          "Iceland",
          "Cyprus",
          "Mozambique",
          "Angola",
          "Botswana",
          "Armenia",
          "Papua New Guinea",
          "Republic of the Congo",
          "Uzbekistan",
          "Moldova",
          "Laos",
          "Fiji",
          "Guinea",
          "Haiti",
          "Oceania, nes",
          "Maldives",
          "Mali",
          "Libya",
          "Venezuela",
          "Kyrgyzstan",
          "Macedonia",
          "Brunei",
          "Malta",
          "Trinidad And Tobago",
          "Uganda",
          "Bosnia And Herzegovina",
          "Namibia",
          "Gabon",
          "Chad",
          "Albania",
          "Benin",
          "Lesotho",
          "Solomon Islands",
          "Jamaica",
          "Sierra Leone",
          "Niger",
          "Montenegro",
          "Sudan",
          "Suriname",
          "Liberia",
          "Somalia",
          "Vanuatu",
          "Djibouti",
          "Cuba",
          "Burundi",
          "Seychelles",
          "Samoa",
          "Afghanistan",
          "Comoros",
          "Turkmenistan",
          "Swaziland",
          "Aruba",
          "Equatorial Guinea",
          "Bahamas",
          "FS Micronesia",
          "Guinea Bissau",
          "Mauritania",
          "Syria",
          "Gambia",
          "North Korea",
          "Gibraltar",
          "South Sudan",
          "Bhutan",
          "Barbados",
          "Guyana",
          "Cape Verde",
          "Tajikistan",
          "American Samoa",
          "Belize",
          "Central African Republic",
          "San Marino",
          "Andorra",
          "Kiribati",
          "Sao Tome And Principe",
          "Tonga",
          "Yemen",
          "Marshall Islands",
          "Other Africa, nes",
          "Nauru",
          "Other Europe, nes",
          "Grenada",
          "Tuvalu",
          "Vatican City State",
          "Tokelau",
          "United States Minor Outlying Islands",
          "Greenland",
          "America, nes"
         ],
         "type": "choropleth",
         "z": [
          1,
          2,
          3,
          4,
          5,
          6,
          7,
          8,
          9,
          10,
          11,
          12,
          13,
          14,
          15,
          16,
          17,
          18,
          19,
          20,
          21,
          22,
          23,
          24,
          25,
          26,
          27,
          28,
          29,
          30,
          31,
          32,
          33,
          34,
          35,
          36,
          37,
          38,
          39,
          40,
          41,
          42,
          43,
          44,
          45,
          46,
          47,
          48,
          49,
          50,
          51,
          52,
          53,
          54,
          55,
          56,
          57,
          58,
          59,
          60,
          61,
          62,
          63,
          64,
          65,
          66,
          67,
          68,
          69,
          70,
          71,
          72,
          73,
          74,
          75,
          76,
          77,
          78,
          79,
          80,
          81,
          82,
          83,
          84,
          85,
          86,
          87,
          88,
          89,
          90,
          91,
          92,
          93,
          94,
          95,
          96,
          97,
          98,
          99,
          100,
          101,
          102,
          103,
          104,
          105,
          106,
          107,
          108,
          109,
          110,
          111,
          112,
          113,
          114,
          115,
          116,
          117,
          118,
          119,
          120,
          121,
          122,
          123,
          124,
          125,
          126,
          127,
          128,
          129,
          130,
          131,
          132,
          133,
          134,
          135,
          136,
          137,
          138,
          139,
          140,
          141,
          142,
          143,
          144,
          145,
          146,
          147,
          148,
          149,
          150,
          151,
          152,
          153,
          154,
          155,
          156,
          157,
          158,
          159,
          160,
          161,
          162,
          163,
          164,
          165,
          166,
          167,
          168,
          169,
          170,
          171,
          172,
          173,
          174,
          175,
          176,
          177,
          178,
          179,
          180,
          181,
          182,
          183,
          184,
          185,
          186,
          187,
          188,
          189,
          190,
          191,
          192,
          193,
          194,
          195,
          196,
          197,
          198
         ]
        }
       ],
       "layout": {
        "annotations": [
         {
          "showarrow": false,
          "text": "Source: <a href=\"https://tradingeconomics.com/hong-kong/exports-by-country\">            Trading Economics</a>",
          "x": 0.55,
          "xref": "paper",
          "y": 0.1,
          "yref": "paper"
         }
        ],
        "geo": {
         "projection": {
          "type": "equirectangular"
         },
         "showcoastlines": true,
         "showframe": false
        },
        "template": {
         "data": {
          "bar": [
           {
            "error_x": {
             "color": "#2a3f5f"
            },
            "error_y": {
             "color": "#2a3f5f"
            },
            "marker": {
             "line": {
              "color": "#E5ECF6",
              "width": 0.5
             }
            },
            "type": "bar"
           }
          ],
          "barpolar": [
           {
            "marker": {
             "line": {
              "color": "#E5ECF6",
              "width": 0.5
             }
            },
            "type": "barpolar"
           }
          ],
          "carpet": [
           {
            "aaxis": {
             "endlinecolor": "#2a3f5f",
             "gridcolor": "white",
             "linecolor": "white",
             "minorgridcolor": "white",
             "startlinecolor": "#2a3f5f"
            },
            "baxis": {
             "endlinecolor": "#2a3f5f",
             "gridcolor": "white",
             "linecolor": "white",
             "minorgridcolor": "white",
             "startlinecolor": "#2a3f5f"
            },
            "type": "carpet"
           }
          ],
          "choropleth": [
           {
            "colorbar": {
             "outlinewidth": 0,
             "ticks": ""
            },
            "type": "choropleth"
           }
          ],
          "contour": [
           {
            "colorbar": {
             "outlinewidth": 0,
             "ticks": ""
            },
            "colorscale": [
             [
              0,
              "#0d0887"
             ],
             [
              0.1111111111111111,
              "#46039f"
             ],
             [
              0.2222222222222222,
              "#7201a8"
             ],
             [
              0.3333333333333333,
              "#9c179e"
             ],
             [
              0.4444444444444444,
              "#bd3786"
             ],
             [
              0.5555555555555556,
              "#d8576b"
             ],
             [
              0.6666666666666666,
              "#ed7953"
             ],
             [
              0.7777777777777778,
              "#fb9f3a"
             ],
             [
              0.8888888888888888,
              "#fdca26"
             ],
             [
              1,
              "#f0f921"
             ]
            ],
            "type": "contour"
           }
          ],
          "contourcarpet": [
           {
            "colorbar": {
             "outlinewidth": 0,
             "ticks": ""
            },
            "type": "contourcarpet"
           }
          ],
          "heatmap": [
           {
            "colorbar": {
             "outlinewidth": 0,
             "ticks": ""
            },
            "colorscale": [
             [
              0,
              "#0d0887"
             ],
             [
              0.1111111111111111,
              "#46039f"
             ],
             [
              0.2222222222222222,
              "#7201a8"
             ],
             [
              0.3333333333333333,
              "#9c179e"
             ],
             [
              0.4444444444444444,
              "#bd3786"
             ],
             [
              0.5555555555555556,
              "#d8576b"
             ],
             [
              0.6666666666666666,
              "#ed7953"
             ],
             [
              0.7777777777777778,
              "#fb9f3a"
             ],
             [
              0.8888888888888888,
              "#fdca26"
             ],
             [
              1,
              "#f0f921"
             ]
            ],
            "type": "heatmap"
           }
          ],
          "heatmapgl": [
           {
            "colorbar": {
             "outlinewidth": 0,
             "ticks": ""
            },
            "colorscale": [
             [
              0,
              "#0d0887"
             ],
             [
              0.1111111111111111,
              "#46039f"
             ],
             [
              0.2222222222222222,
              "#7201a8"
             ],
             [
              0.3333333333333333,
              "#9c179e"
             ],
             [
              0.4444444444444444,
              "#bd3786"
             ],
             [
              0.5555555555555556,
              "#d8576b"
             ],
             [
              0.6666666666666666,
              "#ed7953"
             ],
             [
              0.7777777777777778,
              "#fb9f3a"
             ],
             [
              0.8888888888888888,
              "#fdca26"
             ],
             [
              1,
              "#f0f921"
             ]
            ],
            "type": "heatmapgl"
           }
          ],
          "histogram": [
           {
            "marker": {
             "colorbar": {
              "outlinewidth": 0,
              "ticks": ""
             }
            },
            "type": "histogram"
           }
          ],
          "histogram2d": [
           {
            "colorbar": {
             "outlinewidth": 0,
             "ticks": ""
            },
            "colorscale": [
             [
              0,
              "#0d0887"
             ],
             [
              0.1111111111111111,
              "#46039f"
             ],
             [
              0.2222222222222222,
              "#7201a8"
             ],
             [
              0.3333333333333333,
              "#9c179e"
             ],
             [
              0.4444444444444444,
              "#bd3786"
             ],
             [
              0.5555555555555556,
              "#d8576b"
             ],
             [
              0.6666666666666666,
              "#ed7953"
             ],
             [
              0.7777777777777778,
              "#fb9f3a"
             ],
             [
              0.8888888888888888,
              "#fdca26"
             ],
             [
              1,
              "#f0f921"
             ]
            ],
            "type": "histogram2d"
           }
          ],
          "histogram2dcontour": [
           {
            "colorbar": {
             "outlinewidth": 0,
             "ticks": ""
            },
            "colorscale": [
             [
              0,
              "#0d0887"
             ],
             [
              0.1111111111111111,
              "#46039f"
             ],
             [
              0.2222222222222222,
              "#7201a8"
             ],
             [
              0.3333333333333333,
              "#9c179e"
             ],
             [
              0.4444444444444444,
              "#bd3786"
             ],
             [
              0.5555555555555556,
              "#d8576b"
             ],
             [
              0.6666666666666666,
              "#ed7953"
             ],
             [
              0.7777777777777778,
              "#fb9f3a"
             ],
             [
              0.8888888888888888,
              "#fdca26"
             ],
             [
              1,
              "#f0f921"
             ]
            ],
            "type": "histogram2dcontour"
           }
          ],
          "mesh3d": [
           {
            "colorbar": {
             "outlinewidth": 0,
             "ticks": ""
            },
            "type": "mesh3d"
           }
          ],
          "parcoords": [
           {
            "line": {
             "colorbar": {
              "outlinewidth": 0,
              "ticks": ""
             }
            },
            "type": "parcoords"
           }
          ],
          "pie": [
           {
            "automargin": true,
            "type": "pie"
           }
          ],
          "scatter": [
           {
            "marker": {
             "colorbar": {
              "outlinewidth": 0,
              "ticks": ""
             }
            },
            "type": "scatter"
           }
          ],
          "scatter3d": [
           {
            "line": {
             "colorbar": {
              "outlinewidth": 0,
              "ticks": ""
             }
            },
            "marker": {
             "colorbar": {
              "outlinewidth": 0,
              "ticks": ""
             }
            },
            "type": "scatter3d"
           }
          ],
          "scattercarpet": [
           {
            "marker": {
             "colorbar": {
              "outlinewidth": 0,
              "ticks": ""
             }
            },
            "type": "scattercarpet"
           }
          ],
          "scattergeo": [
           {
            "marker": {
             "colorbar": {
              "outlinewidth": 0,
              "ticks": ""
             }
            },
            "type": "scattergeo"
           }
          ],
          "scattergl": [
           {
            "marker": {
             "colorbar": {
              "outlinewidth": 0,
              "ticks": ""
             }
            },
            "type": "scattergl"
           }
          ],
          "scattermapbox": [
           {
            "marker": {
             "colorbar": {
              "outlinewidth": 0,
              "ticks": ""
             }
            },
            "type": "scattermapbox"
           }
          ],
          "scatterpolar": [
           {
            "marker": {
             "colorbar": {
              "outlinewidth": 0,
              "ticks": ""
             }
            },
            "type": "scatterpolar"
           }
          ],
          "scatterpolargl": [
           {
            "marker": {
             "colorbar": {
              "outlinewidth": 0,
              "ticks": ""
             }
            },
            "type": "scatterpolargl"
           }
          ],
          "scatterternary": [
           {
            "marker": {
             "colorbar": {
              "outlinewidth": 0,
              "ticks": ""
             }
            },
            "type": "scatterternary"
           }
          ],
          "surface": [
           {
            "colorbar": {
             "outlinewidth": 0,
             "ticks": ""
            },
            "colorscale": [
             [
              0,
              "#0d0887"
             ],
             [
              0.1111111111111111,
              "#46039f"
             ],
             [
              0.2222222222222222,
              "#7201a8"
             ],
             [
              0.3333333333333333,
              "#9c179e"
             ],
             [
              0.4444444444444444,
              "#bd3786"
             ],
             [
              0.5555555555555556,
              "#d8576b"
             ],
             [
              0.6666666666666666,
              "#ed7953"
             ],
             [
              0.7777777777777778,
              "#fb9f3a"
             ],
             [
              0.8888888888888888,
              "#fdca26"
             ],
             [
              1,
              "#f0f921"
             ]
            ],
            "type": "surface"
           }
          ],
          "table": [
           {
            "cells": {
             "fill": {
              "color": "#EBF0F8"
             },
             "line": {
              "color": "white"
             }
            },
            "header": {
             "fill": {
              "color": "#C8D4E3"
             },
             "line": {
              "color": "white"
             }
            },
            "type": "table"
           }
          ]
         },
         "layout": {
          "annotationdefaults": {
           "arrowcolor": "#2a3f5f",
           "arrowhead": 0,
           "arrowwidth": 1
          },
          "coloraxis": {
           "colorbar": {
            "outlinewidth": 0,
            "ticks": ""
           }
          },
          "colorscale": {
           "diverging": [
            [
             0,
             "#8e0152"
            ],
            [
             0.1,
             "#c51b7d"
            ],
            [
             0.2,
             "#de77ae"
            ],
            [
             0.3,
             "#f1b6da"
            ],
            [
             0.4,
             "#fde0ef"
            ],
            [
             0.5,
             "#f7f7f7"
            ],
            [
             0.6,
             "#e6f5d0"
            ],
            [
             0.7,
             "#b8e186"
            ],
            [
             0.8,
             "#7fbc41"
            ],
            [
             0.9,
             "#4d9221"
            ],
            [
             1,
             "#276419"
            ]
           ],
           "sequential": [
            [
             0,
             "#0d0887"
            ],
            [
             0.1111111111111111,
             "#46039f"
            ],
            [
             0.2222222222222222,
             "#7201a8"
            ],
            [
             0.3333333333333333,
             "#9c179e"
            ],
            [
             0.4444444444444444,
             "#bd3786"
            ],
            [
             0.5555555555555556,
             "#d8576b"
            ],
            [
             0.6666666666666666,
             "#ed7953"
            ],
            [
             0.7777777777777778,
             "#fb9f3a"
            ],
            [
             0.8888888888888888,
             "#fdca26"
            ],
            [
             1,
             "#f0f921"
            ]
           ],
           "sequentialminus": [
            [
             0,
             "#0d0887"
            ],
            [
             0.1111111111111111,
             "#46039f"
            ],
            [
             0.2222222222222222,
             "#7201a8"
            ],
            [
             0.3333333333333333,
             "#9c179e"
            ],
            [
             0.4444444444444444,
             "#bd3786"
            ],
            [
             0.5555555555555556,
             "#d8576b"
            ],
            [
             0.6666666666666666,
             "#ed7953"
            ],
            [
             0.7777777777777778,
             "#fb9f3a"
            ],
            [
             0.8888888888888888,
             "#fdca26"
            ],
            [
             1,
             "#f0f921"
            ]
           ]
          },
          "colorway": [
           "#636efa",
           "#EF553B",
           "#00cc96",
           "#ab63fa",
           "#FFA15A",
           "#19d3f3",
           "#FF6692",
           "#B6E880",
           "#FF97FF",
           "#FECB52"
          ],
          "font": {
           "color": "#2a3f5f"
          },
          "geo": {
           "bgcolor": "white",
           "lakecolor": "white",
           "landcolor": "#E5ECF6",
           "showlakes": true,
           "showland": true,
           "subunitcolor": "white"
          },
          "hoverlabel": {
           "align": "left"
          },
          "hovermode": "closest",
          "mapbox": {
           "style": "light"
          },
          "paper_bgcolor": "white",
          "plot_bgcolor": "#E5ECF6",
          "polar": {
           "angularaxis": {
            "gridcolor": "white",
            "linecolor": "white",
            "ticks": ""
           },
           "bgcolor": "#E5ECF6",
           "radialaxis": {
            "gridcolor": "white",
            "linecolor": "white",
            "ticks": ""
           }
          },
          "scene": {
           "xaxis": {
            "backgroundcolor": "#E5ECF6",
            "gridcolor": "white",
            "gridwidth": 2,
            "linecolor": "white",
            "showbackground": true,
            "ticks": "",
            "zerolinecolor": "white"
           },
           "yaxis": {
            "backgroundcolor": "#E5ECF6",
            "gridcolor": "white",
            "gridwidth": 2,
            "linecolor": "white",
            "showbackground": true,
            "ticks": "",
            "zerolinecolor": "white"
           },
           "zaxis": {
            "backgroundcolor": "#E5ECF6",
            "gridcolor": "white",
            "gridwidth": 2,
            "linecolor": "white",
            "showbackground": true,
            "ticks": "",
            "zerolinecolor": "white"
           }
          },
          "shapedefaults": {
           "line": {
            "color": "#2a3f5f"
           }
          },
          "ternary": {
           "aaxis": {
            "gridcolor": "white",
            "linecolor": "white",
            "ticks": ""
           },
           "baxis": {
            "gridcolor": "white",
            "linecolor": "white",
            "ticks": ""
           },
           "bgcolor": "#E5ECF6",
           "caxis": {
            "gridcolor": "white",
            "linecolor": "white",
            "ticks": ""
           }
          },
          "title": {
           "x": 0.05
          },
          "xaxis": {
           "automargin": true,
           "gridcolor": "white",
           "linecolor": "white",
           "ticks": "",
           "title": {
            "standoff": 15
           },
           "zerolinecolor": "white",
           "zerolinewidth": 2
          },
          "yaxis": {
           "automargin": true,
           "gridcolor": "white",
           "linecolor": "white",
           "ticks": "",
           "title": {
            "standoff": 15
           },
           "zerolinecolor": "white",
           "zerolinewidth": 2
          }
         }
        },
        "title": {
         "text": "2018 HK Export"
        }
       }
      },
      "text/html": [
       "<div>\n",
       "        \n",
       "        \n",
       "            <div id=\"f4ef3618-a92e-4dff-a4a7-a0309f313927\" class=\"plotly-graph-div\" style=\"height:525px; width:100%;\"></div>\n",
       "            <script type=\"text/javascript\">\n",
       "                require([\"plotly\"], function(Plotly) {\n",
       "                    window.PLOTLYENV=window.PLOTLYENV || {};\n",
       "                    \n",
       "                if (document.getElementById(\"f4ef3618-a92e-4dff-a4a7-a0309f313927\")) {\n",
       "                    Plotly.newPlot(\n",
       "                        'f4ef3618-a92e-4dff-a4a7-a0309f313927',\n",
       "                        [{\"autocolorscale\": false, \"colorbar\": {\"tickprefix\": \"\", \"title\": {\"text\": \"Ranking\"}}, \"colorscale\": [[0.0, \"rgb(247,251,255)\"], [0.125, \"rgb(222,235,247)\"], [0.25, \"rgb(198,219,239)\"], [0.375, \"rgb(158,202,225)\"], [0.5, \"rgb(107,174,214)\"], [0.625, \"rgb(66,146,198)\"], [0.75, \"rgb(33,113,181)\"], [0.875, \"rgb(8,81,156)\"], [1.0, \"rgb(8,48,107)\"]], \"locations\": [\"CHN\", \"USA\", \"IND\", \"JPN\", \"THA\", \"SGP\", \"\", \"VNM\", \"DEU\", \"NLD\", \"KOR\", \"ARE\", \"GBR\", \"MAC\", \"CHE\", \"AUS\", \"FRA\", \"MYS\", \"MEX\", \"PHL\", \"RUS\", \"ITA\", \"IDN\", \"BEL\", \"CAN\", \"ESP\", \"ISR\", \"HUN\", \"BGD\", \"CZE\", \"POL\", \"BRA\", \"ZAF\", \"TUR\", \"SAU\", \"KHM\", \"EGY\", \"SWE\", \"AUT\", \"COL\", \"NGA\", \"PAK\", \"CHL\", \"NZL\", \"LKA\", \"PER\", \"ARG\", \"ROU\", \"DNK\", \"FIN\", \"PRT\", \"QAT\", \"IRL\", \"UKR\", \"TGO\", \"SVK\", \"PAN\", \"MMR\", \"LTU\", \"IRN\", \"JOR\", \"NPL\", \"KAZ\", \"GTM\", \"EST\", \"DZA\", \"NOR\", \"MAR\", \"TUN\", \"KEN\", \"GRC\", \"SEN\", \"PRY\", \"CRI\", \"OMN\", \"ETH\", \"KWT\", \"ECU\", \"SRB\", \"BGR\", \"BHR\", \"DOM\", \"GHA\", \"LVA\", \"BLR\", \"SVN\", \"GUM\", \"IRQ\", \"URY\", \"TZA\", \"CMR\", \"HND\", \"SLV\", \"LUX\", \"HRV\", \"MUS\", \"ZMB\", \"MNP\", \"NIC\", \"AZE\", \"LBN\", \"GEO\", \"RWA\", \"BFA\", \"MWI\", \"CIV\", \"MDG\", \"MNG\", \"BOL\", \"COG\", \"ZWE\", \"ISL\", \"CYP\", \"MOZ\", \"AGO\", \"BWA\", \"ARM\", \"PNG\", \"COD\", \"UZB\", \"MDA\", \"LAO\", \"FJI\", \"GIN\", \"HTI\", \"\", \"MDV\", \"MLI\", \"LBY\", \"VEN\", \"KGZ\", \"MKD\", \"BRN\", \"MLT\", \"TTO\", \"UGA\", \"BIH\", \"NAM\", \"GAB\", \"TCD\", \"ALB\", \"BEN\", \"LSO\", \"SLB\", \"JAM\", \"SLE\", \"NER\", \"MNE\", \"SDN\", \"SUR\", \"LBR\", \"SOM\", \"VUT\", \"DJI\", \"CUB\", \"BDI\", \"SYC\", \"WSM\", \"AFG\", \"COM\", \"TKM\", \"SWZ\", \"ABW\", \"GNQ\", \"BHS\", \"FSM\", \"GNB\", \"MRT\", \"SYR\", \"GMB\", \"PRK\", \"GIB\", \"SSD\", \"BTN\", \"BRB\", \"GUY\", \"CPV\", \"TJK\", \"ASM\", \"BLZ\", \"CAF\", \"SMR\", \"AND\", \"KIR\", \"STP\", \"TON\", \"YEM\", \"MHL\", \"\", \"NRU\", \"\", \"GRD\", \"TUV\", \"VAT\", \"TKL\", \"UMI\", \"GRL\", \"\"], \"marker\": {\"line\": {\"color\": \"darkgray\", \"width\": 0.5}}, \"reversescale\": false, \"text\": [\"China\", \"United States\", \"India\", \"Japan\", \"Thailand\", \"Singapore\", \"Other Asia, nes\", \"Vietnam\", \"Germany\", \"Netherlands\", \"South Korea\", \"United Arab Emirates\", \"United Kingdom\", \"Macau\", \"Switzerland\", \"Australia\", \"France\", \"Malaysia\", \"Mexico\", \"Philippines\", \"Russia\", \"Italy\", \"Indonesia\", \"Belgium\", \"Canada\", \"Spain\", \"Israel\", \"Hungary\", \"Bangladesh\", \"Czech Republic\", \"Poland\", \"Brazil\", \"South Africa\", \"Turkey\", \"Saudi Arabia\", \"Cambodia\", \"Egypt\", \"Sweden\", \"Austria\", \"Colombia\", \"Nigeria\", \"Pakistan\", \"Chile\", \"New Zealand\", \"Sri Lanka\", \"Peru\", \"Argentina\", \"Romania\", \"Denmark\", \"Finland\", \"Portugal\", \"Qatar\", \"Ireland\", \"Ukraine\", \"Togo\", \"Slovakia\", \"Panama\", \"Myanmar\", \"Lithuania\", \"Iran\", \"Jordan\", \"Nepal\", \"Kazakhstan\", \"Guatemala\", \"Estonia\", \"Algeria\", \"Norway\", \"Morocco\", \"Tunisia\", \"Kenya\", \"Greece\", \"Senegal\", \"Paraguay\", \"Costa Rica\", \"Oman\", \"Ethiopia\", \"Kuwait\", \"Ecuador\", \"Serbia\", \"Bulgaria\", \"Bahrain\", \"Dominican Republic\", \"Ghana\", \"Latvia\", \"Belarus\", \"Slovenia\", \"Guam\", \"Iraq\", \"Uruguay\", \"Tanzania\", \"Cameroon\", \"Honduras\", \"El Salvador\", \"Luxembourg\", \"Croatia\", \"Mauritius\", \"Zambia\", \"Northern Mariana Islands\", \"Nicaragua\", \"Azerbaijan\", \"Lebanon\", \"Georgia\", \"Rwanda\", \"Burkina Faso\", \"Malawi\", \"Ivory Coast\", \"Madagascar\", \"Mongolia\", \"Bolivia\", \"Congo\", \"Zimbabwe\", \"Iceland\", \"Cyprus\", \"Mozambique\", \"Angola\", \"Botswana\", \"Armenia\", \"Papua New Guinea\", \"Republic of the Congo\", \"Uzbekistan\", \"Moldova\", \"Laos\", \"Fiji\", \"Guinea\", \"Haiti\", \"Oceania, nes\", \"Maldives\", \"Mali\", \"Libya\", \"Venezuela\", \"Kyrgyzstan\", \"Macedonia\", \"Brunei\", \"Malta\", \"Trinidad And Tobago\", \"Uganda\", \"Bosnia And Herzegovina\", \"Namibia\", \"Gabon\", \"Chad\", \"Albania\", \"Benin\", \"Lesotho\", \"Solomon Islands\", \"Jamaica\", \"Sierra Leone\", \"Niger\", \"Montenegro\", \"Sudan\", \"Suriname\", \"Liberia\", \"Somalia\", \"Vanuatu\", \"Djibouti\", \"Cuba\", \"Burundi\", \"Seychelles\", \"Samoa\", \"Afghanistan\", \"Comoros\", \"Turkmenistan\", \"Swaziland\", \"Aruba\", \"Equatorial Guinea\", \"Bahamas\", \"FS Micronesia\", \"Guinea Bissau\", \"Mauritania\", \"Syria\", \"Gambia\", \"North Korea\", \"Gibraltar\", \"South Sudan\", \"Bhutan\", \"Barbados\", \"Guyana\", \"Cape Verde\", \"Tajikistan\", \"American Samoa\", \"Belize\", \"Central African Republic\", \"San Marino\", \"Andorra\", \"Kiribati\", \"Sao Tome And Principe\", \"Tonga\", \"Yemen\", \"Marshall Islands\", \"Other Africa, nes\", \"Nauru\", \"Other Europe, nes\", \"Grenada\", \"Tuvalu\", \"Vatican City State\", \"Tokelau\", \"United States Minor Outlying Islands\", \"Greenland\", \"America, nes\"], \"type\": \"choropleth\", \"z\": [1, 2, 3, 4, 5, 6, 7, 8, 9, 10, 11, 12, 13, 14, 15, 16, 17, 18, 19, 20, 21, 22, 23, 24, 25, 26, 27, 28, 29, 30, 31, 32, 33, 34, 35, 36, 37, 38, 39, 40, 41, 42, 43, 44, 45, 46, 47, 48, 49, 50, 51, 52, 53, 54, 55, 56, 57, 58, 59, 60, 61, 62, 63, 64, 65, 66, 67, 68, 69, 70, 71, 72, 73, 74, 75, 76, 77, 78, 79, 80, 81, 82, 83, 84, 85, 86, 87, 88, 89, 90, 91, 92, 93, 94, 95, 96, 97, 98, 99, 100, 101, 102, 103, 104, 105, 106, 107, 108, 109, 110, 111, 112, 113, 114, 115, 116, 117, 118, 119, 120, 121, 122, 123, 124, 125, 126, 127, 128, 129, 130, 131, 132, 133, 134, 135, 136, 137, 138, 139, 140, 141, 142, 143, 144, 145, 146, 147, 148, 149, 150, 151, 152, 153, 154, 155, 156, 157, 158, 159, 160, 161, 162, 163, 164, 165, 166, 167, 168, 169, 170, 171, 172, 173, 174, 175, 176, 177, 178, 179, 180, 181, 182, 183, 184, 185, 186, 187, 188, 189, 190, 191, 192, 193, 194, 195, 196, 197, 198]}],\n",
       "                        {\"annotations\": [{\"showarrow\": false, \"text\": \"Source: <a href=\\\"https://tradingeconomics.com/hong-kong/exports-by-country\\\">            Trading Economics</a>\", \"x\": 0.55, \"xref\": \"paper\", \"y\": 0.1, \"yref\": \"paper\"}], \"geo\": {\"projection\": {\"type\": \"equirectangular\"}, \"showcoastlines\": true, \"showframe\": false}, \"template\": {\"data\": {\"bar\": [{\"error_x\": {\"color\": \"#2a3f5f\"}, \"error_y\": {\"color\": \"#2a3f5f\"}, \"marker\": {\"line\": {\"color\": \"#E5ECF6\", \"width\": 0.5}}, \"type\": \"bar\"}], \"barpolar\": [{\"marker\": {\"line\": {\"color\": \"#E5ECF6\", \"width\": 0.5}}, \"type\": \"barpolar\"}], \"carpet\": [{\"aaxis\": {\"endlinecolor\": \"#2a3f5f\", \"gridcolor\": \"white\", \"linecolor\": \"white\", \"minorgridcolor\": \"white\", \"startlinecolor\": \"#2a3f5f\"}, \"baxis\": {\"endlinecolor\": \"#2a3f5f\", \"gridcolor\": \"white\", \"linecolor\": \"white\", \"minorgridcolor\": \"white\", \"startlinecolor\": \"#2a3f5f\"}, \"type\": \"carpet\"}], \"choropleth\": [{\"colorbar\": {\"outlinewidth\": 0, \"ticks\": \"\"}, \"type\": \"choropleth\"}], \"contour\": [{\"colorbar\": {\"outlinewidth\": 0, \"ticks\": \"\"}, \"colorscale\": [[0.0, \"#0d0887\"], [0.1111111111111111, \"#46039f\"], [0.2222222222222222, \"#7201a8\"], [0.3333333333333333, \"#9c179e\"], [0.4444444444444444, \"#bd3786\"], [0.5555555555555556, \"#d8576b\"], [0.6666666666666666, \"#ed7953\"], [0.7777777777777778, \"#fb9f3a\"], [0.8888888888888888, \"#fdca26\"], [1.0, \"#f0f921\"]], \"type\": \"contour\"}], \"contourcarpet\": [{\"colorbar\": {\"outlinewidth\": 0, \"ticks\": \"\"}, \"type\": \"contourcarpet\"}], \"heatmap\": [{\"colorbar\": {\"outlinewidth\": 0, \"ticks\": \"\"}, \"colorscale\": [[0.0, \"#0d0887\"], [0.1111111111111111, \"#46039f\"], [0.2222222222222222, \"#7201a8\"], [0.3333333333333333, \"#9c179e\"], [0.4444444444444444, \"#bd3786\"], [0.5555555555555556, \"#d8576b\"], [0.6666666666666666, \"#ed7953\"], [0.7777777777777778, \"#fb9f3a\"], [0.8888888888888888, \"#fdca26\"], [1.0, \"#f0f921\"]], \"type\": \"heatmap\"}], \"heatmapgl\": [{\"colorbar\": {\"outlinewidth\": 0, \"ticks\": \"\"}, \"colorscale\": [[0.0, \"#0d0887\"], [0.1111111111111111, \"#46039f\"], [0.2222222222222222, \"#7201a8\"], [0.3333333333333333, \"#9c179e\"], [0.4444444444444444, \"#bd3786\"], [0.5555555555555556, \"#d8576b\"], [0.6666666666666666, \"#ed7953\"], [0.7777777777777778, \"#fb9f3a\"], [0.8888888888888888, \"#fdca26\"], [1.0, \"#f0f921\"]], \"type\": \"heatmapgl\"}], \"histogram\": [{\"marker\": {\"colorbar\": {\"outlinewidth\": 0, \"ticks\": \"\"}}, \"type\": \"histogram\"}], \"histogram2d\": [{\"colorbar\": {\"outlinewidth\": 0, \"ticks\": \"\"}, \"colorscale\": [[0.0, \"#0d0887\"], [0.1111111111111111, \"#46039f\"], [0.2222222222222222, \"#7201a8\"], [0.3333333333333333, \"#9c179e\"], [0.4444444444444444, \"#bd3786\"], [0.5555555555555556, \"#d8576b\"], [0.6666666666666666, \"#ed7953\"], [0.7777777777777778, \"#fb9f3a\"], [0.8888888888888888, \"#fdca26\"], [1.0, \"#f0f921\"]], \"type\": \"histogram2d\"}], \"histogram2dcontour\": [{\"colorbar\": {\"outlinewidth\": 0, \"ticks\": \"\"}, \"colorscale\": [[0.0, \"#0d0887\"], [0.1111111111111111, \"#46039f\"], [0.2222222222222222, \"#7201a8\"], [0.3333333333333333, \"#9c179e\"], [0.4444444444444444, \"#bd3786\"], [0.5555555555555556, \"#d8576b\"], [0.6666666666666666, \"#ed7953\"], [0.7777777777777778, \"#fb9f3a\"], [0.8888888888888888, \"#fdca26\"], [1.0, \"#f0f921\"]], \"type\": \"histogram2dcontour\"}], \"mesh3d\": [{\"colorbar\": {\"outlinewidth\": 0, \"ticks\": \"\"}, \"type\": \"mesh3d\"}], \"parcoords\": [{\"line\": {\"colorbar\": {\"outlinewidth\": 0, \"ticks\": \"\"}}, \"type\": \"parcoords\"}], \"pie\": [{\"automargin\": true, \"type\": \"pie\"}], \"scatter\": [{\"marker\": {\"colorbar\": {\"outlinewidth\": 0, \"ticks\": \"\"}}, \"type\": \"scatter\"}], \"scatter3d\": [{\"line\": {\"colorbar\": {\"outlinewidth\": 0, \"ticks\": \"\"}}, \"marker\": {\"colorbar\": {\"outlinewidth\": 0, \"ticks\": \"\"}}, \"type\": \"scatter3d\"}], \"scattercarpet\": [{\"marker\": {\"colorbar\": {\"outlinewidth\": 0, \"ticks\": \"\"}}, \"type\": \"scattercarpet\"}], \"scattergeo\": [{\"marker\": {\"colorbar\": {\"outlinewidth\": 0, \"ticks\": \"\"}}, \"type\": \"scattergeo\"}], \"scattergl\": [{\"marker\": {\"colorbar\": {\"outlinewidth\": 0, \"ticks\": \"\"}}, \"type\": \"scattergl\"}], \"scattermapbox\": [{\"marker\": {\"colorbar\": {\"outlinewidth\": 0, \"ticks\": \"\"}}, \"type\": \"scattermapbox\"}], \"scatterpolar\": [{\"marker\": {\"colorbar\": {\"outlinewidth\": 0, \"ticks\": \"\"}}, \"type\": \"scatterpolar\"}], \"scatterpolargl\": [{\"marker\": {\"colorbar\": {\"outlinewidth\": 0, \"ticks\": \"\"}}, \"type\": \"scatterpolargl\"}], \"scatterternary\": [{\"marker\": {\"colorbar\": {\"outlinewidth\": 0, \"ticks\": \"\"}}, \"type\": \"scatterternary\"}], \"surface\": [{\"colorbar\": {\"outlinewidth\": 0, \"ticks\": \"\"}, \"colorscale\": [[0.0, \"#0d0887\"], [0.1111111111111111, \"#46039f\"], [0.2222222222222222, \"#7201a8\"], [0.3333333333333333, \"#9c179e\"], [0.4444444444444444, \"#bd3786\"], [0.5555555555555556, \"#d8576b\"], [0.6666666666666666, \"#ed7953\"], [0.7777777777777778, \"#fb9f3a\"], [0.8888888888888888, \"#fdca26\"], [1.0, \"#f0f921\"]], \"type\": \"surface\"}], \"table\": [{\"cells\": {\"fill\": {\"color\": \"#EBF0F8\"}, \"line\": {\"color\": \"white\"}}, \"header\": {\"fill\": {\"color\": \"#C8D4E3\"}, \"line\": {\"color\": \"white\"}}, \"type\": \"table\"}]}, \"layout\": {\"annotationdefaults\": {\"arrowcolor\": \"#2a3f5f\", \"arrowhead\": 0, \"arrowwidth\": 1}, \"coloraxis\": {\"colorbar\": {\"outlinewidth\": 0, \"ticks\": \"\"}}, \"colorscale\": {\"diverging\": [[0, \"#8e0152\"], [0.1, \"#c51b7d\"], [0.2, \"#de77ae\"], [0.3, \"#f1b6da\"], [0.4, \"#fde0ef\"], [0.5, \"#f7f7f7\"], [0.6, \"#e6f5d0\"], [0.7, \"#b8e186\"], [0.8, \"#7fbc41\"], [0.9, \"#4d9221\"], [1, \"#276419\"]], \"sequential\": [[0.0, \"#0d0887\"], [0.1111111111111111, \"#46039f\"], [0.2222222222222222, \"#7201a8\"], [0.3333333333333333, \"#9c179e\"], [0.4444444444444444, \"#bd3786\"], [0.5555555555555556, \"#d8576b\"], [0.6666666666666666, \"#ed7953\"], [0.7777777777777778, \"#fb9f3a\"], [0.8888888888888888, \"#fdca26\"], [1.0, \"#f0f921\"]], \"sequentialminus\": [[0.0, \"#0d0887\"], [0.1111111111111111, \"#46039f\"], [0.2222222222222222, \"#7201a8\"], [0.3333333333333333, \"#9c179e\"], [0.4444444444444444, \"#bd3786\"], [0.5555555555555556, \"#d8576b\"], [0.6666666666666666, \"#ed7953\"], [0.7777777777777778, \"#fb9f3a\"], [0.8888888888888888, \"#fdca26\"], [1.0, \"#f0f921\"]]}, \"colorway\": [\"#636efa\", \"#EF553B\", \"#00cc96\", \"#ab63fa\", \"#FFA15A\", \"#19d3f3\", \"#FF6692\", \"#B6E880\", \"#FF97FF\", \"#FECB52\"], \"font\": {\"color\": \"#2a3f5f\"}, \"geo\": {\"bgcolor\": \"white\", \"lakecolor\": \"white\", \"landcolor\": \"#E5ECF6\", \"showlakes\": true, \"showland\": true, \"subunitcolor\": \"white\"}, \"hoverlabel\": {\"align\": \"left\"}, \"hovermode\": \"closest\", \"mapbox\": {\"style\": \"light\"}, \"paper_bgcolor\": \"white\", \"plot_bgcolor\": \"#E5ECF6\", \"polar\": {\"angularaxis\": {\"gridcolor\": \"white\", \"linecolor\": \"white\", \"ticks\": \"\"}, \"bgcolor\": \"#E5ECF6\", \"radialaxis\": {\"gridcolor\": \"white\", \"linecolor\": \"white\", \"ticks\": \"\"}}, \"scene\": {\"xaxis\": {\"backgroundcolor\": \"#E5ECF6\", \"gridcolor\": \"white\", \"gridwidth\": 2, \"linecolor\": \"white\", \"showbackground\": true, \"ticks\": \"\", \"zerolinecolor\": \"white\"}, \"yaxis\": {\"backgroundcolor\": \"#E5ECF6\", \"gridcolor\": \"white\", \"gridwidth\": 2, \"linecolor\": \"white\", \"showbackground\": true, \"ticks\": \"\", \"zerolinecolor\": \"white\"}, \"zaxis\": {\"backgroundcolor\": \"#E5ECF6\", \"gridcolor\": \"white\", \"gridwidth\": 2, \"linecolor\": \"white\", \"showbackground\": true, \"ticks\": \"\", \"zerolinecolor\": \"white\"}}, \"shapedefaults\": {\"line\": {\"color\": \"#2a3f5f\"}}, \"ternary\": {\"aaxis\": {\"gridcolor\": \"white\", \"linecolor\": \"white\", \"ticks\": \"\"}, \"baxis\": {\"gridcolor\": \"white\", \"linecolor\": \"white\", \"ticks\": \"\"}, \"bgcolor\": \"#E5ECF6\", \"caxis\": {\"gridcolor\": \"white\", \"linecolor\": \"white\", \"ticks\": \"\"}}, \"title\": {\"x\": 0.05}, \"xaxis\": {\"automargin\": true, \"gridcolor\": \"white\", \"linecolor\": \"white\", \"ticks\": \"\", \"title\": {\"standoff\": 15}, \"zerolinecolor\": \"white\", \"zerolinewidth\": 2}, \"yaxis\": {\"automargin\": true, \"gridcolor\": \"white\", \"linecolor\": \"white\", \"ticks\": \"\", \"title\": {\"standoff\": 15}, \"zerolinecolor\": \"white\", \"zerolinewidth\": 2}}}, \"title\": {\"text\": \"2018 HK Export\"}},\n",
       "                        {\"responsive\": true}\n",
       "                    ).then(function(){\n",
       "                            \n",
       "var gd = document.getElementById('f4ef3618-a92e-4dff-a4a7-a0309f313927');\n",
       "var x = new MutationObserver(function (mutations, observer) {{\n",
       "        var display = window.getComputedStyle(gd).display;\n",
       "        if (!display || display === 'none') {{\n",
       "            console.log([gd, 'removed!']);\n",
       "            Plotly.purge(gd);\n",
       "            observer.disconnect();\n",
       "        }}\n",
       "}});\n",
       "\n",
       "// Listen for the removal of the full notebook cells\n",
       "var notebookContainer = gd.closest('#notebook-container');\n",
       "if (notebookContainer) {{\n",
       "    x.observe(notebookContainer, {childList: true});\n",
       "}}\n",
       "\n",
       "// Listen for the clearing of the current output cell\n",
       "var outputEl = gd.closest('.output');\n",
       "if (outputEl) {{\n",
       "    x.observe(outputEl, {childList: true});\n",
       "}}\n",
       "\n",
       "                        })\n",
       "                };\n",
       "                });\n",
       "            </script>\n",
       "        </div>"
      ]
     },
     "metadata": {},
     "output_type": "display_data"
    }
   ],
   "source": [
    "fig = go.Figure(data=go.Choropleth(\n",
    "    locations = df['code'],\n",
    "    z = df.index+1,\n",
    "    text = df['country'],\n",
    "    colorscale = 'Blues',\n",
    "    autocolorscale=False,\n",
    "    reversescale=False,\n",
    "    marker_line_color='darkgray',\n",
    "    marker_line_width=0.5,\n",
    "    colorbar_tickprefix = '',\n",
    "    colorbar_title = 'Ranking',\n",
    "))\n",
    "\n",
    "fig.update_layout(\n",
    "    title_text='2018 HK Export',\n",
    "    geo=dict(\n",
    "        showframe=False,\n",
    "        showcoastlines=True,\n",
    "        projection_type='equirectangular'\n",
    "    ),\n",
    "    annotations = [dict(\n",
    "        x=0.55,\n",
    "        y=0.1,\n",
    "        xref='paper',\n",
    "        yref='paper',\n",
    "        text='Source: <a href=\"https://tradingeconomics.com/hong-kong/exports-by-country\">\\\n",
    "            Trading Economics</a>',\n",
    "        showarrow = False\n",
    "    )]\n",
    ")\n",
    "\n",
    "fig.show()"
   ]
  },
  {
   "cell_type": "code",
   "execution_count": null,
   "metadata": {},
   "outputs": [],
   "source": []
  }
 ],
 "metadata": {
  "kernelspec": {
   "display_name": "Python 3",
   "language": "python",
   "name": "python3"
  },
  "language_info": {
   "codemirror_mode": {
    "name": "ipython",
    "version": 3
   },
   "file_extension": ".py",
   "mimetype": "text/x-python",
   "name": "python",
   "nbconvert_exporter": "python",
   "pygments_lexer": "ipython3",
   "version": "3.7.4"
  }
 },
 "nbformat": 4,
 "nbformat_minor": 2
}
