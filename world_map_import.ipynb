{
 "cells": [
  {
   "cell_type": "markdown",
   "metadata": {},
   "source": [
    "# HK Import Data in 2018\n",
    "\n",
    "This notebook documents the python codes to visualize economic data using choropleth maps.\n",
    "\n",
    "Data source: https://tradingeconomics.com/hong-kong/imports-by-country"
   ]
  },
  {
   "cell_type": "code",
   "execution_count": 1,
   "metadata": {},
   "outputs": [],
   "source": [
    "import plotly.graph_objects as go\n",
    "import pandas as pd\n",
    "import numpy as np\n",
    "\n",
    "%matplotlib notebook"
   ]
  },
  {
   "cell_type": "code",
   "execution_count": 23,
   "metadata": {},
   "outputs": [],
   "source": [
    "def convert_to_money(x):\n",
    "    x = x[1:]\n",
    "    if x[-1] == 'B':\n",
    "        x = float(x[:-1]) * 1e9\n",
    "    elif x[-1] == 'M':\n",
    "        x = float(x[:-1]) * 1e6\n",
    "    elif x[-1] == 'K':\n",
    "        x = float(x[:-1]) * 1e3\n",
    "    return x\n",
    "\n",
    "def get_country_code(x):\n",
    "    x = code.loc[code['Country'] == x, 'Alpha-3 code']\n",
    "    if x.empty:\n",
    "        x = ''\n",
    "    else:\n",
    "        x = x.item()\n",
    "    return x\n",
    "\n",
    "def convert_to_log(x):\n",
    "    x = float(x)\n",
    "    x = np.log10(x)\n",
    "    return x"
   ]
  },
  {
   "cell_type": "code",
   "execution_count": 24,
   "metadata": {
    "scrolled": true
   },
   "outputs": [],
   "source": [
    "df = pd.read_csv(\"hk_import_data.csv\")\n",
    "df[\"code\"] = ''\n",
    "df[\"log(export)\"] = ''\n",
    "df.columns = ['country', 'value', 'year', 'code', \"log(value)\"]\n",
    "\n",
    "# Processing\n",
    "df = df[df.year == 2018]\n",
    "for i in range(df['value'].count()):\n",
    "    df.loc[i, 'value'] = convert_to_money(df.loc[i, 'value'])\n",
    "    df.loc[i, 'log(value)'] = convert_to_log(df.loc[i, 'value'])"
   ]
  },
  {
   "cell_type": "code",
   "execution_count": null,
   "metadata": {},
   "outputs": [],
   "source": []
  },
  {
   "cell_type": "code",
   "execution_count": 25,
   "metadata": {},
   "outputs": [
    {
     "name": "stderr",
     "output_type": "stream",
     "text": [
      "/home/derek/anaconda3/lib/python3.7/site-packages/ipykernel_launcher.py:16: FutureWarning:\n",
      "\n",
      "`item` has been deprecated and will be removed in a future version\n",
      "\n"
     ]
    }
   ],
   "source": [
    "code = pd.read_csv('country_code_table.csv')\n",
    "for i in range(df['country'].count()):\n",
    "    df.loc[i, 'code'] = get_country_code(df.loc[i, 'country'])"
   ]
  },
  {
   "cell_type": "code",
   "execution_count": 26,
   "metadata": {},
   "outputs": [
    {
     "data": {
      "text/html": [
       "<div>\n",
       "<style scoped>\n",
       "    .dataframe tbody tr th:only-of-type {\n",
       "        vertical-align: middle;\n",
       "    }\n",
       "\n",
       "    .dataframe tbody tr th {\n",
       "        vertical-align: top;\n",
       "    }\n",
       "\n",
       "    .dataframe thead th {\n",
       "        text-align: right;\n",
       "    }\n",
       "</style>\n",
       "<table border=\"1\" class=\"dataframe\">\n",
       "  <thead>\n",
       "    <tr style=\"text-align: right;\">\n",
       "      <th></th>\n",
       "      <th>country</th>\n",
       "      <th>value</th>\n",
       "      <th>year</th>\n",
       "      <th>code</th>\n",
       "      <th>log(value)</th>\n",
       "    </tr>\n",
       "  </thead>\n",
       "  <tbody>\n",
       "    <tr>\n",
       "      <th>0</th>\n",
       "      <td>China</td>\n",
       "      <td>2.8098e+11</td>\n",
       "      <td>2018</td>\n",
       "      <td>CHN</td>\n",
       "      <td>11.4487</td>\n",
       "    </tr>\n",
       "    <tr>\n",
       "      <th>1</th>\n",
       "      <td>Other Asia, nes</td>\n",
       "      <td>4.329e+10</td>\n",
       "      <td>2018</td>\n",
       "      <td></td>\n",
       "      <td>10.6364</td>\n",
       "    </tr>\n",
       "    <tr>\n",
       "      <th>2</th>\n",
       "      <td>Singapore</td>\n",
       "      <td>4.042e+10</td>\n",
       "      <td>2018</td>\n",
       "      <td>SGP</td>\n",
       "      <td>10.6066</td>\n",
       "    </tr>\n",
       "    <tr>\n",
       "      <th>3</th>\n",
       "      <td>South Korea</td>\n",
       "      <td>3.558e+10</td>\n",
       "      <td>2018</td>\n",
       "      <td>KOR</td>\n",
       "      <td>10.5512</td>\n",
       "    </tr>\n",
       "    <tr>\n",
       "      <th>4</th>\n",
       "      <td>Japan</td>\n",
       "      <td>3.488e+10</td>\n",
       "      <td>2018</td>\n",
       "      <td>JPN</td>\n",
       "      <td>10.5426</td>\n",
       "    </tr>\n",
       "    <tr>\n",
       "      <th>...</th>\n",
       "      <td>...</td>\n",
       "      <td>...</td>\n",
       "      <td>...</td>\n",
       "      <td>...</td>\n",
       "      <td>...</td>\n",
       "    </tr>\n",
       "    <tr>\n",
       "      <th>190</th>\n",
       "      <td>Vatican City State</td>\n",
       "      <td>2320</td>\n",
       "      <td>2018</td>\n",
       "      <td>VAT</td>\n",
       "      <td>3.36549</td>\n",
       "    </tr>\n",
       "    <tr>\n",
       "      <th>191</th>\n",
       "      <td>United States Minor Outlying Islands</td>\n",
       "      <td>1280</td>\n",
       "      <td>2018</td>\n",
       "      <td>UMI</td>\n",
       "      <td>3.10721</td>\n",
       "    </tr>\n",
       "    <tr>\n",
       "      <th>192</th>\n",
       "      <td>Grenada</td>\n",
       "      <td>298</td>\n",
       "      <td>2018</td>\n",
       "      <td>GRD</td>\n",
       "      <td>2.47422</td>\n",
       "    </tr>\n",
       "    <tr>\n",
       "      <th>193</th>\n",
       "      <td>Nauru</td>\n",
       "      <td>73</td>\n",
       "      <td>2018</td>\n",
       "      <td>NRU</td>\n",
       "      <td>1.86332</td>\n",
       "    </tr>\n",
       "    <tr>\n",
       "      <th>194</th>\n",
       "      <td>North Korea</td>\n",
       "      <td>1</td>\n",
       "      <td>2018</td>\n",
       "      <td>PRK</td>\n",
       "      <td>0</td>\n",
       "    </tr>\n",
       "  </tbody>\n",
       "</table>\n",
       "<p>195 rows × 5 columns</p>\n",
       "</div>"
      ],
      "text/plain": [
       "                                  country       value  year code log(value)\n",
       "0                                   China  2.8098e+11  2018  CHN    11.4487\n",
       "1                         Other Asia, nes   4.329e+10  2018         10.6364\n",
       "2                               Singapore   4.042e+10  2018  SGP    10.6066\n",
       "3                             South Korea   3.558e+10  2018  KOR    10.5512\n",
       "4                                   Japan   3.488e+10  2018  JPN    10.5426\n",
       "..                                    ...         ...   ...  ...        ...\n",
       "190                    Vatican City State        2320  2018  VAT    3.36549\n",
       "191  United States Minor Outlying Islands        1280  2018  UMI    3.10721\n",
       "192                               Grenada         298  2018  GRD    2.47422\n",
       "193                                 Nauru          73  2018  NRU    1.86332\n",
       "194                           North Korea           1  2018  PRK          0\n",
       "\n",
       "[195 rows x 5 columns]"
      ]
     },
     "execution_count": 26,
     "metadata": {},
     "output_type": "execute_result"
    }
   ],
   "source": [
    "df.to_csv(index=False, path_or_buf='hk_import_data_cleaned.csv')\n",
    "df"
   ]
  },
  {
   "cell_type": "code",
   "execution_count": 28,
   "metadata": {},
   "outputs": [
    {
     "data": {
      "application/vnd.plotly.v1+json": {
       "config": {
        "plotlyServerURL": "https://plot.ly"
       },
       "data": [
        {
         "autocolorscale": false,
         "colorbar": {
          "tickprefix": "",
          "title": {
           "text": "Log(Import US$)"
          }
         },
         "colorscale": [
          [
           0,
           "rgb(247,251,255)"
          ],
          [
           0.125,
           "rgb(222,235,247)"
          ],
          [
           0.25,
           "rgb(198,219,239)"
          ],
          [
           0.375,
           "rgb(158,202,225)"
          ],
          [
           0.5,
           "rgb(107,174,214)"
          ],
          [
           0.625,
           "rgb(66,146,198)"
          ],
          [
           0.75,
           "rgb(33,113,181)"
          ],
          [
           0.875,
           "rgb(8,81,156)"
          ],
          [
           1,
           "rgb(8,48,107)"
          ]
         ],
         "locations": [
          "CHN",
          "",
          "SGP",
          "KOR",
          "JPN",
          "USA",
          "MYS",
          "CHE",
          "THA",
          "IND",
          "PHL",
          "GBR",
          "VNM",
          "AUS",
          "DEU",
          "FRA",
          "ITA",
          "ARE",
          "BEL",
          "IDN",
          "ZAF",
          "BRA",
          "NLD",
          "ISR",
          "CAN",
          "CHL",
          "ESP",
          "MEX",
          "IRL",
          "MAC",
          "RUS",
          "QAT",
          "TUR",
          "NZL",
          "DNK",
          "SAU",
          "HUN",
          "POL",
          "BWA",
          "AUT",
          "CZE",
          "KHM",
          "SWE",
          "ARG",
          "SUR",
          "SVN",
          "MLT",
          "NOR",
          "BGD",
          "CRI",
          "LUX",
          "BHR",
          "PRT",
          "PER",
          "COL",
          "LKA",
          "MAR",
          "SLV",
          "IRN",
          "FIN",
          "PAK",
          "OMN",
          "MMR",
          "UGA",
          "EGY",
          "BGR",
          "URY",
          "KWT",
          "KEN",
          "UKR",
          "NAM",
          "CUB",
          "PNG",
          "JOR",
          "GRC",
          "ROU",
          "HRV",
          "TZA",
          "LTU",
          "AGO",
          "ECU",
          "ZWE",
          "NGA",
          "SVK",
          "NIC",
          "PAN",
          "SEN",
          "LBN",
          "ZMB",
          "GUY",
          "GTM",
          "DOM",
          "CYP",
          "VEN",
          "EST",
          "GHA",
          "LVA",
          "YEM",
          "SRB",
          "PRY",
          "HND",
          "ETH",
          "BRB",
          "TUN",
          "MOZ",
          "LAO",
          "MUS",
          "MDA",
          "BLR",
          "GUM",
          "BRN",
          "MDG",
          "TGO",
          "MDV",
          "",
          "GEO",
          "BOL",
          "JAM",
          "ISL",
          "HTI",
          "GIN",
          "COD",
          "MRT",
          "MNE",
          "SLB",
          "FJI",
          "DZA",
          "SYC",
          "IRQ",
          "NPL",
          "GAB",
          "KAZ",
          "MWI",
          "DJI",
          "VUT",
          "MNG",
          "UZB",
          "MKD",
          "CMR",
          "TTO",
          "AZE",
          "BEN",
          "LBR",
          "COG",
          "BLZ",
          "SDN",
          "CIV",
          "RWA",
          "MLI",
          "BHS",
          "SOM",
          "CPV",
          "ALB",
          "KGZ",
          "SLE",
          "ARM",
          "ABW",
          "ASM",
          "SWZ",
          "BIH",
          "CAF",
          "AND",
          "FSM",
          "TKL",
          "AFG",
          "TKM",
          "KIR",
          "GMB",
          "GIB",
          "MHL",
          "MNP",
          "SMR",
          "",
          "BTN",
          "SSD",
          "SYR",
          "NER",
          "WSM",
          "TCD",
          "TON",
          "BFA",
          "",
          "COM",
          "LSO",
          "BDI",
          "",
          "LBY",
          "TJK",
          "GNQ",
          "GNB",
          "VAT",
          "UMI",
          "GRD",
          "NRU",
          "PRK"
         ],
         "marker": {
          "line": {
           "color": "darkgray",
           "width": 0.5
          }
         },
         "reversescale": false,
         "text": [
          "China",
          "Other Asia, nes",
          "Singapore",
          "South Korea",
          "Japan",
          "United States",
          "Malaysia",
          "Switzerland",
          "Thailand",
          "India",
          "Philippines",
          "United Kingdom",
          "Vietnam",
          "Australia",
          "Germany",
          "France",
          "Italy",
          "United Arab Emirates",
          "Belgium",
          "Indonesia",
          "South Africa",
          "Brazil",
          "Netherlands",
          "Israel",
          "Canada",
          "Chile",
          "Spain",
          "Mexico",
          "Ireland",
          "Macau",
          "Russia",
          "Qatar",
          "Turkey",
          "New Zealand",
          "Denmark",
          "Saudi Arabia",
          "Hungary",
          "Poland",
          "Botswana",
          "Austria",
          "Czech Republic",
          "Cambodia",
          "Sweden",
          "Argentina",
          "Suriname",
          "Slovenia",
          "Malta",
          "Norway",
          "Bangladesh",
          "Costa Rica",
          "Luxembourg",
          "Bahrain",
          "Portugal",
          "Peru",
          "Colombia",
          "Sri Lanka",
          "Morocco",
          "El Salvador",
          "Iran",
          "Finland",
          "Pakistan",
          "Oman",
          "Myanmar",
          "Uganda",
          "Egypt",
          "Bulgaria",
          "Uruguay",
          "Kuwait",
          "Kenya",
          "Ukraine",
          "Namibia",
          "Cuba",
          "Papua New Guinea",
          "Jordan",
          "Greece",
          "Romania",
          "Croatia",
          "Tanzania",
          "Lithuania",
          "Angola",
          "Ecuador",
          "Zimbabwe",
          "Nigeria",
          "Slovakia",
          "Nicaragua",
          "Panama",
          "Senegal",
          "Lebanon",
          "Zambia",
          "Guyana",
          "Guatemala",
          "Dominican Republic",
          "Cyprus",
          "Venezuela",
          "Estonia",
          "Ghana",
          "Latvia",
          "Yemen",
          "Serbia",
          "Paraguay",
          "Honduras",
          "Ethiopia",
          "Barbados",
          "Tunisia",
          "Mozambique",
          "Laos",
          "Mauritius",
          "Moldova",
          "Belarus",
          "Guam",
          "Brunei",
          "Madagascar",
          "Togo",
          "Maldives",
          "Oceania, nes",
          "Georgia",
          "Bolivia",
          "Jamaica",
          "Iceland",
          "Haiti",
          "Guinea",
          "Republic of the Congo",
          "Mauritania",
          "Montenegro",
          "Solomon Islands",
          "Fiji",
          "Algeria",
          "Seychelles",
          "Iraq",
          "Nepal",
          "Gabon",
          "Kazakhstan",
          "Malawi",
          "Djibouti",
          "Vanuatu",
          "Mongolia",
          "Uzbekistan",
          "Macedonia",
          "Cameroon",
          "Trinidad And Tobago",
          "Azerbaijan",
          "Benin",
          "Liberia",
          "Congo",
          "Belize",
          "Sudan",
          "Ivory Coast",
          "Rwanda",
          "Mali",
          "Bahamas",
          "Somalia",
          "Cape Verde",
          "Albania",
          "Kyrgyzstan",
          "Sierra Leone",
          "Armenia",
          "Aruba",
          "American Samoa",
          "Swaziland",
          "Bosnia And Herzegovina",
          "Central African Republic",
          "Andorra",
          "FS Micronesia",
          "Tokelau",
          "Afghanistan",
          "Turkmenistan",
          "Kiribati",
          "Gambia",
          "Gibraltar",
          "Marshall Islands",
          "Northern Mariana Islands",
          "San Marino",
          "Other Europe, nes",
          "Bhutan",
          "South Sudan",
          "Syria",
          "Niger",
          "Samoa",
          "Chad",
          "Tonga",
          "Burkina Faso",
          "America, nes",
          "Comoros",
          "Lesotho",
          "Burundi",
          "Other Africa, nes",
          "Libya",
          "Tajikistan",
          "Equatorial Guinea",
          "Guinea Bissau",
          "Vatican City State",
          "United States Minor Outlying Islands",
          "Grenada",
          "Nauru",
          "North Korea"
         ],
         "type": "choropleth",
         "z": [
          11.448675408165723,
          10.636387585813157,
          10.606596309179285,
          10.551205943747906,
          10.54257647626053,
          10.501880493755058,
          10.38273726576133,
          10.198657086954423,
          10.074816440645174,
          10.073718350346123,
          10.045322978786658,
          10,
          9.926342446625656,
          9.854913022307855,
          9.841984804590114,
          9.831229693867064,
          9.823474229170301,
          9.64640372622307,
          9.519827993775719,
          9.460897842756548,
          9.45484486000851,
          9.437750562820389,
          9.432969290874405,
          9.380211241711606,
          9.344392273685111,
          9.056904851336473,
          9.008600171761918,
          8.994440339305523,
          8.975404233381033,
          8.973691146932962,
          8.929362719262022,
          8.897434639707935,
          8.88103639676077,
          8.836748073870014,
          8.7305804190595,
          8.72343925227368,
          8.557314674148142,
          8.54609827138238,
          8.533212629851256,
          8.532091606278936,
          8.487830996483996,
          8.47430369711656,
          8.42672266414578,
          8.411417661539069,
          8.35305023964259,
          8.350596864828633,
          8.32960124835652,
          8.259808822954628,
          8.232029937620133,
          8.199919651590568,
          8.17536683106135,
          8.169645049134955,
          8.16858586553641,
          8.161008437306002,
          8.126033948051813,
          8.12355765800395,
          8.083789188287978,
          8.074011446008944,
          8.069372054308515,
          8.059676993584755,
          8.029586671630458,
          8.017700971224116,
          8.004708196544335,
          7.903361336255318,
          7.877371345869774,
          7.811373897053893,
          7.798374376681561,
          7.790425917391111,
          7.762078087334639,
          7.756255648754234,
          7.723455672035186,
          7.721810615212546,
          7.720407400803109,
          7.707314633588708,
          7.704322140822235,
          7.702602841340427,
          7.665017825412472,
          7.622317660833844,
          7.61689542640076,
          7.569022586029564,
          7.562530768862262,
          7.533009022495485,
          7.491921712586151,
          7.477121254719663,
          7.47567118832443,
          7.420120848085703,
          7.3979400086720375,
          7.382557321908786,
          7.379124146070392,
          7.373095987078727,
          7.3404441148401185,
          7.3213912783116895,
          7.286231854028553,
          7.253580289562183,
          7.223236273102998,
          7.197004728023046,
          7.145196406114182,
          7.109578546904387,
          7.089551882886454,
          7.082066934285113,
          7.062205808819713,
          7.054613054556888,
          7.0322157032979815,
          7.011147360775797,
          6.974050902792877,
          6.9656719712201065,
          6.941511432634403,
          6.940516484932568,
          6.862727528317975,
          6.816241299991783,
          6.812244696800369,
          6.800029359244134,
          6.778874472002739,
          6.773054693364263,
          6.70070371714502,
          6.608526033577194,
          6.593286067020458,
          6.558708570533166,
          6.547774705387822,
          6.525044807036846,
          6.518513939877887,
          6.502427119984433,
          6.489958479424835,
          6.480006942957151,
          6.439332693830263,
          6.429752280002408,
          6.423245873936808,
          6.3979400086720375,
          6.365487984890899,
          6.3560258571931225,
          6.305351369446623,
          6.2576785748691846,
          6.243038048686294,
          6.217483944213907,
          6.17897694729317,
          6.17897694729317,
          6.155336037465061,
          6.123851640967086,
          6.110589710299249,
          5.987170027952116,
          5.97144285296316,
          5.935809453809933,
          5.932940279122394,
          5.928262675512426,
          5.913660233266842,
          5.8533148416039475,
          5.829760346204363,
          5.807183120531617,
          5.766353350642424,
          5.758253141826201,
          5.745699226602506,
          5.7366832809904,
          5.718343885915553,
          5.695376592532294,
          5.669577193231637,
          5.614528119747539,
          5.587890481186355,
          5.55138899727302,
          5.525239223729745,
          5.48945221029981,
          5.395972547794993,
          5.344628025694105,
          5.2890535575926405,
          5.260071387985075,
          5.243905770217522,
          5.1719895827021185,
          5.138744663948892,
          5.138365863678996,
          5.112403892717874,
          5.099231615080882,
          5.012330955580147,
          5.005094675072549,
          4.959851954799605,
          4.835817354293473,
          4.784189205380961,
          4.728272597895017,
          4.441852175773292,
          4.403635189790548,
          4.385606273598312,
          4.3743816980508825,
          4.322632711692224,
          4.273926780100526,
          4.176669932668149,
          4.118264726089479,
          4.03981055414835,
          4.0068937079479,
          3.9400181550076634,
          3.558708570533166,
          3.4771212547196626,
          3.406540180433955,
          3.3654879848909,
          3.1072099696478683,
          2.4742162640762553,
          1.863322860120456,
          0
         ]
        }
       ],
       "layout": {
        "annotations": [
         {
          "showarrow": false,
          "text": "Source: <a href=\"https://tradingeconomics.com/hong-kong/exports-by-country\">            Trading Economics</a>",
          "x": 0.55,
          "xref": "paper",
          "y": 0.1,
          "yref": "paper"
         }
        ],
        "geo": {
         "projection": {
          "type": "equirectangular"
         },
         "showcoastlines": true,
         "showframe": false
        },
        "template": {
         "data": {
          "bar": [
           {
            "error_x": {
             "color": "#2a3f5f"
            },
            "error_y": {
             "color": "#2a3f5f"
            },
            "marker": {
             "line": {
              "color": "#E5ECF6",
              "width": 0.5
             }
            },
            "type": "bar"
           }
          ],
          "barpolar": [
           {
            "marker": {
             "line": {
              "color": "#E5ECF6",
              "width": 0.5
             }
            },
            "type": "barpolar"
           }
          ],
          "carpet": [
           {
            "aaxis": {
             "endlinecolor": "#2a3f5f",
             "gridcolor": "white",
             "linecolor": "white",
             "minorgridcolor": "white",
             "startlinecolor": "#2a3f5f"
            },
            "baxis": {
             "endlinecolor": "#2a3f5f",
             "gridcolor": "white",
             "linecolor": "white",
             "minorgridcolor": "white",
             "startlinecolor": "#2a3f5f"
            },
            "type": "carpet"
           }
          ],
          "choropleth": [
           {
            "colorbar": {
             "outlinewidth": 0,
             "ticks": ""
            },
            "type": "choropleth"
           }
          ],
          "contour": [
           {
            "colorbar": {
             "outlinewidth": 0,
             "ticks": ""
            },
            "colorscale": [
             [
              0,
              "#0d0887"
             ],
             [
              0.1111111111111111,
              "#46039f"
             ],
             [
              0.2222222222222222,
              "#7201a8"
             ],
             [
              0.3333333333333333,
              "#9c179e"
             ],
             [
              0.4444444444444444,
              "#bd3786"
             ],
             [
              0.5555555555555556,
              "#d8576b"
             ],
             [
              0.6666666666666666,
              "#ed7953"
             ],
             [
              0.7777777777777778,
              "#fb9f3a"
             ],
             [
              0.8888888888888888,
              "#fdca26"
             ],
             [
              1,
              "#f0f921"
             ]
            ],
            "type": "contour"
           }
          ],
          "contourcarpet": [
           {
            "colorbar": {
             "outlinewidth": 0,
             "ticks": ""
            },
            "type": "contourcarpet"
           }
          ],
          "heatmap": [
           {
            "colorbar": {
             "outlinewidth": 0,
             "ticks": ""
            },
            "colorscale": [
             [
              0,
              "#0d0887"
             ],
             [
              0.1111111111111111,
              "#46039f"
             ],
             [
              0.2222222222222222,
              "#7201a8"
             ],
             [
              0.3333333333333333,
              "#9c179e"
             ],
             [
              0.4444444444444444,
              "#bd3786"
             ],
             [
              0.5555555555555556,
              "#d8576b"
             ],
             [
              0.6666666666666666,
              "#ed7953"
             ],
             [
              0.7777777777777778,
              "#fb9f3a"
             ],
             [
              0.8888888888888888,
              "#fdca26"
             ],
             [
              1,
              "#f0f921"
             ]
            ],
            "type": "heatmap"
           }
          ],
          "heatmapgl": [
           {
            "colorbar": {
             "outlinewidth": 0,
             "ticks": ""
            },
            "colorscale": [
             [
              0,
              "#0d0887"
             ],
             [
              0.1111111111111111,
              "#46039f"
             ],
             [
              0.2222222222222222,
              "#7201a8"
             ],
             [
              0.3333333333333333,
              "#9c179e"
             ],
             [
              0.4444444444444444,
              "#bd3786"
             ],
             [
              0.5555555555555556,
              "#d8576b"
             ],
             [
              0.6666666666666666,
              "#ed7953"
             ],
             [
              0.7777777777777778,
              "#fb9f3a"
             ],
             [
              0.8888888888888888,
              "#fdca26"
             ],
             [
              1,
              "#f0f921"
             ]
            ],
            "type": "heatmapgl"
           }
          ],
          "histogram": [
           {
            "marker": {
             "colorbar": {
              "outlinewidth": 0,
              "ticks": ""
             }
            },
            "type": "histogram"
           }
          ],
          "histogram2d": [
           {
            "colorbar": {
             "outlinewidth": 0,
             "ticks": ""
            },
            "colorscale": [
             [
              0,
              "#0d0887"
             ],
             [
              0.1111111111111111,
              "#46039f"
             ],
             [
              0.2222222222222222,
              "#7201a8"
             ],
             [
              0.3333333333333333,
              "#9c179e"
             ],
             [
              0.4444444444444444,
              "#bd3786"
             ],
             [
              0.5555555555555556,
              "#d8576b"
             ],
             [
              0.6666666666666666,
              "#ed7953"
             ],
             [
              0.7777777777777778,
              "#fb9f3a"
             ],
             [
              0.8888888888888888,
              "#fdca26"
             ],
             [
              1,
              "#f0f921"
             ]
            ],
            "type": "histogram2d"
           }
          ],
          "histogram2dcontour": [
           {
            "colorbar": {
             "outlinewidth": 0,
             "ticks": ""
            },
            "colorscale": [
             [
              0,
              "#0d0887"
             ],
             [
              0.1111111111111111,
              "#46039f"
             ],
             [
              0.2222222222222222,
              "#7201a8"
             ],
             [
              0.3333333333333333,
              "#9c179e"
             ],
             [
              0.4444444444444444,
              "#bd3786"
             ],
             [
              0.5555555555555556,
              "#d8576b"
             ],
             [
              0.6666666666666666,
              "#ed7953"
             ],
             [
              0.7777777777777778,
              "#fb9f3a"
             ],
             [
              0.8888888888888888,
              "#fdca26"
             ],
             [
              1,
              "#f0f921"
             ]
            ],
            "type": "histogram2dcontour"
           }
          ],
          "mesh3d": [
           {
            "colorbar": {
             "outlinewidth": 0,
             "ticks": ""
            },
            "type": "mesh3d"
           }
          ],
          "parcoords": [
           {
            "line": {
             "colorbar": {
              "outlinewidth": 0,
              "ticks": ""
             }
            },
            "type": "parcoords"
           }
          ],
          "pie": [
           {
            "automargin": true,
            "type": "pie"
           }
          ],
          "scatter": [
           {
            "marker": {
             "colorbar": {
              "outlinewidth": 0,
              "ticks": ""
             }
            },
            "type": "scatter"
           }
          ],
          "scatter3d": [
           {
            "line": {
             "colorbar": {
              "outlinewidth": 0,
              "ticks": ""
             }
            },
            "marker": {
             "colorbar": {
              "outlinewidth": 0,
              "ticks": ""
             }
            },
            "type": "scatter3d"
           }
          ],
          "scattercarpet": [
           {
            "marker": {
             "colorbar": {
              "outlinewidth": 0,
              "ticks": ""
             }
            },
            "type": "scattercarpet"
           }
          ],
          "scattergeo": [
           {
            "marker": {
             "colorbar": {
              "outlinewidth": 0,
              "ticks": ""
             }
            },
            "type": "scattergeo"
           }
          ],
          "scattergl": [
           {
            "marker": {
             "colorbar": {
              "outlinewidth": 0,
              "ticks": ""
             }
            },
            "type": "scattergl"
           }
          ],
          "scattermapbox": [
           {
            "marker": {
             "colorbar": {
              "outlinewidth": 0,
              "ticks": ""
             }
            },
            "type": "scattermapbox"
           }
          ],
          "scatterpolar": [
           {
            "marker": {
             "colorbar": {
              "outlinewidth": 0,
              "ticks": ""
             }
            },
            "type": "scatterpolar"
           }
          ],
          "scatterpolargl": [
           {
            "marker": {
             "colorbar": {
              "outlinewidth": 0,
              "ticks": ""
             }
            },
            "type": "scatterpolargl"
           }
          ],
          "scatterternary": [
           {
            "marker": {
             "colorbar": {
              "outlinewidth": 0,
              "ticks": ""
             }
            },
            "type": "scatterternary"
           }
          ],
          "surface": [
           {
            "colorbar": {
             "outlinewidth": 0,
             "ticks": ""
            },
            "colorscale": [
             [
              0,
              "#0d0887"
             ],
             [
              0.1111111111111111,
              "#46039f"
             ],
             [
              0.2222222222222222,
              "#7201a8"
             ],
             [
              0.3333333333333333,
              "#9c179e"
             ],
             [
              0.4444444444444444,
              "#bd3786"
             ],
             [
              0.5555555555555556,
              "#d8576b"
             ],
             [
              0.6666666666666666,
              "#ed7953"
             ],
             [
              0.7777777777777778,
              "#fb9f3a"
             ],
             [
              0.8888888888888888,
              "#fdca26"
             ],
             [
              1,
              "#f0f921"
             ]
            ],
            "type": "surface"
           }
          ],
          "table": [
           {
            "cells": {
             "fill": {
              "color": "#EBF0F8"
             },
             "line": {
              "color": "white"
             }
            },
            "header": {
             "fill": {
              "color": "#C8D4E3"
             },
             "line": {
              "color": "white"
             }
            },
            "type": "table"
           }
          ]
         },
         "layout": {
          "annotationdefaults": {
           "arrowcolor": "#2a3f5f",
           "arrowhead": 0,
           "arrowwidth": 1
          },
          "coloraxis": {
           "colorbar": {
            "outlinewidth": 0,
            "ticks": ""
           }
          },
          "colorscale": {
           "diverging": [
            [
             0,
             "#8e0152"
            ],
            [
             0.1,
             "#c51b7d"
            ],
            [
             0.2,
             "#de77ae"
            ],
            [
             0.3,
             "#f1b6da"
            ],
            [
             0.4,
             "#fde0ef"
            ],
            [
             0.5,
             "#f7f7f7"
            ],
            [
             0.6,
             "#e6f5d0"
            ],
            [
             0.7,
             "#b8e186"
            ],
            [
             0.8,
             "#7fbc41"
            ],
            [
             0.9,
             "#4d9221"
            ],
            [
             1,
             "#276419"
            ]
           ],
           "sequential": [
            [
             0,
             "#0d0887"
            ],
            [
             0.1111111111111111,
             "#46039f"
            ],
            [
             0.2222222222222222,
             "#7201a8"
            ],
            [
             0.3333333333333333,
             "#9c179e"
            ],
            [
             0.4444444444444444,
             "#bd3786"
            ],
            [
             0.5555555555555556,
             "#d8576b"
            ],
            [
             0.6666666666666666,
             "#ed7953"
            ],
            [
             0.7777777777777778,
             "#fb9f3a"
            ],
            [
             0.8888888888888888,
             "#fdca26"
            ],
            [
             1,
             "#f0f921"
            ]
           ],
           "sequentialminus": [
            [
             0,
             "#0d0887"
            ],
            [
             0.1111111111111111,
             "#46039f"
            ],
            [
             0.2222222222222222,
             "#7201a8"
            ],
            [
             0.3333333333333333,
             "#9c179e"
            ],
            [
             0.4444444444444444,
             "#bd3786"
            ],
            [
             0.5555555555555556,
             "#d8576b"
            ],
            [
             0.6666666666666666,
             "#ed7953"
            ],
            [
             0.7777777777777778,
             "#fb9f3a"
            ],
            [
             0.8888888888888888,
             "#fdca26"
            ],
            [
             1,
             "#f0f921"
            ]
           ]
          },
          "colorway": [
           "#636efa",
           "#EF553B",
           "#00cc96",
           "#ab63fa",
           "#FFA15A",
           "#19d3f3",
           "#FF6692",
           "#B6E880",
           "#FF97FF",
           "#FECB52"
          ],
          "font": {
           "color": "#2a3f5f"
          },
          "geo": {
           "bgcolor": "white",
           "lakecolor": "white",
           "landcolor": "#E5ECF6",
           "showlakes": true,
           "showland": true,
           "subunitcolor": "white"
          },
          "hoverlabel": {
           "align": "left"
          },
          "hovermode": "closest",
          "mapbox": {
           "style": "light"
          },
          "paper_bgcolor": "white",
          "plot_bgcolor": "#E5ECF6",
          "polar": {
           "angularaxis": {
            "gridcolor": "white",
            "linecolor": "white",
            "ticks": ""
           },
           "bgcolor": "#E5ECF6",
           "radialaxis": {
            "gridcolor": "white",
            "linecolor": "white",
            "ticks": ""
           }
          },
          "scene": {
           "xaxis": {
            "backgroundcolor": "#E5ECF6",
            "gridcolor": "white",
            "gridwidth": 2,
            "linecolor": "white",
            "showbackground": true,
            "ticks": "",
            "zerolinecolor": "white"
           },
           "yaxis": {
            "backgroundcolor": "#E5ECF6",
            "gridcolor": "white",
            "gridwidth": 2,
            "linecolor": "white",
            "showbackground": true,
            "ticks": "",
            "zerolinecolor": "white"
           },
           "zaxis": {
            "backgroundcolor": "#E5ECF6",
            "gridcolor": "white",
            "gridwidth": 2,
            "linecolor": "white",
            "showbackground": true,
            "ticks": "",
            "zerolinecolor": "white"
           }
          },
          "shapedefaults": {
           "line": {
            "color": "#2a3f5f"
           }
          },
          "ternary": {
           "aaxis": {
            "gridcolor": "white",
            "linecolor": "white",
            "ticks": ""
           },
           "baxis": {
            "gridcolor": "white",
            "linecolor": "white",
            "ticks": ""
           },
           "bgcolor": "#E5ECF6",
           "caxis": {
            "gridcolor": "white",
            "linecolor": "white",
            "ticks": ""
           }
          },
          "title": {
           "x": 0.05
          },
          "xaxis": {
           "automargin": true,
           "gridcolor": "white",
           "linecolor": "white",
           "ticks": "",
           "title": {
            "standoff": 15
           },
           "zerolinecolor": "white",
           "zerolinewidth": 2
          },
          "yaxis": {
           "automargin": true,
           "gridcolor": "white",
           "linecolor": "white",
           "ticks": "",
           "title": {
            "standoff": 15
           },
           "zerolinecolor": "white",
           "zerolinewidth": 2
          }
         }
        },
        "title": {
         "text": "2018 HK Import in Log Scale"
        }
       }
      },
      "text/html": [
       "<div>\n",
       "        \n",
       "        \n",
       "            <div id=\"ebe0a10e-8b07-44c7-b492-339e1f90ff91\" class=\"plotly-graph-div\" style=\"height:525px; width:100%;\"></div>\n",
       "            <script type=\"text/javascript\">\n",
       "                require([\"plotly\"], function(Plotly) {\n",
       "                    window.PLOTLYENV=window.PLOTLYENV || {};\n",
       "                    \n",
       "                if (document.getElementById(\"ebe0a10e-8b07-44c7-b492-339e1f90ff91\")) {\n",
       "                    Plotly.newPlot(\n",
       "                        'ebe0a10e-8b07-44c7-b492-339e1f90ff91',\n",
       "                        [{\"autocolorscale\": false, \"colorbar\": {\"tickprefix\": \"\", \"title\": {\"text\": \"Log(Import US$)\"}}, \"colorscale\": [[0.0, \"rgb(247,251,255)\"], [0.125, \"rgb(222,235,247)\"], [0.25, \"rgb(198,219,239)\"], [0.375, \"rgb(158,202,225)\"], [0.5, \"rgb(107,174,214)\"], [0.625, \"rgb(66,146,198)\"], [0.75, \"rgb(33,113,181)\"], [0.875, \"rgb(8,81,156)\"], [1.0, \"rgb(8,48,107)\"]], \"locations\": [\"CHN\", \"\", \"SGP\", \"KOR\", \"JPN\", \"USA\", \"MYS\", \"CHE\", \"THA\", \"IND\", \"PHL\", \"GBR\", \"VNM\", \"AUS\", \"DEU\", \"FRA\", \"ITA\", \"ARE\", \"BEL\", \"IDN\", \"ZAF\", \"BRA\", \"NLD\", \"ISR\", \"CAN\", \"CHL\", \"ESP\", \"MEX\", \"IRL\", \"MAC\", \"RUS\", \"QAT\", \"TUR\", \"NZL\", \"DNK\", \"SAU\", \"HUN\", \"POL\", \"BWA\", \"AUT\", \"CZE\", \"KHM\", \"SWE\", \"ARG\", \"SUR\", \"SVN\", \"MLT\", \"NOR\", \"BGD\", \"CRI\", \"LUX\", \"BHR\", \"PRT\", \"PER\", \"COL\", \"LKA\", \"MAR\", \"SLV\", \"IRN\", \"FIN\", \"PAK\", \"OMN\", \"MMR\", \"UGA\", \"EGY\", \"BGR\", \"URY\", \"KWT\", \"KEN\", \"UKR\", \"NAM\", \"CUB\", \"PNG\", \"JOR\", \"GRC\", \"ROU\", \"HRV\", \"TZA\", \"LTU\", \"AGO\", \"ECU\", \"ZWE\", \"NGA\", \"SVK\", \"NIC\", \"PAN\", \"SEN\", \"LBN\", \"ZMB\", \"GUY\", \"GTM\", \"DOM\", \"CYP\", \"VEN\", \"EST\", \"GHA\", \"LVA\", \"YEM\", \"SRB\", \"PRY\", \"HND\", \"ETH\", \"BRB\", \"TUN\", \"MOZ\", \"LAO\", \"MUS\", \"MDA\", \"BLR\", \"GUM\", \"BRN\", \"MDG\", \"TGO\", \"MDV\", \"\", \"GEO\", \"BOL\", \"JAM\", \"ISL\", \"HTI\", \"GIN\", \"COD\", \"MRT\", \"MNE\", \"SLB\", \"FJI\", \"DZA\", \"SYC\", \"IRQ\", \"NPL\", \"GAB\", \"KAZ\", \"MWI\", \"DJI\", \"VUT\", \"MNG\", \"UZB\", \"MKD\", \"CMR\", \"TTO\", \"AZE\", \"BEN\", \"LBR\", \"COG\", \"BLZ\", \"SDN\", \"CIV\", \"RWA\", \"MLI\", \"BHS\", \"SOM\", \"CPV\", \"ALB\", \"KGZ\", \"SLE\", \"ARM\", \"ABW\", \"ASM\", \"SWZ\", \"BIH\", \"CAF\", \"AND\", \"FSM\", \"TKL\", \"AFG\", \"TKM\", \"KIR\", \"GMB\", \"GIB\", \"MHL\", \"MNP\", \"SMR\", \"\", \"BTN\", \"SSD\", \"SYR\", \"NER\", \"WSM\", \"TCD\", \"TON\", \"BFA\", \"\", \"COM\", \"LSO\", \"BDI\", \"\", \"LBY\", \"TJK\", \"GNQ\", \"GNB\", \"VAT\", \"UMI\", \"GRD\", \"NRU\", \"PRK\"], \"marker\": {\"line\": {\"color\": \"darkgray\", \"width\": 0.5}}, \"reversescale\": false, \"text\": [\"China\", \"Other Asia, nes\", \"Singapore\", \"South Korea\", \"Japan\", \"United States\", \"Malaysia\", \"Switzerland\", \"Thailand\", \"India\", \"Philippines\", \"United Kingdom\", \"Vietnam\", \"Australia\", \"Germany\", \"France\", \"Italy\", \"United Arab Emirates\", \"Belgium\", \"Indonesia\", \"South Africa\", \"Brazil\", \"Netherlands\", \"Israel\", \"Canada\", \"Chile\", \"Spain\", \"Mexico\", \"Ireland\", \"Macau\", \"Russia\", \"Qatar\", \"Turkey\", \"New Zealand\", \"Denmark\", \"Saudi Arabia\", \"Hungary\", \"Poland\", \"Botswana\", \"Austria\", \"Czech Republic\", \"Cambodia\", \"Sweden\", \"Argentina\", \"Suriname\", \"Slovenia\", \"Malta\", \"Norway\", \"Bangladesh\", \"Costa Rica\", \"Luxembourg\", \"Bahrain\", \"Portugal\", \"Peru\", \"Colombia\", \"Sri Lanka\", \"Morocco\", \"El Salvador\", \"Iran\", \"Finland\", \"Pakistan\", \"Oman\", \"Myanmar\", \"Uganda\", \"Egypt\", \"Bulgaria\", \"Uruguay\", \"Kuwait\", \"Kenya\", \"Ukraine\", \"Namibia\", \"Cuba\", \"Papua New Guinea\", \"Jordan\", \"Greece\", \"Romania\", \"Croatia\", \"Tanzania\", \"Lithuania\", \"Angola\", \"Ecuador\", \"Zimbabwe\", \"Nigeria\", \"Slovakia\", \"Nicaragua\", \"Panama\", \"Senegal\", \"Lebanon\", \"Zambia\", \"Guyana\", \"Guatemala\", \"Dominican Republic\", \"Cyprus\", \"Venezuela\", \"Estonia\", \"Ghana\", \"Latvia\", \"Yemen\", \"Serbia\", \"Paraguay\", \"Honduras\", \"Ethiopia\", \"Barbados\", \"Tunisia\", \"Mozambique\", \"Laos\", \"Mauritius\", \"Moldova\", \"Belarus\", \"Guam\", \"Brunei\", \"Madagascar\", \"Togo\", \"Maldives\", \"Oceania, nes\", \"Georgia\", \"Bolivia\", \"Jamaica\", \"Iceland\", \"Haiti\", \"Guinea\", \"Republic of the Congo\", \"Mauritania\", \"Montenegro\", \"Solomon Islands\", \"Fiji\", \"Algeria\", \"Seychelles\", \"Iraq\", \"Nepal\", \"Gabon\", \"Kazakhstan\", \"Malawi\", \"Djibouti\", \"Vanuatu\", \"Mongolia\", \"Uzbekistan\", \"Macedonia\", \"Cameroon\", \"Trinidad And Tobago\", \"Azerbaijan\", \"Benin\", \"Liberia\", \"Congo\", \"Belize\", \"Sudan\", \"Ivory Coast\", \"Rwanda\", \"Mali\", \"Bahamas\", \"Somalia\", \"Cape Verde\", \"Albania\", \"Kyrgyzstan\", \"Sierra Leone\", \"Armenia\", \"Aruba\", \"American Samoa\", \"Swaziland\", \"Bosnia And Herzegovina\", \"Central African Republic\", \"Andorra\", \"FS Micronesia\", \"Tokelau\", \"Afghanistan\", \"Turkmenistan\", \"Kiribati\", \"Gambia\", \"Gibraltar\", \"Marshall Islands\", \"Northern Mariana Islands\", \"San Marino\", \"Other Europe, nes\", \"Bhutan\", \"South Sudan\", \"Syria\", \"Niger\", \"Samoa\", \"Chad\", \"Tonga\", \"Burkina Faso\", \"America, nes\", \"Comoros\", \"Lesotho\", \"Burundi\", \"Other Africa, nes\", \"Libya\", \"Tajikistan\", \"Equatorial Guinea\", \"Guinea Bissau\", \"Vatican City State\", \"United States Minor Outlying Islands\", \"Grenada\", \"Nauru\", \"North Korea\"], \"type\": \"choropleth\", \"z\": [11.448675408165723, 10.636387585813157, 10.606596309179285, 10.551205943747906, 10.54257647626053, 10.501880493755058, 10.38273726576133, 10.198657086954423, 10.074816440645174, 10.073718350346123, 10.045322978786658, 10.0, 9.926342446625656, 9.854913022307855, 9.841984804590114, 9.831229693867064, 9.823474229170301, 9.64640372622307, 9.519827993775719, 9.460897842756548, 9.45484486000851, 9.437750562820389, 9.432969290874405, 9.380211241711606, 9.344392273685111, 9.056904851336473, 9.008600171761918, 8.994440339305523, 8.975404233381033, 8.973691146932962, 8.929362719262022, 8.897434639707935, 8.88103639676077, 8.836748073870014, 8.7305804190595, 8.72343925227368, 8.557314674148142, 8.54609827138238, 8.533212629851256, 8.532091606278936, 8.487830996483996, 8.47430369711656, 8.42672266414578, 8.411417661539069, 8.35305023964259, 8.350596864828633, 8.32960124835652, 8.259808822954628, 8.232029937620133, 8.199919651590568, 8.17536683106135, 8.169645049134955, 8.16858586553641, 8.161008437306002, 8.126033948051813, 8.12355765800395, 8.083789188287978, 8.074011446008944, 8.069372054308515, 8.059676993584755, 8.029586671630458, 8.017700971224116, 8.004708196544335, 7.903361336255318, 7.877371345869774, 7.811373897053893, 7.798374376681561, 7.790425917391111, 7.762078087334639, 7.756255648754234, 7.723455672035186, 7.721810615212546, 7.720407400803109, 7.707314633588708, 7.704322140822235, 7.702602841340427, 7.665017825412472, 7.622317660833844, 7.61689542640076, 7.569022586029564, 7.562530768862262, 7.533009022495485, 7.491921712586151, 7.477121254719663, 7.47567118832443, 7.420120848085703, 7.3979400086720375, 7.382557321908786, 7.379124146070392, 7.373095987078727, 7.3404441148401185, 7.3213912783116895, 7.286231854028553, 7.253580289562183, 7.223236273102998, 7.197004728023046, 7.145196406114182, 7.109578546904387, 7.089551882886454, 7.082066934285113, 7.062205808819713, 7.054613054556888, 7.0322157032979815, 7.011147360775797, 6.974050902792877, 6.9656719712201065, 6.941511432634403, 6.940516484932568, 6.862727528317975, 6.816241299991783, 6.812244696800369, 6.800029359244134, 6.778874472002739, 6.773054693364263, 6.70070371714502, 6.608526033577194, 6.593286067020458, 6.558708570533166, 6.547774705387822, 6.525044807036846, 6.518513939877887, 6.502427119984433, 6.489958479424835, 6.480006942957151, 6.439332693830263, 6.429752280002408, 6.423245873936808, 6.3979400086720375, 6.365487984890899, 6.3560258571931225, 6.305351369446623, 6.2576785748691846, 6.243038048686294, 6.217483944213907, 6.17897694729317, 6.17897694729317, 6.155336037465061, 6.123851640967086, 6.110589710299249, 5.987170027952116, 5.97144285296316, 5.935809453809933, 5.932940279122394, 5.928262675512426, 5.913660233266842, 5.8533148416039475, 5.829760346204363, 5.807183120531617, 5.766353350642424, 5.758253141826201, 5.745699226602506, 5.7366832809904, 5.718343885915553, 5.695376592532294, 5.669577193231637, 5.614528119747539, 5.587890481186355, 5.55138899727302, 5.525239223729745, 5.48945221029981, 5.395972547794993, 5.344628025694105, 5.2890535575926405, 5.260071387985075, 5.243905770217522, 5.1719895827021185, 5.138744663948892, 5.138365863678996, 5.112403892717874, 5.099231615080882, 5.012330955580147, 5.005094675072549, 4.959851954799605, 4.835817354293473, 4.784189205380961, 4.728272597895017, 4.441852175773292, 4.403635189790548, 4.385606273598312, 4.3743816980508825, 4.322632711692224, 4.273926780100526, 4.176669932668149, 4.118264726089479, 4.03981055414835, 4.0068937079479, 3.9400181550076634, 3.558708570533166, 3.4771212547196626, 3.406540180433955, 3.3654879848909, 3.1072099696478683, 2.4742162640762553, 1.863322860120456, 0.0]}],\n",
       "                        {\"annotations\": [{\"showarrow\": false, \"text\": \"Source: <a href=\\\"https://tradingeconomics.com/hong-kong/exports-by-country\\\">            Trading Economics</a>\", \"x\": 0.55, \"xref\": \"paper\", \"y\": 0.1, \"yref\": \"paper\"}], \"geo\": {\"projection\": {\"type\": \"equirectangular\"}, \"showcoastlines\": true, \"showframe\": false}, \"template\": {\"data\": {\"bar\": [{\"error_x\": {\"color\": \"#2a3f5f\"}, \"error_y\": {\"color\": \"#2a3f5f\"}, \"marker\": {\"line\": {\"color\": \"#E5ECF6\", \"width\": 0.5}}, \"type\": \"bar\"}], \"barpolar\": [{\"marker\": {\"line\": {\"color\": \"#E5ECF6\", \"width\": 0.5}}, \"type\": \"barpolar\"}], \"carpet\": [{\"aaxis\": {\"endlinecolor\": \"#2a3f5f\", \"gridcolor\": \"white\", \"linecolor\": \"white\", \"minorgridcolor\": \"white\", \"startlinecolor\": \"#2a3f5f\"}, \"baxis\": {\"endlinecolor\": \"#2a3f5f\", \"gridcolor\": \"white\", \"linecolor\": \"white\", \"minorgridcolor\": \"white\", \"startlinecolor\": \"#2a3f5f\"}, \"type\": \"carpet\"}], \"choropleth\": [{\"colorbar\": {\"outlinewidth\": 0, \"ticks\": \"\"}, \"type\": \"choropleth\"}], \"contour\": [{\"colorbar\": {\"outlinewidth\": 0, \"ticks\": \"\"}, \"colorscale\": [[0.0, \"#0d0887\"], [0.1111111111111111, \"#46039f\"], [0.2222222222222222, \"#7201a8\"], [0.3333333333333333, \"#9c179e\"], [0.4444444444444444, \"#bd3786\"], [0.5555555555555556, \"#d8576b\"], [0.6666666666666666, \"#ed7953\"], [0.7777777777777778, \"#fb9f3a\"], [0.8888888888888888, \"#fdca26\"], [1.0, \"#f0f921\"]], \"type\": \"contour\"}], \"contourcarpet\": [{\"colorbar\": {\"outlinewidth\": 0, \"ticks\": \"\"}, \"type\": \"contourcarpet\"}], \"heatmap\": [{\"colorbar\": {\"outlinewidth\": 0, \"ticks\": \"\"}, \"colorscale\": [[0.0, \"#0d0887\"], [0.1111111111111111, \"#46039f\"], [0.2222222222222222, \"#7201a8\"], [0.3333333333333333, \"#9c179e\"], [0.4444444444444444, \"#bd3786\"], [0.5555555555555556, \"#d8576b\"], [0.6666666666666666, \"#ed7953\"], [0.7777777777777778, \"#fb9f3a\"], [0.8888888888888888, \"#fdca26\"], [1.0, \"#f0f921\"]], \"type\": \"heatmap\"}], \"heatmapgl\": [{\"colorbar\": {\"outlinewidth\": 0, \"ticks\": \"\"}, \"colorscale\": [[0.0, \"#0d0887\"], [0.1111111111111111, \"#46039f\"], [0.2222222222222222, \"#7201a8\"], [0.3333333333333333, \"#9c179e\"], [0.4444444444444444, \"#bd3786\"], [0.5555555555555556, \"#d8576b\"], [0.6666666666666666, \"#ed7953\"], [0.7777777777777778, \"#fb9f3a\"], [0.8888888888888888, \"#fdca26\"], [1.0, \"#f0f921\"]], \"type\": \"heatmapgl\"}], \"histogram\": [{\"marker\": {\"colorbar\": {\"outlinewidth\": 0, \"ticks\": \"\"}}, \"type\": \"histogram\"}], \"histogram2d\": [{\"colorbar\": {\"outlinewidth\": 0, \"ticks\": \"\"}, \"colorscale\": [[0.0, \"#0d0887\"], [0.1111111111111111, \"#46039f\"], [0.2222222222222222, \"#7201a8\"], [0.3333333333333333, \"#9c179e\"], [0.4444444444444444, \"#bd3786\"], [0.5555555555555556, \"#d8576b\"], [0.6666666666666666, \"#ed7953\"], [0.7777777777777778, \"#fb9f3a\"], [0.8888888888888888, \"#fdca26\"], [1.0, \"#f0f921\"]], \"type\": \"histogram2d\"}], \"histogram2dcontour\": [{\"colorbar\": {\"outlinewidth\": 0, \"ticks\": \"\"}, \"colorscale\": [[0.0, \"#0d0887\"], [0.1111111111111111, \"#46039f\"], [0.2222222222222222, \"#7201a8\"], [0.3333333333333333, \"#9c179e\"], [0.4444444444444444, \"#bd3786\"], [0.5555555555555556, \"#d8576b\"], [0.6666666666666666, \"#ed7953\"], [0.7777777777777778, \"#fb9f3a\"], [0.8888888888888888, \"#fdca26\"], [1.0, \"#f0f921\"]], \"type\": \"histogram2dcontour\"}], \"mesh3d\": [{\"colorbar\": {\"outlinewidth\": 0, \"ticks\": \"\"}, \"type\": \"mesh3d\"}], \"parcoords\": [{\"line\": {\"colorbar\": {\"outlinewidth\": 0, \"ticks\": \"\"}}, \"type\": \"parcoords\"}], \"pie\": [{\"automargin\": true, \"type\": \"pie\"}], \"scatter\": [{\"marker\": {\"colorbar\": {\"outlinewidth\": 0, \"ticks\": \"\"}}, \"type\": \"scatter\"}], \"scatter3d\": [{\"line\": {\"colorbar\": {\"outlinewidth\": 0, \"ticks\": \"\"}}, \"marker\": {\"colorbar\": {\"outlinewidth\": 0, \"ticks\": \"\"}}, \"type\": \"scatter3d\"}], \"scattercarpet\": [{\"marker\": {\"colorbar\": {\"outlinewidth\": 0, \"ticks\": \"\"}}, \"type\": \"scattercarpet\"}], \"scattergeo\": [{\"marker\": {\"colorbar\": {\"outlinewidth\": 0, \"ticks\": \"\"}}, \"type\": \"scattergeo\"}], \"scattergl\": [{\"marker\": {\"colorbar\": {\"outlinewidth\": 0, \"ticks\": \"\"}}, \"type\": \"scattergl\"}], \"scattermapbox\": [{\"marker\": {\"colorbar\": {\"outlinewidth\": 0, \"ticks\": \"\"}}, \"type\": \"scattermapbox\"}], \"scatterpolar\": [{\"marker\": {\"colorbar\": {\"outlinewidth\": 0, \"ticks\": \"\"}}, \"type\": \"scatterpolar\"}], \"scatterpolargl\": [{\"marker\": {\"colorbar\": {\"outlinewidth\": 0, \"ticks\": \"\"}}, \"type\": \"scatterpolargl\"}], \"scatterternary\": [{\"marker\": {\"colorbar\": {\"outlinewidth\": 0, \"ticks\": \"\"}}, \"type\": \"scatterternary\"}], \"surface\": [{\"colorbar\": {\"outlinewidth\": 0, \"ticks\": \"\"}, \"colorscale\": [[0.0, \"#0d0887\"], [0.1111111111111111, \"#46039f\"], [0.2222222222222222, \"#7201a8\"], [0.3333333333333333, \"#9c179e\"], [0.4444444444444444, \"#bd3786\"], [0.5555555555555556, \"#d8576b\"], [0.6666666666666666, \"#ed7953\"], [0.7777777777777778, \"#fb9f3a\"], [0.8888888888888888, \"#fdca26\"], [1.0, \"#f0f921\"]], \"type\": \"surface\"}], \"table\": [{\"cells\": {\"fill\": {\"color\": \"#EBF0F8\"}, \"line\": {\"color\": \"white\"}}, \"header\": {\"fill\": {\"color\": \"#C8D4E3\"}, \"line\": {\"color\": \"white\"}}, \"type\": \"table\"}]}, \"layout\": {\"annotationdefaults\": {\"arrowcolor\": \"#2a3f5f\", \"arrowhead\": 0, \"arrowwidth\": 1}, \"coloraxis\": {\"colorbar\": {\"outlinewidth\": 0, \"ticks\": \"\"}}, \"colorscale\": {\"diverging\": [[0, \"#8e0152\"], [0.1, \"#c51b7d\"], [0.2, \"#de77ae\"], [0.3, \"#f1b6da\"], [0.4, \"#fde0ef\"], [0.5, \"#f7f7f7\"], [0.6, \"#e6f5d0\"], [0.7, \"#b8e186\"], [0.8, \"#7fbc41\"], [0.9, \"#4d9221\"], [1, \"#276419\"]], \"sequential\": [[0.0, \"#0d0887\"], [0.1111111111111111, \"#46039f\"], [0.2222222222222222, \"#7201a8\"], [0.3333333333333333, \"#9c179e\"], [0.4444444444444444, \"#bd3786\"], [0.5555555555555556, \"#d8576b\"], [0.6666666666666666, \"#ed7953\"], [0.7777777777777778, \"#fb9f3a\"], [0.8888888888888888, \"#fdca26\"], [1.0, \"#f0f921\"]], \"sequentialminus\": [[0.0, \"#0d0887\"], [0.1111111111111111, \"#46039f\"], [0.2222222222222222, \"#7201a8\"], [0.3333333333333333, \"#9c179e\"], [0.4444444444444444, \"#bd3786\"], [0.5555555555555556, \"#d8576b\"], [0.6666666666666666, \"#ed7953\"], [0.7777777777777778, \"#fb9f3a\"], [0.8888888888888888, \"#fdca26\"], [1.0, \"#f0f921\"]]}, \"colorway\": [\"#636efa\", \"#EF553B\", \"#00cc96\", \"#ab63fa\", \"#FFA15A\", \"#19d3f3\", \"#FF6692\", \"#B6E880\", \"#FF97FF\", \"#FECB52\"], \"font\": {\"color\": \"#2a3f5f\"}, \"geo\": {\"bgcolor\": \"white\", \"lakecolor\": \"white\", \"landcolor\": \"#E5ECF6\", \"showlakes\": true, \"showland\": true, \"subunitcolor\": \"white\"}, \"hoverlabel\": {\"align\": \"left\"}, \"hovermode\": \"closest\", \"mapbox\": {\"style\": \"light\"}, \"paper_bgcolor\": \"white\", \"plot_bgcolor\": \"#E5ECF6\", \"polar\": {\"angularaxis\": {\"gridcolor\": \"white\", \"linecolor\": \"white\", \"ticks\": \"\"}, \"bgcolor\": \"#E5ECF6\", \"radialaxis\": {\"gridcolor\": \"white\", \"linecolor\": \"white\", \"ticks\": \"\"}}, \"scene\": {\"xaxis\": {\"backgroundcolor\": \"#E5ECF6\", \"gridcolor\": \"white\", \"gridwidth\": 2, \"linecolor\": \"white\", \"showbackground\": true, \"ticks\": \"\", \"zerolinecolor\": \"white\"}, \"yaxis\": {\"backgroundcolor\": \"#E5ECF6\", \"gridcolor\": \"white\", \"gridwidth\": 2, \"linecolor\": \"white\", \"showbackground\": true, \"ticks\": \"\", \"zerolinecolor\": \"white\"}, \"zaxis\": {\"backgroundcolor\": \"#E5ECF6\", \"gridcolor\": \"white\", \"gridwidth\": 2, \"linecolor\": \"white\", \"showbackground\": true, \"ticks\": \"\", \"zerolinecolor\": \"white\"}}, \"shapedefaults\": {\"line\": {\"color\": \"#2a3f5f\"}}, \"ternary\": {\"aaxis\": {\"gridcolor\": \"white\", \"linecolor\": \"white\", \"ticks\": \"\"}, \"baxis\": {\"gridcolor\": \"white\", \"linecolor\": \"white\", \"ticks\": \"\"}, \"bgcolor\": \"#E5ECF6\", \"caxis\": {\"gridcolor\": \"white\", \"linecolor\": \"white\", \"ticks\": \"\"}}, \"title\": {\"x\": 0.05}, \"xaxis\": {\"automargin\": true, \"gridcolor\": \"white\", \"linecolor\": \"white\", \"ticks\": \"\", \"title\": {\"standoff\": 15}, \"zerolinecolor\": \"white\", \"zerolinewidth\": 2}, \"yaxis\": {\"automargin\": true, \"gridcolor\": \"white\", \"linecolor\": \"white\", \"ticks\": \"\", \"title\": {\"standoff\": 15}, \"zerolinecolor\": \"white\", \"zerolinewidth\": 2}}}, \"title\": {\"text\": \"2018 HK Import in Log Scale\"}},\n",
       "                        {\"responsive\": true}\n",
       "                    ).then(function(){\n",
       "                            \n",
       "var gd = document.getElementById('ebe0a10e-8b07-44c7-b492-339e1f90ff91');\n",
       "var x = new MutationObserver(function (mutations, observer) {{\n",
       "        var display = window.getComputedStyle(gd).display;\n",
       "        if (!display || display === 'none') {{\n",
       "            console.log([gd, 'removed!']);\n",
       "            Plotly.purge(gd);\n",
       "            observer.disconnect();\n",
       "        }}\n",
       "}});\n",
       "\n",
       "// Listen for the removal of the full notebook cells\n",
       "var notebookContainer = gd.closest('#notebook-container');\n",
       "if (notebookContainer) {{\n",
       "    x.observe(notebookContainer, {childList: true});\n",
       "}}\n",
       "\n",
       "// Listen for the clearing of the current output cell\n",
       "var outputEl = gd.closest('.output');\n",
       "if (outputEl) {{\n",
       "    x.observe(outputEl, {childList: true});\n",
       "}}\n",
       "\n",
       "                        })\n",
       "                };\n",
       "                });\n",
       "            </script>\n",
       "        </div>"
      ]
     },
     "metadata": {},
     "output_type": "display_data"
    }
   ],
   "source": [
    "fig = go.Figure(data=go.Choropleth(\n",
    "    locations = df['code'],\n",
    "    z = df['log(value)'],\n",
    "    text = df['country'],\n",
    "    colorscale = 'Blues',\n",
    "    autocolorscale=False,\n",
    "    reversescale=False,\n",
    "    marker_line_color='darkgray',\n",
    "    marker_line_width=0.5,\n",
    "    colorbar_tickprefix = '',\n",
    "    colorbar_title = 'Log(Import US$)',\n",
    "))\n",
    "\n",
    "fig.update_layout(\n",
    "    title_text='2018 HK Import in Log Scale',\n",
    "    geo=dict(\n",
    "        showframe=False,\n",
    "        showcoastlines=True,\n",
    "        projection_type='equirectangular'\n",
    "    ),\n",
    "    annotations = [dict(\n",
    "        x=0.55,\n",
    "        y=0.1,\n",
    "        xref='paper',\n",
    "        yref='paper',\n",
    "        text='Source: <a href=\"https://tradingeconomics.com/hong-kong/exports-by-country\">\\\n",
    "            Trading Economics</a>',\n",
    "        showarrow = False\n",
    "    )]\n",
    ")\n",
    "\n",
    "fig.show()"
   ]
  },
  {
   "cell_type": "code",
   "execution_count": 30,
   "metadata": {},
   "outputs": [
    {
     "data": {
      "application/vnd.plotly.v1+json": {
       "config": {
        "plotlyServerURL": "https://plot.ly"
       },
       "data": [
        {
         "autocolorscale": false,
         "colorbar": {
          "tickprefix": "",
          "title": {
           "text": "Import US$"
          }
         },
         "colorscale": [
          [
           0,
           "rgb(247,251,255)"
          ],
          [
           0.125,
           "rgb(222,235,247)"
          ],
          [
           0.25,
           "rgb(198,219,239)"
          ],
          [
           0.375,
           "rgb(158,202,225)"
          ],
          [
           0.5,
           "rgb(107,174,214)"
          ],
          [
           0.625,
           "rgb(66,146,198)"
          ],
          [
           0.75,
           "rgb(33,113,181)"
          ],
          [
           0.875,
           "rgb(8,81,156)"
          ],
          [
           1,
           "rgb(8,48,107)"
          ]
         ],
         "locations": [
          "CHN",
          "",
          "SGP",
          "KOR",
          "JPN",
          "USA",
          "MYS",
          "CHE",
          "THA",
          "IND",
          "PHL",
          "GBR",
          "VNM",
          "AUS",
          "DEU",
          "FRA",
          "ITA",
          "ARE",
          "BEL",
          "IDN",
          "ZAF",
          "BRA",
          "NLD",
          "ISR",
          "CAN",
          "CHL",
          "ESP",
          "MEX",
          "IRL",
          "MAC",
          "RUS",
          "QAT",
          "TUR",
          "NZL",
          "DNK",
          "SAU",
          "HUN",
          "POL",
          "BWA",
          "AUT",
          "CZE",
          "KHM",
          "SWE",
          "ARG",
          "SUR",
          "SVN",
          "MLT",
          "NOR",
          "BGD",
          "CRI",
          "LUX",
          "BHR",
          "PRT",
          "PER",
          "COL",
          "LKA",
          "MAR",
          "SLV",
          "IRN",
          "FIN",
          "PAK",
          "OMN",
          "MMR",
          "UGA",
          "EGY",
          "BGR",
          "URY",
          "KWT",
          "KEN",
          "UKR",
          "NAM",
          "CUB",
          "PNG",
          "JOR",
          "GRC",
          "ROU",
          "HRV",
          "TZA",
          "LTU",
          "AGO",
          "ECU",
          "ZWE",
          "NGA",
          "SVK",
          "NIC",
          "PAN",
          "SEN",
          "LBN",
          "ZMB",
          "GUY",
          "GTM",
          "DOM",
          "CYP",
          "VEN",
          "EST",
          "GHA",
          "LVA",
          "YEM",
          "SRB",
          "PRY",
          "HND",
          "ETH",
          "BRB",
          "TUN",
          "MOZ",
          "LAO",
          "MUS",
          "MDA",
          "BLR",
          "GUM",
          "BRN",
          "MDG",
          "TGO",
          "MDV",
          "",
          "GEO",
          "BOL",
          "JAM",
          "ISL",
          "HTI",
          "GIN",
          "COD",
          "MRT",
          "MNE",
          "SLB",
          "FJI",
          "DZA",
          "SYC",
          "IRQ",
          "NPL",
          "GAB",
          "KAZ",
          "MWI",
          "DJI",
          "VUT",
          "MNG",
          "UZB",
          "MKD",
          "CMR",
          "TTO",
          "AZE",
          "BEN",
          "LBR",
          "COG",
          "BLZ",
          "SDN",
          "CIV",
          "RWA",
          "MLI",
          "BHS",
          "SOM",
          "CPV",
          "ALB",
          "KGZ",
          "SLE",
          "ARM",
          "ABW",
          "ASM",
          "SWZ",
          "BIH",
          "CAF",
          "AND",
          "FSM",
          "TKL",
          "AFG",
          "TKM",
          "KIR",
          "GMB",
          "GIB",
          "MHL",
          "MNP",
          "SMR",
          "",
          "BTN",
          "SSD",
          "SYR",
          "NER",
          "WSM",
          "TCD",
          "TON",
          "BFA",
          "",
          "COM",
          "LSO",
          "BDI",
          "",
          "LBY",
          "TJK",
          "GNQ",
          "GNB",
          "VAT",
          "UMI",
          "GRD",
          "NRU",
          "PRK"
         ],
         "marker": {
          "line": {
           "color": "darkgray",
           "width": 0.5
          }
         },
         "reversescale": false,
         "text": [
          "China",
          "Other Asia, nes",
          "Singapore",
          "South Korea",
          "Japan",
          "United States",
          "Malaysia",
          "Switzerland",
          "Thailand",
          "India",
          "Philippines",
          "United Kingdom",
          "Vietnam",
          "Australia",
          "Germany",
          "France",
          "Italy",
          "United Arab Emirates",
          "Belgium",
          "Indonesia",
          "South Africa",
          "Brazil",
          "Netherlands",
          "Israel",
          "Canada",
          "Chile",
          "Spain",
          "Mexico",
          "Ireland",
          "Macau",
          "Russia",
          "Qatar",
          "Turkey",
          "New Zealand",
          "Denmark",
          "Saudi Arabia",
          "Hungary",
          "Poland",
          "Botswana",
          "Austria",
          "Czech Republic",
          "Cambodia",
          "Sweden",
          "Argentina",
          "Suriname",
          "Slovenia",
          "Malta",
          "Norway",
          "Bangladesh",
          "Costa Rica",
          "Luxembourg",
          "Bahrain",
          "Portugal",
          "Peru",
          "Colombia",
          "Sri Lanka",
          "Morocco",
          "El Salvador",
          "Iran",
          "Finland",
          "Pakistan",
          "Oman",
          "Myanmar",
          "Uganda",
          "Egypt",
          "Bulgaria",
          "Uruguay",
          "Kuwait",
          "Kenya",
          "Ukraine",
          "Namibia",
          "Cuba",
          "Papua New Guinea",
          "Jordan",
          "Greece",
          "Romania",
          "Croatia",
          "Tanzania",
          "Lithuania",
          "Angola",
          "Ecuador",
          "Zimbabwe",
          "Nigeria",
          "Slovakia",
          "Nicaragua",
          "Panama",
          "Senegal",
          "Lebanon",
          "Zambia",
          "Guyana",
          "Guatemala",
          "Dominican Republic",
          "Cyprus",
          "Venezuela",
          "Estonia",
          "Ghana",
          "Latvia",
          "Yemen",
          "Serbia",
          "Paraguay",
          "Honduras",
          "Ethiopia",
          "Barbados",
          "Tunisia",
          "Mozambique",
          "Laos",
          "Mauritius",
          "Moldova",
          "Belarus",
          "Guam",
          "Brunei",
          "Madagascar",
          "Togo",
          "Maldives",
          "Oceania, nes",
          "Georgia",
          "Bolivia",
          "Jamaica",
          "Iceland",
          "Haiti",
          "Guinea",
          "Republic of the Congo",
          "Mauritania",
          "Montenegro",
          "Solomon Islands",
          "Fiji",
          "Algeria",
          "Seychelles",
          "Iraq",
          "Nepal",
          "Gabon",
          "Kazakhstan",
          "Malawi",
          "Djibouti",
          "Vanuatu",
          "Mongolia",
          "Uzbekistan",
          "Macedonia",
          "Cameroon",
          "Trinidad And Tobago",
          "Azerbaijan",
          "Benin",
          "Liberia",
          "Congo",
          "Belize",
          "Sudan",
          "Ivory Coast",
          "Rwanda",
          "Mali",
          "Bahamas",
          "Somalia",
          "Cape Verde",
          "Albania",
          "Kyrgyzstan",
          "Sierra Leone",
          "Armenia",
          "Aruba",
          "American Samoa",
          "Swaziland",
          "Bosnia And Herzegovina",
          "Central African Republic",
          "Andorra",
          "FS Micronesia",
          "Tokelau",
          "Afghanistan",
          "Turkmenistan",
          "Kiribati",
          "Gambia",
          "Gibraltar",
          "Marshall Islands",
          "Northern Mariana Islands",
          "San Marino",
          "Other Europe, nes",
          "Bhutan",
          "South Sudan",
          "Syria",
          "Niger",
          "Samoa",
          "Chad",
          "Tonga",
          "Burkina Faso",
          "America, nes",
          "Comoros",
          "Lesotho",
          "Burundi",
          "Other Africa, nes",
          "Libya",
          "Tajikistan",
          "Equatorial Guinea",
          "Guinea Bissau",
          "Vatican City State",
          "United States Minor Outlying Islands",
          "Grenada",
          "Nauru",
          "North Korea"
         ],
         "type": "choropleth",
         "z": [
          280980000000,
          43290000000,
          40420000000,
          35580000000,
          34880000000,
          31760000000,
          24140000000,
          15800000000,
          11880000000,
          11850000000,
          11100000000,
          10000000000,
          8439999999.999999,
          7160000000,
          6950000000,
          6780000000,
          6660000000,
          4430000000,
          3310000000,
          2890000000,
          2850000000,
          2740000000,
          2710000000,
          2400000000,
          2210000000,
          1140000000,
          1020000000,
          987280000,
          944940000,
          941220000,
          849890000,
          789650000,
          760390000,
          686670000,
          537750000,
          528980000,
          360840000,
          351640000,
          341360000,
          340480000,
          307490000,
          298060000,
          267130000,
          257880000,
          225450000,
          224180000,
          213600000,
          181890000,
          170620000,
          158460000,
          149750000,
          147790000,
          147430000,
          144880000,
          133669999.99999999,
          132910000,
          121280000,
          118580000,
          117320000,
          114730000,
          107050000,
          104160000,
          101090000,
          80050000,
          75400000,
          64769999.99999999,
          62860000,
          61720000,
          57820000,
          57050000,
          52900000,
          52700000,
          52530000,
          50970000,
          50620000,
          50420000,
          46240000,
          41910000,
          41390000,
          37070000,
          36520000,
          34120000,
          31040000,
          30000000,
          29900000,
          26310000,
          25000000,
          24130000,
          23940000,
          23610000,
          21900000,
          20960000,
          19330000,
          17930000,
          16719999.999999998,
          15740000,
          13970000,
          12870000,
          12290000,
          12080000,
          11540000,
          11340000,
          10770000,
          10260000,
          9420000,
          9240000,
          8740000,
          8720000,
          7290000,
          6550000,
          6490000,
          6310000,
          6010000,
          5930000,
          5020000,
          4059999.9999999995,
          3920000,
          3620000,
          3530000,
          3350000,
          3300000,
          3180000,
          3090000,
          3020000,
          2750000,
          2690000,
          2650000,
          2500000,
          2320000,
          2270000,
          2020000,
          1810000,
          1750000,
          1650000,
          1510000,
          1510000,
          1430000,
          1330000,
          1290000,
          970890,
          936360,
          862600,
          856920,
          847740,
          819710,
          713370,
          675710,
          641480,
          583920,
          573130,
          556800,
          545360,
          522809.99999999994,
          495880,
          467280,
          411650,
          387160,
          355950,
          335150,
          308640,
          248870,
          221120,
          194560,
          182000,
          175350,
          148590,
          137640,
          137520,
          129539.99999999999,
          125670,
          102880,
          101180,
          91170,
          68520,
          60840,
          53490,
          27660,
          25330,
          24300,
          23680,
          21020,
          18790,
          15020,
          13130,
          10960,
          10160,
          8710,
          3620,
          3000,
          2550,
          2320,
          1280,
          "298",
          "73",
          "1"
         ]
        }
       ],
       "layout": {
        "annotations": [
         {
          "showarrow": false,
          "text": "Source: <a href=\"https://tradingeconomics.com/hong-kong/exports-by-country\">            Trading Economics</a>",
          "x": 0.55,
          "xref": "paper",
          "y": 0.1,
          "yref": "paper"
         }
        ],
        "geo": {
         "projection": {
          "type": "equirectangular"
         },
         "showcoastlines": true,
         "showframe": false
        },
        "template": {
         "data": {
          "bar": [
           {
            "error_x": {
             "color": "#2a3f5f"
            },
            "error_y": {
             "color": "#2a3f5f"
            },
            "marker": {
             "line": {
              "color": "#E5ECF6",
              "width": 0.5
             }
            },
            "type": "bar"
           }
          ],
          "barpolar": [
           {
            "marker": {
             "line": {
              "color": "#E5ECF6",
              "width": 0.5
             }
            },
            "type": "barpolar"
           }
          ],
          "carpet": [
           {
            "aaxis": {
             "endlinecolor": "#2a3f5f",
             "gridcolor": "white",
             "linecolor": "white",
             "minorgridcolor": "white",
             "startlinecolor": "#2a3f5f"
            },
            "baxis": {
             "endlinecolor": "#2a3f5f",
             "gridcolor": "white",
             "linecolor": "white",
             "minorgridcolor": "white",
             "startlinecolor": "#2a3f5f"
            },
            "type": "carpet"
           }
          ],
          "choropleth": [
           {
            "colorbar": {
             "outlinewidth": 0,
             "ticks": ""
            },
            "type": "choropleth"
           }
          ],
          "contour": [
           {
            "colorbar": {
             "outlinewidth": 0,
             "ticks": ""
            },
            "colorscale": [
             [
              0,
              "#0d0887"
             ],
             [
              0.1111111111111111,
              "#46039f"
             ],
             [
              0.2222222222222222,
              "#7201a8"
             ],
             [
              0.3333333333333333,
              "#9c179e"
             ],
             [
              0.4444444444444444,
              "#bd3786"
             ],
             [
              0.5555555555555556,
              "#d8576b"
             ],
             [
              0.6666666666666666,
              "#ed7953"
             ],
             [
              0.7777777777777778,
              "#fb9f3a"
             ],
             [
              0.8888888888888888,
              "#fdca26"
             ],
             [
              1,
              "#f0f921"
             ]
            ],
            "type": "contour"
           }
          ],
          "contourcarpet": [
           {
            "colorbar": {
             "outlinewidth": 0,
             "ticks": ""
            },
            "type": "contourcarpet"
           }
          ],
          "heatmap": [
           {
            "colorbar": {
             "outlinewidth": 0,
             "ticks": ""
            },
            "colorscale": [
             [
              0,
              "#0d0887"
             ],
             [
              0.1111111111111111,
              "#46039f"
             ],
             [
              0.2222222222222222,
              "#7201a8"
             ],
             [
              0.3333333333333333,
              "#9c179e"
             ],
             [
              0.4444444444444444,
              "#bd3786"
             ],
             [
              0.5555555555555556,
              "#d8576b"
             ],
             [
              0.6666666666666666,
              "#ed7953"
             ],
             [
              0.7777777777777778,
              "#fb9f3a"
             ],
             [
              0.8888888888888888,
              "#fdca26"
             ],
             [
              1,
              "#f0f921"
             ]
            ],
            "type": "heatmap"
           }
          ],
          "heatmapgl": [
           {
            "colorbar": {
             "outlinewidth": 0,
             "ticks": ""
            },
            "colorscale": [
             [
              0,
              "#0d0887"
             ],
             [
              0.1111111111111111,
              "#46039f"
             ],
             [
              0.2222222222222222,
              "#7201a8"
             ],
             [
              0.3333333333333333,
              "#9c179e"
             ],
             [
              0.4444444444444444,
              "#bd3786"
             ],
             [
              0.5555555555555556,
              "#d8576b"
             ],
             [
              0.6666666666666666,
              "#ed7953"
             ],
             [
              0.7777777777777778,
              "#fb9f3a"
             ],
             [
              0.8888888888888888,
              "#fdca26"
             ],
             [
              1,
              "#f0f921"
             ]
            ],
            "type": "heatmapgl"
           }
          ],
          "histogram": [
           {
            "marker": {
             "colorbar": {
              "outlinewidth": 0,
              "ticks": ""
             }
            },
            "type": "histogram"
           }
          ],
          "histogram2d": [
           {
            "colorbar": {
             "outlinewidth": 0,
             "ticks": ""
            },
            "colorscale": [
             [
              0,
              "#0d0887"
             ],
             [
              0.1111111111111111,
              "#46039f"
             ],
             [
              0.2222222222222222,
              "#7201a8"
             ],
             [
              0.3333333333333333,
              "#9c179e"
             ],
             [
              0.4444444444444444,
              "#bd3786"
             ],
             [
              0.5555555555555556,
              "#d8576b"
             ],
             [
              0.6666666666666666,
              "#ed7953"
             ],
             [
              0.7777777777777778,
              "#fb9f3a"
             ],
             [
              0.8888888888888888,
              "#fdca26"
             ],
             [
              1,
              "#f0f921"
             ]
            ],
            "type": "histogram2d"
           }
          ],
          "histogram2dcontour": [
           {
            "colorbar": {
             "outlinewidth": 0,
             "ticks": ""
            },
            "colorscale": [
             [
              0,
              "#0d0887"
             ],
             [
              0.1111111111111111,
              "#46039f"
             ],
             [
              0.2222222222222222,
              "#7201a8"
             ],
             [
              0.3333333333333333,
              "#9c179e"
             ],
             [
              0.4444444444444444,
              "#bd3786"
             ],
             [
              0.5555555555555556,
              "#d8576b"
             ],
             [
              0.6666666666666666,
              "#ed7953"
             ],
             [
              0.7777777777777778,
              "#fb9f3a"
             ],
             [
              0.8888888888888888,
              "#fdca26"
             ],
             [
              1,
              "#f0f921"
             ]
            ],
            "type": "histogram2dcontour"
           }
          ],
          "mesh3d": [
           {
            "colorbar": {
             "outlinewidth": 0,
             "ticks": ""
            },
            "type": "mesh3d"
           }
          ],
          "parcoords": [
           {
            "line": {
             "colorbar": {
              "outlinewidth": 0,
              "ticks": ""
             }
            },
            "type": "parcoords"
           }
          ],
          "pie": [
           {
            "automargin": true,
            "type": "pie"
           }
          ],
          "scatter": [
           {
            "marker": {
             "colorbar": {
              "outlinewidth": 0,
              "ticks": ""
             }
            },
            "type": "scatter"
           }
          ],
          "scatter3d": [
           {
            "line": {
             "colorbar": {
              "outlinewidth": 0,
              "ticks": ""
             }
            },
            "marker": {
             "colorbar": {
              "outlinewidth": 0,
              "ticks": ""
             }
            },
            "type": "scatter3d"
           }
          ],
          "scattercarpet": [
           {
            "marker": {
             "colorbar": {
              "outlinewidth": 0,
              "ticks": ""
             }
            },
            "type": "scattercarpet"
           }
          ],
          "scattergeo": [
           {
            "marker": {
             "colorbar": {
              "outlinewidth": 0,
              "ticks": ""
             }
            },
            "type": "scattergeo"
           }
          ],
          "scattergl": [
           {
            "marker": {
             "colorbar": {
              "outlinewidth": 0,
              "ticks": ""
             }
            },
            "type": "scattergl"
           }
          ],
          "scattermapbox": [
           {
            "marker": {
             "colorbar": {
              "outlinewidth": 0,
              "ticks": ""
             }
            },
            "type": "scattermapbox"
           }
          ],
          "scatterpolar": [
           {
            "marker": {
             "colorbar": {
              "outlinewidth": 0,
              "ticks": ""
             }
            },
            "type": "scatterpolar"
           }
          ],
          "scatterpolargl": [
           {
            "marker": {
             "colorbar": {
              "outlinewidth": 0,
              "ticks": ""
             }
            },
            "type": "scatterpolargl"
           }
          ],
          "scatterternary": [
           {
            "marker": {
             "colorbar": {
              "outlinewidth": 0,
              "ticks": ""
             }
            },
            "type": "scatterternary"
           }
          ],
          "surface": [
           {
            "colorbar": {
             "outlinewidth": 0,
             "ticks": ""
            },
            "colorscale": [
             [
              0,
              "#0d0887"
             ],
             [
              0.1111111111111111,
              "#46039f"
             ],
             [
              0.2222222222222222,
              "#7201a8"
             ],
             [
              0.3333333333333333,
              "#9c179e"
             ],
             [
              0.4444444444444444,
              "#bd3786"
             ],
             [
              0.5555555555555556,
              "#d8576b"
             ],
             [
              0.6666666666666666,
              "#ed7953"
             ],
             [
              0.7777777777777778,
              "#fb9f3a"
             ],
             [
              0.8888888888888888,
              "#fdca26"
             ],
             [
              1,
              "#f0f921"
             ]
            ],
            "type": "surface"
           }
          ],
          "table": [
           {
            "cells": {
             "fill": {
              "color": "#EBF0F8"
             },
             "line": {
              "color": "white"
             }
            },
            "header": {
             "fill": {
              "color": "#C8D4E3"
             },
             "line": {
              "color": "white"
             }
            },
            "type": "table"
           }
          ]
         },
         "layout": {
          "annotationdefaults": {
           "arrowcolor": "#2a3f5f",
           "arrowhead": 0,
           "arrowwidth": 1
          },
          "coloraxis": {
           "colorbar": {
            "outlinewidth": 0,
            "ticks": ""
           }
          },
          "colorscale": {
           "diverging": [
            [
             0,
             "#8e0152"
            ],
            [
             0.1,
             "#c51b7d"
            ],
            [
             0.2,
             "#de77ae"
            ],
            [
             0.3,
             "#f1b6da"
            ],
            [
             0.4,
             "#fde0ef"
            ],
            [
             0.5,
             "#f7f7f7"
            ],
            [
             0.6,
             "#e6f5d0"
            ],
            [
             0.7,
             "#b8e186"
            ],
            [
             0.8,
             "#7fbc41"
            ],
            [
             0.9,
             "#4d9221"
            ],
            [
             1,
             "#276419"
            ]
           ],
           "sequential": [
            [
             0,
             "#0d0887"
            ],
            [
             0.1111111111111111,
             "#46039f"
            ],
            [
             0.2222222222222222,
             "#7201a8"
            ],
            [
             0.3333333333333333,
             "#9c179e"
            ],
            [
             0.4444444444444444,
             "#bd3786"
            ],
            [
             0.5555555555555556,
             "#d8576b"
            ],
            [
             0.6666666666666666,
             "#ed7953"
            ],
            [
             0.7777777777777778,
             "#fb9f3a"
            ],
            [
             0.8888888888888888,
             "#fdca26"
            ],
            [
             1,
             "#f0f921"
            ]
           ],
           "sequentialminus": [
            [
             0,
             "#0d0887"
            ],
            [
             0.1111111111111111,
             "#46039f"
            ],
            [
             0.2222222222222222,
             "#7201a8"
            ],
            [
             0.3333333333333333,
             "#9c179e"
            ],
            [
             0.4444444444444444,
             "#bd3786"
            ],
            [
             0.5555555555555556,
             "#d8576b"
            ],
            [
             0.6666666666666666,
             "#ed7953"
            ],
            [
             0.7777777777777778,
             "#fb9f3a"
            ],
            [
             0.8888888888888888,
             "#fdca26"
            ],
            [
             1,
             "#f0f921"
            ]
           ]
          },
          "colorway": [
           "#636efa",
           "#EF553B",
           "#00cc96",
           "#ab63fa",
           "#FFA15A",
           "#19d3f3",
           "#FF6692",
           "#B6E880",
           "#FF97FF",
           "#FECB52"
          ],
          "font": {
           "color": "#2a3f5f"
          },
          "geo": {
           "bgcolor": "white",
           "lakecolor": "white",
           "landcolor": "#E5ECF6",
           "showlakes": true,
           "showland": true,
           "subunitcolor": "white"
          },
          "hoverlabel": {
           "align": "left"
          },
          "hovermode": "closest",
          "mapbox": {
           "style": "light"
          },
          "paper_bgcolor": "white",
          "plot_bgcolor": "#E5ECF6",
          "polar": {
           "angularaxis": {
            "gridcolor": "white",
            "linecolor": "white",
            "ticks": ""
           },
           "bgcolor": "#E5ECF6",
           "radialaxis": {
            "gridcolor": "white",
            "linecolor": "white",
            "ticks": ""
           }
          },
          "scene": {
           "xaxis": {
            "backgroundcolor": "#E5ECF6",
            "gridcolor": "white",
            "gridwidth": 2,
            "linecolor": "white",
            "showbackground": true,
            "ticks": "",
            "zerolinecolor": "white"
           },
           "yaxis": {
            "backgroundcolor": "#E5ECF6",
            "gridcolor": "white",
            "gridwidth": 2,
            "linecolor": "white",
            "showbackground": true,
            "ticks": "",
            "zerolinecolor": "white"
           },
           "zaxis": {
            "backgroundcolor": "#E5ECF6",
            "gridcolor": "white",
            "gridwidth": 2,
            "linecolor": "white",
            "showbackground": true,
            "ticks": "",
            "zerolinecolor": "white"
           }
          },
          "shapedefaults": {
           "line": {
            "color": "#2a3f5f"
           }
          },
          "ternary": {
           "aaxis": {
            "gridcolor": "white",
            "linecolor": "white",
            "ticks": ""
           },
           "baxis": {
            "gridcolor": "white",
            "linecolor": "white",
            "ticks": ""
           },
           "bgcolor": "#E5ECF6",
           "caxis": {
            "gridcolor": "white",
            "linecolor": "white",
            "ticks": ""
           }
          },
          "title": {
           "x": 0.05
          },
          "xaxis": {
           "automargin": true,
           "gridcolor": "white",
           "linecolor": "white",
           "ticks": "",
           "title": {
            "standoff": 15
           },
           "zerolinecolor": "white",
           "zerolinewidth": 2
          },
          "yaxis": {
           "automargin": true,
           "gridcolor": "white",
           "linecolor": "white",
           "ticks": "",
           "title": {
            "standoff": 15
           },
           "zerolinecolor": "white",
           "zerolinewidth": 2
          }
         }
        },
        "title": {
         "text": "2018 HK Import"
        }
       }
      },
      "text/html": [
       "<div>\n",
       "        \n",
       "        \n",
       "            <div id=\"2b9b6929-664b-4096-86dd-ac47162b096f\" class=\"plotly-graph-div\" style=\"height:525px; width:100%;\"></div>\n",
       "            <script type=\"text/javascript\">\n",
       "                require([\"plotly\"], function(Plotly) {\n",
       "                    window.PLOTLYENV=window.PLOTLYENV || {};\n",
       "                    \n",
       "                if (document.getElementById(\"2b9b6929-664b-4096-86dd-ac47162b096f\")) {\n",
       "                    Plotly.newPlot(\n",
       "                        '2b9b6929-664b-4096-86dd-ac47162b096f',\n",
       "                        [{\"autocolorscale\": false, \"colorbar\": {\"tickprefix\": \"\", \"title\": {\"text\": \"Import US$\"}}, \"colorscale\": [[0.0, \"rgb(247,251,255)\"], [0.125, \"rgb(222,235,247)\"], [0.25, \"rgb(198,219,239)\"], [0.375, \"rgb(158,202,225)\"], [0.5, \"rgb(107,174,214)\"], [0.625, \"rgb(66,146,198)\"], [0.75, \"rgb(33,113,181)\"], [0.875, \"rgb(8,81,156)\"], [1.0, \"rgb(8,48,107)\"]], \"locations\": [\"CHN\", \"\", \"SGP\", \"KOR\", \"JPN\", \"USA\", \"MYS\", \"CHE\", \"THA\", \"IND\", \"PHL\", \"GBR\", \"VNM\", \"AUS\", \"DEU\", \"FRA\", \"ITA\", \"ARE\", \"BEL\", \"IDN\", \"ZAF\", \"BRA\", \"NLD\", \"ISR\", \"CAN\", \"CHL\", \"ESP\", \"MEX\", \"IRL\", \"MAC\", \"RUS\", \"QAT\", \"TUR\", \"NZL\", \"DNK\", \"SAU\", \"HUN\", \"POL\", \"BWA\", \"AUT\", \"CZE\", \"KHM\", \"SWE\", \"ARG\", \"SUR\", \"SVN\", \"MLT\", \"NOR\", \"BGD\", \"CRI\", \"LUX\", \"BHR\", \"PRT\", \"PER\", \"COL\", \"LKA\", \"MAR\", \"SLV\", \"IRN\", \"FIN\", \"PAK\", \"OMN\", \"MMR\", \"UGA\", \"EGY\", \"BGR\", \"URY\", \"KWT\", \"KEN\", \"UKR\", \"NAM\", \"CUB\", \"PNG\", \"JOR\", \"GRC\", \"ROU\", \"HRV\", \"TZA\", \"LTU\", \"AGO\", \"ECU\", \"ZWE\", \"NGA\", \"SVK\", \"NIC\", \"PAN\", \"SEN\", \"LBN\", \"ZMB\", \"GUY\", \"GTM\", \"DOM\", \"CYP\", \"VEN\", \"EST\", \"GHA\", \"LVA\", \"YEM\", \"SRB\", \"PRY\", \"HND\", \"ETH\", \"BRB\", \"TUN\", \"MOZ\", \"LAO\", \"MUS\", \"MDA\", \"BLR\", \"GUM\", \"BRN\", \"MDG\", \"TGO\", \"MDV\", \"\", \"GEO\", \"BOL\", \"JAM\", \"ISL\", \"HTI\", \"GIN\", \"COD\", \"MRT\", \"MNE\", \"SLB\", \"FJI\", \"DZA\", \"SYC\", \"IRQ\", \"NPL\", \"GAB\", \"KAZ\", \"MWI\", \"DJI\", \"VUT\", \"MNG\", \"UZB\", \"MKD\", \"CMR\", \"TTO\", \"AZE\", \"BEN\", \"LBR\", \"COG\", \"BLZ\", \"SDN\", \"CIV\", \"RWA\", \"MLI\", \"BHS\", \"SOM\", \"CPV\", \"ALB\", \"KGZ\", \"SLE\", \"ARM\", \"ABW\", \"ASM\", \"SWZ\", \"BIH\", \"CAF\", \"AND\", \"FSM\", \"TKL\", \"AFG\", \"TKM\", \"KIR\", \"GMB\", \"GIB\", \"MHL\", \"MNP\", \"SMR\", \"\", \"BTN\", \"SSD\", \"SYR\", \"NER\", \"WSM\", \"TCD\", \"TON\", \"BFA\", \"\", \"COM\", \"LSO\", \"BDI\", \"\", \"LBY\", \"TJK\", \"GNQ\", \"GNB\", \"VAT\", \"UMI\", \"GRD\", \"NRU\", \"PRK\"], \"marker\": {\"line\": {\"color\": \"darkgray\", \"width\": 0.5}}, \"reversescale\": false, \"text\": [\"China\", \"Other Asia, nes\", \"Singapore\", \"South Korea\", \"Japan\", \"United States\", \"Malaysia\", \"Switzerland\", \"Thailand\", \"India\", \"Philippines\", \"United Kingdom\", \"Vietnam\", \"Australia\", \"Germany\", \"France\", \"Italy\", \"United Arab Emirates\", \"Belgium\", \"Indonesia\", \"South Africa\", \"Brazil\", \"Netherlands\", \"Israel\", \"Canada\", \"Chile\", \"Spain\", \"Mexico\", \"Ireland\", \"Macau\", \"Russia\", \"Qatar\", \"Turkey\", \"New Zealand\", \"Denmark\", \"Saudi Arabia\", \"Hungary\", \"Poland\", \"Botswana\", \"Austria\", \"Czech Republic\", \"Cambodia\", \"Sweden\", \"Argentina\", \"Suriname\", \"Slovenia\", \"Malta\", \"Norway\", \"Bangladesh\", \"Costa Rica\", \"Luxembourg\", \"Bahrain\", \"Portugal\", \"Peru\", \"Colombia\", \"Sri Lanka\", \"Morocco\", \"El Salvador\", \"Iran\", \"Finland\", \"Pakistan\", \"Oman\", \"Myanmar\", \"Uganda\", \"Egypt\", \"Bulgaria\", \"Uruguay\", \"Kuwait\", \"Kenya\", \"Ukraine\", \"Namibia\", \"Cuba\", \"Papua New Guinea\", \"Jordan\", \"Greece\", \"Romania\", \"Croatia\", \"Tanzania\", \"Lithuania\", \"Angola\", \"Ecuador\", \"Zimbabwe\", \"Nigeria\", \"Slovakia\", \"Nicaragua\", \"Panama\", \"Senegal\", \"Lebanon\", \"Zambia\", \"Guyana\", \"Guatemala\", \"Dominican Republic\", \"Cyprus\", \"Venezuela\", \"Estonia\", \"Ghana\", \"Latvia\", \"Yemen\", \"Serbia\", \"Paraguay\", \"Honduras\", \"Ethiopia\", \"Barbados\", \"Tunisia\", \"Mozambique\", \"Laos\", \"Mauritius\", \"Moldova\", \"Belarus\", \"Guam\", \"Brunei\", \"Madagascar\", \"Togo\", \"Maldives\", \"Oceania, nes\", \"Georgia\", \"Bolivia\", \"Jamaica\", \"Iceland\", \"Haiti\", \"Guinea\", \"Republic of the Congo\", \"Mauritania\", \"Montenegro\", \"Solomon Islands\", \"Fiji\", \"Algeria\", \"Seychelles\", \"Iraq\", \"Nepal\", \"Gabon\", \"Kazakhstan\", \"Malawi\", \"Djibouti\", \"Vanuatu\", \"Mongolia\", \"Uzbekistan\", \"Macedonia\", \"Cameroon\", \"Trinidad And Tobago\", \"Azerbaijan\", \"Benin\", \"Liberia\", \"Congo\", \"Belize\", \"Sudan\", \"Ivory Coast\", \"Rwanda\", \"Mali\", \"Bahamas\", \"Somalia\", \"Cape Verde\", \"Albania\", \"Kyrgyzstan\", \"Sierra Leone\", \"Armenia\", \"Aruba\", \"American Samoa\", \"Swaziland\", \"Bosnia And Herzegovina\", \"Central African Republic\", \"Andorra\", \"FS Micronesia\", \"Tokelau\", \"Afghanistan\", \"Turkmenistan\", \"Kiribati\", \"Gambia\", \"Gibraltar\", \"Marshall Islands\", \"Northern Mariana Islands\", \"San Marino\", \"Other Europe, nes\", \"Bhutan\", \"South Sudan\", \"Syria\", \"Niger\", \"Samoa\", \"Chad\", \"Tonga\", \"Burkina Faso\", \"America, nes\", \"Comoros\", \"Lesotho\", \"Burundi\", \"Other Africa, nes\", \"Libya\", \"Tajikistan\", \"Equatorial Guinea\", \"Guinea Bissau\", \"Vatican City State\", \"United States Minor Outlying Islands\", \"Grenada\", \"Nauru\", \"North Korea\"], \"type\": \"choropleth\", \"z\": [280980000000.0, 43290000000.0, 40420000000.0, 35580000000.0, 34880000000.0, 31760000000.0, 24140000000.0, 15800000000.0, 11880000000.0, 11850000000.0, 11100000000.0, 10000000000.0, 8439999999.999999, 7160000000.0, 6950000000.0, 6780000000.0, 6660000000.0, 4430000000.0, 3310000000.0, 2890000000.0, 2850000000.0, 2740000000.0, 2710000000.0, 2400000000.0, 2210000000.0, 1140000000.0, 1020000000.0, 987280000.0, 944940000.0, 941220000.0, 849890000.0, 789650000.0, 760390000.0, 686670000.0, 537750000.0, 528980000.0, 360840000.0, 351640000.0, 341360000.0, 340480000.0, 307490000.0, 298060000.0, 267130000.0, 257880000.0, 225450000.0, 224180000.0, 213600000.0, 181890000.0, 170620000.0, 158460000.0, 149750000.0, 147790000.0, 147430000.0, 144880000.0, 133669999.99999999, 132910000.0, 121280000.0, 118580000.0, 117320000.0, 114730000.0, 107050000.0, 104160000.0, 101090000.0, 80050000.0, 75400000.0, 64769999.99999999, 62860000.0, 61720000.0, 57820000.0, 57050000.0, 52900000.0, 52700000.0, 52530000.0, 50970000.0, 50620000.0, 50420000.0, 46240000.0, 41910000.0, 41390000.0, 37070000.0, 36520000.0, 34120000.0, 31040000.0, 30000000.0, 29900000.0, 26310000.0, 25000000.0, 24130000.0, 23940000.0, 23610000.0, 21900000.0, 20960000.0, 19330000.0, 17930000.0, 16719999.999999998, 15740000.0, 13970000.0, 12870000.0, 12290000.0, 12080000.0, 11540000.0, 11340000.0, 10770000.0, 10260000.0, 9420000.0, 9240000.0, 8740000.0, 8720000.0, 7290000.0, 6550000.0, 6490000.0, 6310000.0, 6010000.0, 5930000.0, 5020000.0, 4059999.9999999995, 3920000.0, 3620000.0, 3530000.0, 3350000.0, 3300000.0, 3180000.0, 3090000.0, 3020000.0, 2750000.0, 2690000.0, 2650000.0, 2500000.0, 2320000.0, 2270000.0, 2020000.0, 1810000.0, 1750000.0, 1650000.0, 1510000.0, 1510000.0, 1430000.0, 1330000.0, 1290000.0, 970890.0, 936360.0, 862600.0, 856920.0, 847740.0, 819710.0, 713370.0, 675710.0, 641480.0, 583920.0, 573130.0, 556800.0, 545360.0, 522809.99999999994, 495880.0, 467280.0, 411650.0, 387160.0, 355950.0, 335150.0, 308640.0, 248870.0, 221120.0, 194560.0, 182000.0, 175350.0, 148590.0, 137640.0, 137520.0, 129539.99999999999, 125670.0, 102880.0, 101180.0, 91170.0, 68520.0, 60840.0, 53490.0, 27660.0, 25330.0, 24300.0, 23680.0, 21020.0, 18790.0, 15020.0, 13130.0, 10960.0, 10160.0, 8710.0, 3620.0, 3000.0, 2550.0, 2320.0, 1280.0, \"298\", \"73\", \"1\"]}],\n",
       "                        {\"annotations\": [{\"showarrow\": false, \"text\": \"Source: <a href=\\\"https://tradingeconomics.com/hong-kong/exports-by-country\\\">            Trading Economics</a>\", \"x\": 0.55, \"xref\": \"paper\", \"y\": 0.1, \"yref\": \"paper\"}], \"geo\": {\"projection\": {\"type\": \"equirectangular\"}, \"showcoastlines\": true, \"showframe\": false}, \"template\": {\"data\": {\"bar\": [{\"error_x\": {\"color\": \"#2a3f5f\"}, \"error_y\": {\"color\": \"#2a3f5f\"}, \"marker\": {\"line\": {\"color\": \"#E5ECF6\", \"width\": 0.5}}, \"type\": \"bar\"}], \"barpolar\": [{\"marker\": {\"line\": {\"color\": \"#E5ECF6\", \"width\": 0.5}}, \"type\": \"barpolar\"}], \"carpet\": [{\"aaxis\": {\"endlinecolor\": \"#2a3f5f\", \"gridcolor\": \"white\", \"linecolor\": \"white\", \"minorgridcolor\": \"white\", \"startlinecolor\": \"#2a3f5f\"}, \"baxis\": {\"endlinecolor\": \"#2a3f5f\", \"gridcolor\": \"white\", \"linecolor\": \"white\", \"minorgridcolor\": \"white\", \"startlinecolor\": \"#2a3f5f\"}, \"type\": \"carpet\"}], \"choropleth\": [{\"colorbar\": {\"outlinewidth\": 0, \"ticks\": \"\"}, \"type\": \"choropleth\"}], \"contour\": [{\"colorbar\": {\"outlinewidth\": 0, \"ticks\": \"\"}, \"colorscale\": [[0.0, \"#0d0887\"], [0.1111111111111111, \"#46039f\"], [0.2222222222222222, \"#7201a8\"], [0.3333333333333333, \"#9c179e\"], [0.4444444444444444, \"#bd3786\"], [0.5555555555555556, \"#d8576b\"], [0.6666666666666666, \"#ed7953\"], [0.7777777777777778, \"#fb9f3a\"], [0.8888888888888888, \"#fdca26\"], [1.0, \"#f0f921\"]], \"type\": \"contour\"}], \"contourcarpet\": [{\"colorbar\": {\"outlinewidth\": 0, \"ticks\": \"\"}, \"type\": \"contourcarpet\"}], \"heatmap\": [{\"colorbar\": {\"outlinewidth\": 0, \"ticks\": \"\"}, \"colorscale\": [[0.0, \"#0d0887\"], [0.1111111111111111, \"#46039f\"], [0.2222222222222222, \"#7201a8\"], [0.3333333333333333, \"#9c179e\"], [0.4444444444444444, \"#bd3786\"], [0.5555555555555556, \"#d8576b\"], [0.6666666666666666, \"#ed7953\"], [0.7777777777777778, \"#fb9f3a\"], [0.8888888888888888, \"#fdca26\"], [1.0, \"#f0f921\"]], \"type\": \"heatmap\"}], \"heatmapgl\": [{\"colorbar\": {\"outlinewidth\": 0, \"ticks\": \"\"}, \"colorscale\": [[0.0, \"#0d0887\"], [0.1111111111111111, \"#46039f\"], [0.2222222222222222, \"#7201a8\"], [0.3333333333333333, \"#9c179e\"], [0.4444444444444444, \"#bd3786\"], [0.5555555555555556, \"#d8576b\"], [0.6666666666666666, \"#ed7953\"], [0.7777777777777778, \"#fb9f3a\"], [0.8888888888888888, \"#fdca26\"], [1.0, \"#f0f921\"]], \"type\": \"heatmapgl\"}], \"histogram\": [{\"marker\": {\"colorbar\": {\"outlinewidth\": 0, \"ticks\": \"\"}}, \"type\": \"histogram\"}], \"histogram2d\": [{\"colorbar\": {\"outlinewidth\": 0, \"ticks\": \"\"}, \"colorscale\": [[0.0, \"#0d0887\"], [0.1111111111111111, \"#46039f\"], [0.2222222222222222, \"#7201a8\"], [0.3333333333333333, \"#9c179e\"], [0.4444444444444444, \"#bd3786\"], [0.5555555555555556, \"#d8576b\"], [0.6666666666666666, \"#ed7953\"], [0.7777777777777778, \"#fb9f3a\"], [0.8888888888888888, \"#fdca26\"], [1.0, \"#f0f921\"]], \"type\": \"histogram2d\"}], \"histogram2dcontour\": [{\"colorbar\": {\"outlinewidth\": 0, \"ticks\": \"\"}, \"colorscale\": [[0.0, \"#0d0887\"], [0.1111111111111111, \"#46039f\"], [0.2222222222222222, \"#7201a8\"], [0.3333333333333333, \"#9c179e\"], [0.4444444444444444, \"#bd3786\"], [0.5555555555555556, \"#d8576b\"], [0.6666666666666666, \"#ed7953\"], [0.7777777777777778, \"#fb9f3a\"], [0.8888888888888888, \"#fdca26\"], [1.0, \"#f0f921\"]], \"type\": \"histogram2dcontour\"}], \"mesh3d\": [{\"colorbar\": {\"outlinewidth\": 0, \"ticks\": \"\"}, \"type\": \"mesh3d\"}], \"parcoords\": [{\"line\": {\"colorbar\": {\"outlinewidth\": 0, \"ticks\": \"\"}}, \"type\": \"parcoords\"}], \"pie\": [{\"automargin\": true, \"type\": \"pie\"}], \"scatter\": [{\"marker\": {\"colorbar\": {\"outlinewidth\": 0, \"ticks\": \"\"}}, \"type\": \"scatter\"}], \"scatter3d\": [{\"line\": {\"colorbar\": {\"outlinewidth\": 0, \"ticks\": \"\"}}, \"marker\": {\"colorbar\": {\"outlinewidth\": 0, \"ticks\": \"\"}}, \"type\": \"scatter3d\"}], \"scattercarpet\": [{\"marker\": {\"colorbar\": {\"outlinewidth\": 0, \"ticks\": \"\"}}, \"type\": \"scattercarpet\"}], \"scattergeo\": [{\"marker\": {\"colorbar\": {\"outlinewidth\": 0, \"ticks\": \"\"}}, \"type\": \"scattergeo\"}], \"scattergl\": [{\"marker\": {\"colorbar\": {\"outlinewidth\": 0, \"ticks\": \"\"}}, \"type\": \"scattergl\"}], \"scattermapbox\": [{\"marker\": {\"colorbar\": {\"outlinewidth\": 0, \"ticks\": \"\"}}, \"type\": \"scattermapbox\"}], \"scatterpolar\": [{\"marker\": {\"colorbar\": {\"outlinewidth\": 0, \"ticks\": \"\"}}, \"type\": \"scatterpolar\"}], \"scatterpolargl\": [{\"marker\": {\"colorbar\": {\"outlinewidth\": 0, \"ticks\": \"\"}}, \"type\": \"scatterpolargl\"}], \"scatterternary\": [{\"marker\": {\"colorbar\": {\"outlinewidth\": 0, \"ticks\": \"\"}}, \"type\": \"scatterternary\"}], \"surface\": [{\"colorbar\": {\"outlinewidth\": 0, \"ticks\": \"\"}, \"colorscale\": [[0.0, \"#0d0887\"], [0.1111111111111111, \"#46039f\"], [0.2222222222222222, \"#7201a8\"], [0.3333333333333333, \"#9c179e\"], [0.4444444444444444, \"#bd3786\"], [0.5555555555555556, \"#d8576b\"], [0.6666666666666666, \"#ed7953\"], [0.7777777777777778, \"#fb9f3a\"], [0.8888888888888888, \"#fdca26\"], [1.0, \"#f0f921\"]], \"type\": \"surface\"}], \"table\": [{\"cells\": {\"fill\": {\"color\": \"#EBF0F8\"}, \"line\": {\"color\": \"white\"}}, \"header\": {\"fill\": {\"color\": \"#C8D4E3\"}, \"line\": {\"color\": \"white\"}}, \"type\": \"table\"}]}, \"layout\": {\"annotationdefaults\": {\"arrowcolor\": \"#2a3f5f\", \"arrowhead\": 0, \"arrowwidth\": 1}, \"coloraxis\": {\"colorbar\": {\"outlinewidth\": 0, \"ticks\": \"\"}}, \"colorscale\": {\"diverging\": [[0, \"#8e0152\"], [0.1, \"#c51b7d\"], [0.2, \"#de77ae\"], [0.3, \"#f1b6da\"], [0.4, \"#fde0ef\"], [0.5, \"#f7f7f7\"], [0.6, \"#e6f5d0\"], [0.7, \"#b8e186\"], [0.8, \"#7fbc41\"], [0.9, \"#4d9221\"], [1, \"#276419\"]], \"sequential\": [[0.0, \"#0d0887\"], [0.1111111111111111, \"#46039f\"], [0.2222222222222222, \"#7201a8\"], [0.3333333333333333, \"#9c179e\"], [0.4444444444444444, \"#bd3786\"], [0.5555555555555556, \"#d8576b\"], [0.6666666666666666, \"#ed7953\"], [0.7777777777777778, \"#fb9f3a\"], [0.8888888888888888, \"#fdca26\"], [1.0, \"#f0f921\"]], \"sequentialminus\": [[0.0, \"#0d0887\"], [0.1111111111111111, \"#46039f\"], [0.2222222222222222, \"#7201a8\"], [0.3333333333333333, \"#9c179e\"], [0.4444444444444444, \"#bd3786\"], [0.5555555555555556, \"#d8576b\"], [0.6666666666666666, \"#ed7953\"], [0.7777777777777778, \"#fb9f3a\"], [0.8888888888888888, \"#fdca26\"], [1.0, \"#f0f921\"]]}, \"colorway\": [\"#636efa\", \"#EF553B\", \"#00cc96\", \"#ab63fa\", \"#FFA15A\", \"#19d3f3\", \"#FF6692\", \"#B6E880\", \"#FF97FF\", \"#FECB52\"], \"font\": {\"color\": \"#2a3f5f\"}, \"geo\": {\"bgcolor\": \"white\", \"lakecolor\": \"white\", \"landcolor\": \"#E5ECF6\", \"showlakes\": true, \"showland\": true, \"subunitcolor\": \"white\"}, \"hoverlabel\": {\"align\": \"left\"}, \"hovermode\": \"closest\", \"mapbox\": {\"style\": \"light\"}, \"paper_bgcolor\": \"white\", \"plot_bgcolor\": \"#E5ECF6\", \"polar\": {\"angularaxis\": {\"gridcolor\": \"white\", \"linecolor\": \"white\", \"ticks\": \"\"}, \"bgcolor\": \"#E5ECF6\", \"radialaxis\": {\"gridcolor\": \"white\", \"linecolor\": \"white\", \"ticks\": \"\"}}, \"scene\": {\"xaxis\": {\"backgroundcolor\": \"#E5ECF6\", \"gridcolor\": \"white\", \"gridwidth\": 2, \"linecolor\": \"white\", \"showbackground\": true, \"ticks\": \"\", \"zerolinecolor\": \"white\"}, \"yaxis\": {\"backgroundcolor\": \"#E5ECF6\", \"gridcolor\": \"white\", \"gridwidth\": 2, \"linecolor\": \"white\", \"showbackground\": true, \"ticks\": \"\", \"zerolinecolor\": \"white\"}, \"zaxis\": {\"backgroundcolor\": \"#E5ECF6\", \"gridcolor\": \"white\", \"gridwidth\": 2, \"linecolor\": \"white\", \"showbackground\": true, \"ticks\": \"\", \"zerolinecolor\": \"white\"}}, \"shapedefaults\": {\"line\": {\"color\": \"#2a3f5f\"}}, \"ternary\": {\"aaxis\": {\"gridcolor\": \"white\", \"linecolor\": \"white\", \"ticks\": \"\"}, \"baxis\": {\"gridcolor\": \"white\", \"linecolor\": \"white\", \"ticks\": \"\"}, \"bgcolor\": \"#E5ECF6\", \"caxis\": {\"gridcolor\": \"white\", \"linecolor\": \"white\", \"ticks\": \"\"}}, \"title\": {\"x\": 0.05}, \"xaxis\": {\"automargin\": true, \"gridcolor\": \"white\", \"linecolor\": \"white\", \"ticks\": \"\", \"title\": {\"standoff\": 15}, \"zerolinecolor\": \"white\", \"zerolinewidth\": 2}, \"yaxis\": {\"automargin\": true, \"gridcolor\": \"white\", \"linecolor\": \"white\", \"ticks\": \"\", \"title\": {\"standoff\": 15}, \"zerolinecolor\": \"white\", \"zerolinewidth\": 2}}}, \"title\": {\"text\": \"2018 HK Import\"}},\n",
       "                        {\"responsive\": true}\n",
       "                    ).then(function(){\n",
       "                            \n",
       "var gd = document.getElementById('2b9b6929-664b-4096-86dd-ac47162b096f');\n",
       "var x = new MutationObserver(function (mutations, observer) {{\n",
       "        var display = window.getComputedStyle(gd).display;\n",
       "        if (!display || display === 'none') {{\n",
       "            console.log([gd, 'removed!']);\n",
       "            Plotly.purge(gd);\n",
       "            observer.disconnect();\n",
       "        }}\n",
       "}});\n",
       "\n",
       "// Listen for the removal of the full notebook cells\n",
       "var notebookContainer = gd.closest('#notebook-container');\n",
       "if (notebookContainer) {{\n",
       "    x.observe(notebookContainer, {childList: true});\n",
       "}}\n",
       "\n",
       "// Listen for the clearing of the current output cell\n",
       "var outputEl = gd.closest('.output');\n",
       "if (outputEl) {{\n",
       "    x.observe(outputEl, {childList: true});\n",
       "}}\n",
       "\n",
       "                        })\n",
       "                };\n",
       "                });\n",
       "            </script>\n",
       "        </div>"
      ]
     },
     "metadata": {},
     "output_type": "display_data"
    }
   ],
   "source": [
    "fig = go.Figure(data=go.Choropleth(\n",
    "    locations = df['code'],\n",
    "    z = df['value'],\n",
    "    text = df['country'],\n",
    "    colorscale = 'Blues',\n",
    "    autocolorscale=False,\n",
    "    reversescale=False,\n",
    "    marker_line_color='darkgray',\n",
    "    marker_line_width=0.5,\n",
    "    colorbar_tickprefix = '',\n",
    "    colorbar_title = 'Import US$',\n",
    "))\n",
    "\n",
    "fig.update_layout(\n",
    "    title_text='2018 HK Import',\n",
    "    geo=dict(\n",
    "        showframe=False,\n",
    "        showcoastlines=True,\n",
    "        projection_type='equirectangular'\n",
    "    ),\n",
    "    annotations = [dict(\n",
    "        x=0.55,\n",
    "        y=0.1,\n",
    "        xref='paper',\n",
    "        yref='paper',\n",
    "        text='Source: <a href=\"https://tradingeconomics.com/hong-kong/exports-by-country\">\\\n",
    "            Trading Economics</a>',\n",
    "        showarrow = False\n",
    "    )]\n",
    ")\n",
    "\n",
    "fig.show()"
   ]
  },
  {
   "cell_type": "code",
   "execution_count": 31,
   "metadata": {},
   "outputs": [
    {
     "data": {
      "application/vnd.plotly.v1+json": {
       "config": {
        "plotlyServerURL": "https://plot.ly"
       },
       "data": [
        {
         "autocolorscale": false,
         "colorbar": {
          "tickprefix": "",
          "title": {
           "text": "Ranking"
          }
         },
         "colorscale": [
          [
           0,
           "rgb(247,251,255)"
          ],
          [
           0.125,
           "rgb(222,235,247)"
          ],
          [
           0.25,
           "rgb(198,219,239)"
          ],
          [
           0.375,
           "rgb(158,202,225)"
          ],
          [
           0.5,
           "rgb(107,174,214)"
          ],
          [
           0.625,
           "rgb(66,146,198)"
          ],
          [
           0.75,
           "rgb(33,113,181)"
          ],
          [
           0.875,
           "rgb(8,81,156)"
          ],
          [
           1,
           "rgb(8,48,107)"
          ]
         ],
         "locations": [
          "CHN",
          "",
          "SGP",
          "KOR",
          "JPN",
          "USA",
          "MYS",
          "CHE",
          "THA",
          "IND",
          "PHL",
          "GBR",
          "VNM",
          "AUS",
          "DEU",
          "FRA",
          "ITA",
          "ARE",
          "BEL",
          "IDN",
          "ZAF",
          "BRA",
          "NLD",
          "ISR",
          "CAN",
          "CHL",
          "ESP",
          "MEX",
          "IRL",
          "MAC",
          "RUS",
          "QAT",
          "TUR",
          "NZL",
          "DNK",
          "SAU",
          "HUN",
          "POL",
          "BWA",
          "AUT",
          "CZE",
          "KHM",
          "SWE",
          "ARG",
          "SUR",
          "SVN",
          "MLT",
          "NOR",
          "BGD",
          "CRI",
          "LUX",
          "BHR",
          "PRT",
          "PER",
          "COL",
          "LKA",
          "MAR",
          "SLV",
          "IRN",
          "FIN",
          "PAK",
          "OMN",
          "MMR",
          "UGA",
          "EGY",
          "BGR",
          "URY",
          "KWT",
          "KEN",
          "UKR",
          "NAM",
          "CUB",
          "PNG",
          "JOR",
          "GRC",
          "ROU",
          "HRV",
          "TZA",
          "LTU",
          "AGO",
          "ECU",
          "ZWE",
          "NGA",
          "SVK",
          "NIC",
          "PAN",
          "SEN",
          "LBN",
          "ZMB",
          "GUY",
          "GTM",
          "DOM",
          "CYP",
          "VEN",
          "EST",
          "GHA",
          "LVA",
          "YEM",
          "SRB",
          "PRY",
          "HND",
          "ETH",
          "BRB",
          "TUN",
          "MOZ",
          "LAO",
          "MUS",
          "MDA",
          "BLR",
          "GUM",
          "BRN",
          "MDG",
          "TGO",
          "MDV",
          "",
          "GEO",
          "BOL",
          "JAM",
          "ISL",
          "HTI",
          "GIN",
          "COD",
          "MRT",
          "MNE",
          "SLB",
          "FJI",
          "DZA",
          "SYC",
          "IRQ",
          "NPL",
          "GAB",
          "KAZ",
          "MWI",
          "DJI",
          "VUT",
          "MNG",
          "UZB",
          "MKD",
          "CMR",
          "TTO",
          "AZE",
          "BEN",
          "LBR",
          "COG",
          "BLZ",
          "SDN",
          "CIV",
          "RWA",
          "MLI",
          "BHS",
          "SOM",
          "CPV",
          "ALB",
          "KGZ",
          "SLE",
          "ARM",
          "ABW",
          "ASM",
          "SWZ",
          "BIH",
          "CAF",
          "AND",
          "FSM",
          "TKL",
          "AFG",
          "TKM",
          "KIR",
          "GMB",
          "GIB",
          "MHL",
          "MNP",
          "SMR",
          "",
          "BTN",
          "SSD",
          "SYR",
          "NER",
          "WSM",
          "TCD",
          "TON",
          "BFA",
          "",
          "COM",
          "LSO",
          "BDI",
          "",
          "LBY",
          "TJK",
          "GNQ",
          "GNB",
          "VAT",
          "UMI",
          "GRD",
          "NRU",
          "PRK"
         ],
         "marker": {
          "line": {
           "color": "darkgray",
           "width": 0.5
          }
         },
         "reversescale": false,
         "text": [
          "China",
          "Other Asia, nes",
          "Singapore",
          "South Korea",
          "Japan",
          "United States",
          "Malaysia",
          "Switzerland",
          "Thailand",
          "India",
          "Philippines",
          "United Kingdom",
          "Vietnam",
          "Australia",
          "Germany",
          "France",
          "Italy",
          "United Arab Emirates",
          "Belgium",
          "Indonesia",
          "South Africa",
          "Brazil",
          "Netherlands",
          "Israel",
          "Canada",
          "Chile",
          "Spain",
          "Mexico",
          "Ireland",
          "Macau",
          "Russia",
          "Qatar",
          "Turkey",
          "New Zealand",
          "Denmark",
          "Saudi Arabia",
          "Hungary",
          "Poland",
          "Botswana",
          "Austria",
          "Czech Republic",
          "Cambodia",
          "Sweden",
          "Argentina",
          "Suriname",
          "Slovenia",
          "Malta",
          "Norway",
          "Bangladesh",
          "Costa Rica",
          "Luxembourg",
          "Bahrain",
          "Portugal",
          "Peru",
          "Colombia",
          "Sri Lanka",
          "Morocco",
          "El Salvador",
          "Iran",
          "Finland",
          "Pakistan",
          "Oman",
          "Myanmar",
          "Uganda",
          "Egypt",
          "Bulgaria",
          "Uruguay",
          "Kuwait",
          "Kenya",
          "Ukraine",
          "Namibia",
          "Cuba",
          "Papua New Guinea",
          "Jordan",
          "Greece",
          "Romania",
          "Croatia",
          "Tanzania",
          "Lithuania",
          "Angola",
          "Ecuador",
          "Zimbabwe",
          "Nigeria",
          "Slovakia",
          "Nicaragua",
          "Panama",
          "Senegal",
          "Lebanon",
          "Zambia",
          "Guyana",
          "Guatemala",
          "Dominican Republic",
          "Cyprus",
          "Venezuela",
          "Estonia",
          "Ghana",
          "Latvia",
          "Yemen",
          "Serbia",
          "Paraguay",
          "Honduras",
          "Ethiopia",
          "Barbados",
          "Tunisia",
          "Mozambique",
          "Laos",
          "Mauritius",
          "Moldova",
          "Belarus",
          "Guam",
          "Brunei",
          "Madagascar",
          "Togo",
          "Maldives",
          "Oceania, nes",
          "Georgia",
          "Bolivia",
          "Jamaica",
          "Iceland",
          "Haiti",
          "Guinea",
          "Republic of the Congo",
          "Mauritania",
          "Montenegro",
          "Solomon Islands",
          "Fiji",
          "Algeria",
          "Seychelles",
          "Iraq",
          "Nepal",
          "Gabon",
          "Kazakhstan",
          "Malawi",
          "Djibouti",
          "Vanuatu",
          "Mongolia",
          "Uzbekistan",
          "Macedonia",
          "Cameroon",
          "Trinidad And Tobago",
          "Azerbaijan",
          "Benin",
          "Liberia",
          "Congo",
          "Belize",
          "Sudan",
          "Ivory Coast",
          "Rwanda",
          "Mali",
          "Bahamas",
          "Somalia",
          "Cape Verde",
          "Albania",
          "Kyrgyzstan",
          "Sierra Leone",
          "Armenia",
          "Aruba",
          "American Samoa",
          "Swaziland",
          "Bosnia And Herzegovina",
          "Central African Republic",
          "Andorra",
          "FS Micronesia",
          "Tokelau",
          "Afghanistan",
          "Turkmenistan",
          "Kiribati",
          "Gambia",
          "Gibraltar",
          "Marshall Islands",
          "Northern Mariana Islands",
          "San Marino",
          "Other Europe, nes",
          "Bhutan",
          "South Sudan",
          "Syria",
          "Niger",
          "Samoa",
          "Chad",
          "Tonga",
          "Burkina Faso",
          "America, nes",
          "Comoros",
          "Lesotho",
          "Burundi",
          "Other Africa, nes",
          "Libya",
          "Tajikistan",
          "Equatorial Guinea",
          "Guinea Bissau",
          "Vatican City State",
          "United States Minor Outlying Islands",
          "Grenada",
          "Nauru",
          "North Korea"
         ],
         "type": "choropleth",
         "z": [
          1,
          2,
          3,
          4,
          5,
          6,
          7,
          8,
          9,
          10,
          11,
          12,
          13,
          14,
          15,
          16,
          17,
          18,
          19,
          20,
          21,
          22,
          23,
          24,
          25,
          26,
          27,
          28,
          29,
          30,
          31,
          32,
          33,
          34,
          35,
          36,
          37,
          38,
          39,
          40,
          41,
          42,
          43,
          44,
          45,
          46,
          47,
          48,
          49,
          50,
          51,
          52,
          53,
          54,
          55,
          56,
          57,
          58,
          59,
          60,
          61,
          62,
          63,
          64,
          65,
          66,
          67,
          68,
          69,
          70,
          71,
          72,
          73,
          74,
          75,
          76,
          77,
          78,
          79,
          80,
          81,
          82,
          83,
          84,
          85,
          86,
          87,
          88,
          89,
          90,
          91,
          92,
          93,
          94,
          95,
          96,
          97,
          98,
          99,
          100,
          101,
          102,
          103,
          104,
          105,
          106,
          107,
          108,
          109,
          110,
          111,
          112,
          113,
          114,
          115,
          116,
          117,
          118,
          119,
          120,
          121,
          122,
          123,
          124,
          125,
          126,
          127,
          128,
          129,
          130,
          131,
          132,
          133,
          134,
          135,
          136,
          137,
          138,
          139,
          140,
          141,
          142,
          143,
          144,
          145,
          146,
          147,
          148,
          149,
          150,
          151,
          152,
          153,
          154,
          155,
          156,
          157,
          158,
          159,
          160,
          161,
          162,
          163,
          164,
          165,
          166,
          167,
          168,
          169,
          170,
          171,
          172,
          173,
          174,
          175,
          176,
          177,
          178,
          179,
          180,
          181,
          182,
          183,
          184,
          185,
          186,
          187,
          188,
          189,
          190,
          191,
          192,
          193,
          194,
          195
         ]
        }
       ],
       "layout": {
        "annotations": [
         {
          "showarrow": false,
          "text": "Source: <a href=\"https://tradingeconomics.com/hong-kong/exports-by-country\">            Trading Economics</a>",
          "x": 0.55,
          "xref": "paper",
          "y": 0.1,
          "yref": "paper"
         }
        ],
        "geo": {
         "projection": {
          "type": "equirectangular"
         },
         "showcoastlines": true,
         "showframe": false
        },
        "template": {
         "data": {
          "bar": [
           {
            "error_x": {
             "color": "#2a3f5f"
            },
            "error_y": {
             "color": "#2a3f5f"
            },
            "marker": {
             "line": {
              "color": "#E5ECF6",
              "width": 0.5
             }
            },
            "type": "bar"
           }
          ],
          "barpolar": [
           {
            "marker": {
             "line": {
              "color": "#E5ECF6",
              "width": 0.5
             }
            },
            "type": "barpolar"
           }
          ],
          "carpet": [
           {
            "aaxis": {
             "endlinecolor": "#2a3f5f",
             "gridcolor": "white",
             "linecolor": "white",
             "minorgridcolor": "white",
             "startlinecolor": "#2a3f5f"
            },
            "baxis": {
             "endlinecolor": "#2a3f5f",
             "gridcolor": "white",
             "linecolor": "white",
             "minorgridcolor": "white",
             "startlinecolor": "#2a3f5f"
            },
            "type": "carpet"
           }
          ],
          "choropleth": [
           {
            "colorbar": {
             "outlinewidth": 0,
             "ticks": ""
            },
            "type": "choropleth"
           }
          ],
          "contour": [
           {
            "colorbar": {
             "outlinewidth": 0,
             "ticks": ""
            },
            "colorscale": [
             [
              0,
              "#0d0887"
             ],
             [
              0.1111111111111111,
              "#46039f"
             ],
             [
              0.2222222222222222,
              "#7201a8"
             ],
             [
              0.3333333333333333,
              "#9c179e"
             ],
             [
              0.4444444444444444,
              "#bd3786"
             ],
             [
              0.5555555555555556,
              "#d8576b"
             ],
             [
              0.6666666666666666,
              "#ed7953"
             ],
             [
              0.7777777777777778,
              "#fb9f3a"
             ],
             [
              0.8888888888888888,
              "#fdca26"
             ],
             [
              1,
              "#f0f921"
             ]
            ],
            "type": "contour"
           }
          ],
          "contourcarpet": [
           {
            "colorbar": {
             "outlinewidth": 0,
             "ticks": ""
            },
            "type": "contourcarpet"
           }
          ],
          "heatmap": [
           {
            "colorbar": {
             "outlinewidth": 0,
             "ticks": ""
            },
            "colorscale": [
             [
              0,
              "#0d0887"
             ],
             [
              0.1111111111111111,
              "#46039f"
             ],
             [
              0.2222222222222222,
              "#7201a8"
             ],
             [
              0.3333333333333333,
              "#9c179e"
             ],
             [
              0.4444444444444444,
              "#bd3786"
             ],
             [
              0.5555555555555556,
              "#d8576b"
             ],
             [
              0.6666666666666666,
              "#ed7953"
             ],
             [
              0.7777777777777778,
              "#fb9f3a"
             ],
             [
              0.8888888888888888,
              "#fdca26"
             ],
             [
              1,
              "#f0f921"
             ]
            ],
            "type": "heatmap"
           }
          ],
          "heatmapgl": [
           {
            "colorbar": {
             "outlinewidth": 0,
             "ticks": ""
            },
            "colorscale": [
             [
              0,
              "#0d0887"
             ],
             [
              0.1111111111111111,
              "#46039f"
             ],
             [
              0.2222222222222222,
              "#7201a8"
             ],
             [
              0.3333333333333333,
              "#9c179e"
             ],
             [
              0.4444444444444444,
              "#bd3786"
             ],
             [
              0.5555555555555556,
              "#d8576b"
             ],
             [
              0.6666666666666666,
              "#ed7953"
             ],
             [
              0.7777777777777778,
              "#fb9f3a"
             ],
             [
              0.8888888888888888,
              "#fdca26"
             ],
             [
              1,
              "#f0f921"
             ]
            ],
            "type": "heatmapgl"
           }
          ],
          "histogram": [
           {
            "marker": {
             "colorbar": {
              "outlinewidth": 0,
              "ticks": ""
             }
            },
            "type": "histogram"
           }
          ],
          "histogram2d": [
           {
            "colorbar": {
             "outlinewidth": 0,
             "ticks": ""
            },
            "colorscale": [
             [
              0,
              "#0d0887"
             ],
             [
              0.1111111111111111,
              "#46039f"
             ],
             [
              0.2222222222222222,
              "#7201a8"
             ],
             [
              0.3333333333333333,
              "#9c179e"
             ],
             [
              0.4444444444444444,
              "#bd3786"
             ],
             [
              0.5555555555555556,
              "#d8576b"
             ],
             [
              0.6666666666666666,
              "#ed7953"
             ],
             [
              0.7777777777777778,
              "#fb9f3a"
             ],
             [
              0.8888888888888888,
              "#fdca26"
             ],
             [
              1,
              "#f0f921"
             ]
            ],
            "type": "histogram2d"
           }
          ],
          "histogram2dcontour": [
           {
            "colorbar": {
             "outlinewidth": 0,
             "ticks": ""
            },
            "colorscale": [
             [
              0,
              "#0d0887"
             ],
             [
              0.1111111111111111,
              "#46039f"
             ],
             [
              0.2222222222222222,
              "#7201a8"
             ],
             [
              0.3333333333333333,
              "#9c179e"
             ],
             [
              0.4444444444444444,
              "#bd3786"
             ],
             [
              0.5555555555555556,
              "#d8576b"
             ],
             [
              0.6666666666666666,
              "#ed7953"
             ],
             [
              0.7777777777777778,
              "#fb9f3a"
             ],
             [
              0.8888888888888888,
              "#fdca26"
             ],
             [
              1,
              "#f0f921"
             ]
            ],
            "type": "histogram2dcontour"
           }
          ],
          "mesh3d": [
           {
            "colorbar": {
             "outlinewidth": 0,
             "ticks": ""
            },
            "type": "mesh3d"
           }
          ],
          "parcoords": [
           {
            "line": {
             "colorbar": {
              "outlinewidth": 0,
              "ticks": ""
             }
            },
            "type": "parcoords"
           }
          ],
          "pie": [
           {
            "automargin": true,
            "type": "pie"
           }
          ],
          "scatter": [
           {
            "marker": {
             "colorbar": {
              "outlinewidth": 0,
              "ticks": ""
             }
            },
            "type": "scatter"
           }
          ],
          "scatter3d": [
           {
            "line": {
             "colorbar": {
              "outlinewidth": 0,
              "ticks": ""
             }
            },
            "marker": {
             "colorbar": {
              "outlinewidth": 0,
              "ticks": ""
             }
            },
            "type": "scatter3d"
           }
          ],
          "scattercarpet": [
           {
            "marker": {
             "colorbar": {
              "outlinewidth": 0,
              "ticks": ""
             }
            },
            "type": "scattercarpet"
           }
          ],
          "scattergeo": [
           {
            "marker": {
             "colorbar": {
              "outlinewidth": 0,
              "ticks": ""
             }
            },
            "type": "scattergeo"
           }
          ],
          "scattergl": [
           {
            "marker": {
             "colorbar": {
              "outlinewidth": 0,
              "ticks": ""
             }
            },
            "type": "scattergl"
           }
          ],
          "scattermapbox": [
           {
            "marker": {
             "colorbar": {
              "outlinewidth": 0,
              "ticks": ""
             }
            },
            "type": "scattermapbox"
           }
          ],
          "scatterpolar": [
           {
            "marker": {
             "colorbar": {
              "outlinewidth": 0,
              "ticks": ""
             }
            },
            "type": "scatterpolar"
           }
          ],
          "scatterpolargl": [
           {
            "marker": {
             "colorbar": {
              "outlinewidth": 0,
              "ticks": ""
             }
            },
            "type": "scatterpolargl"
           }
          ],
          "scatterternary": [
           {
            "marker": {
             "colorbar": {
              "outlinewidth": 0,
              "ticks": ""
             }
            },
            "type": "scatterternary"
           }
          ],
          "surface": [
           {
            "colorbar": {
             "outlinewidth": 0,
             "ticks": ""
            },
            "colorscale": [
             [
              0,
              "#0d0887"
             ],
             [
              0.1111111111111111,
              "#46039f"
             ],
             [
              0.2222222222222222,
              "#7201a8"
             ],
             [
              0.3333333333333333,
              "#9c179e"
             ],
             [
              0.4444444444444444,
              "#bd3786"
             ],
             [
              0.5555555555555556,
              "#d8576b"
             ],
             [
              0.6666666666666666,
              "#ed7953"
             ],
             [
              0.7777777777777778,
              "#fb9f3a"
             ],
             [
              0.8888888888888888,
              "#fdca26"
             ],
             [
              1,
              "#f0f921"
             ]
            ],
            "type": "surface"
           }
          ],
          "table": [
           {
            "cells": {
             "fill": {
              "color": "#EBF0F8"
             },
             "line": {
              "color": "white"
             }
            },
            "header": {
             "fill": {
              "color": "#C8D4E3"
             },
             "line": {
              "color": "white"
             }
            },
            "type": "table"
           }
          ]
         },
         "layout": {
          "annotationdefaults": {
           "arrowcolor": "#2a3f5f",
           "arrowhead": 0,
           "arrowwidth": 1
          },
          "coloraxis": {
           "colorbar": {
            "outlinewidth": 0,
            "ticks": ""
           }
          },
          "colorscale": {
           "diverging": [
            [
             0,
             "#8e0152"
            ],
            [
             0.1,
             "#c51b7d"
            ],
            [
             0.2,
             "#de77ae"
            ],
            [
             0.3,
             "#f1b6da"
            ],
            [
             0.4,
             "#fde0ef"
            ],
            [
             0.5,
             "#f7f7f7"
            ],
            [
             0.6,
             "#e6f5d0"
            ],
            [
             0.7,
             "#b8e186"
            ],
            [
             0.8,
             "#7fbc41"
            ],
            [
             0.9,
             "#4d9221"
            ],
            [
             1,
             "#276419"
            ]
           ],
           "sequential": [
            [
             0,
             "#0d0887"
            ],
            [
             0.1111111111111111,
             "#46039f"
            ],
            [
             0.2222222222222222,
             "#7201a8"
            ],
            [
             0.3333333333333333,
             "#9c179e"
            ],
            [
             0.4444444444444444,
             "#bd3786"
            ],
            [
             0.5555555555555556,
             "#d8576b"
            ],
            [
             0.6666666666666666,
             "#ed7953"
            ],
            [
             0.7777777777777778,
             "#fb9f3a"
            ],
            [
             0.8888888888888888,
             "#fdca26"
            ],
            [
             1,
             "#f0f921"
            ]
           ],
           "sequentialminus": [
            [
             0,
             "#0d0887"
            ],
            [
             0.1111111111111111,
             "#46039f"
            ],
            [
             0.2222222222222222,
             "#7201a8"
            ],
            [
             0.3333333333333333,
             "#9c179e"
            ],
            [
             0.4444444444444444,
             "#bd3786"
            ],
            [
             0.5555555555555556,
             "#d8576b"
            ],
            [
             0.6666666666666666,
             "#ed7953"
            ],
            [
             0.7777777777777778,
             "#fb9f3a"
            ],
            [
             0.8888888888888888,
             "#fdca26"
            ],
            [
             1,
             "#f0f921"
            ]
           ]
          },
          "colorway": [
           "#636efa",
           "#EF553B",
           "#00cc96",
           "#ab63fa",
           "#FFA15A",
           "#19d3f3",
           "#FF6692",
           "#B6E880",
           "#FF97FF",
           "#FECB52"
          ],
          "font": {
           "color": "#2a3f5f"
          },
          "geo": {
           "bgcolor": "white",
           "lakecolor": "white",
           "landcolor": "#E5ECF6",
           "showlakes": true,
           "showland": true,
           "subunitcolor": "white"
          },
          "hoverlabel": {
           "align": "left"
          },
          "hovermode": "closest",
          "mapbox": {
           "style": "light"
          },
          "paper_bgcolor": "white",
          "plot_bgcolor": "#E5ECF6",
          "polar": {
           "angularaxis": {
            "gridcolor": "white",
            "linecolor": "white",
            "ticks": ""
           },
           "bgcolor": "#E5ECF6",
           "radialaxis": {
            "gridcolor": "white",
            "linecolor": "white",
            "ticks": ""
           }
          },
          "scene": {
           "xaxis": {
            "backgroundcolor": "#E5ECF6",
            "gridcolor": "white",
            "gridwidth": 2,
            "linecolor": "white",
            "showbackground": true,
            "ticks": "",
            "zerolinecolor": "white"
           },
           "yaxis": {
            "backgroundcolor": "#E5ECF6",
            "gridcolor": "white",
            "gridwidth": 2,
            "linecolor": "white",
            "showbackground": true,
            "ticks": "",
            "zerolinecolor": "white"
           },
           "zaxis": {
            "backgroundcolor": "#E5ECF6",
            "gridcolor": "white",
            "gridwidth": 2,
            "linecolor": "white",
            "showbackground": true,
            "ticks": "",
            "zerolinecolor": "white"
           }
          },
          "shapedefaults": {
           "line": {
            "color": "#2a3f5f"
           }
          },
          "ternary": {
           "aaxis": {
            "gridcolor": "white",
            "linecolor": "white",
            "ticks": ""
           },
           "baxis": {
            "gridcolor": "white",
            "linecolor": "white",
            "ticks": ""
           },
           "bgcolor": "#E5ECF6",
           "caxis": {
            "gridcolor": "white",
            "linecolor": "white",
            "ticks": ""
           }
          },
          "title": {
           "x": 0.05
          },
          "xaxis": {
           "automargin": true,
           "gridcolor": "white",
           "linecolor": "white",
           "ticks": "",
           "title": {
            "standoff": 15
           },
           "zerolinecolor": "white",
           "zerolinewidth": 2
          },
          "yaxis": {
           "automargin": true,
           "gridcolor": "white",
           "linecolor": "white",
           "ticks": "",
           "title": {
            "standoff": 15
           },
           "zerolinecolor": "white",
           "zerolinewidth": 2
          }
         }
        },
        "title": {
         "text": "2018 HK Import"
        }
       }
      },
      "text/html": [
       "<div>\n",
       "        \n",
       "        \n",
       "            <div id=\"df7c48ec-f72e-43c4-97d8-30337128f2b3\" class=\"plotly-graph-div\" style=\"height:525px; width:100%;\"></div>\n",
       "            <script type=\"text/javascript\">\n",
       "                require([\"plotly\"], function(Plotly) {\n",
       "                    window.PLOTLYENV=window.PLOTLYENV || {};\n",
       "                    \n",
       "                if (document.getElementById(\"df7c48ec-f72e-43c4-97d8-30337128f2b3\")) {\n",
       "                    Plotly.newPlot(\n",
       "                        'df7c48ec-f72e-43c4-97d8-30337128f2b3',\n",
       "                        [{\"autocolorscale\": false, \"colorbar\": {\"tickprefix\": \"\", \"title\": {\"text\": \"Ranking\"}}, \"colorscale\": [[0.0, \"rgb(247,251,255)\"], [0.125, \"rgb(222,235,247)\"], [0.25, \"rgb(198,219,239)\"], [0.375, \"rgb(158,202,225)\"], [0.5, \"rgb(107,174,214)\"], [0.625, \"rgb(66,146,198)\"], [0.75, \"rgb(33,113,181)\"], [0.875, \"rgb(8,81,156)\"], [1.0, \"rgb(8,48,107)\"]], \"locations\": [\"CHN\", \"\", \"SGP\", \"KOR\", \"JPN\", \"USA\", \"MYS\", \"CHE\", \"THA\", \"IND\", \"PHL\", \"GBR\", \"VNM\", \"AUS\", \"DEU\", \"FRA\", \"ITA\", \"ARE\", \"BEL\", \"IDN\", \"ZAF\", \"BRA\", \"NLD\", \"ISR\", \"CAN\", \"CHL\", \"ESP\", \"MEX\", \"IRL\", \"MAC\", \"RUS\", \"QAT\", \"TUR\", \"NZL\", \"DNK\", \"SAU\", \"HUN\", \"POL\", \"BWA\", \"AUT\", \"CZE\", \"KHM\", \"SWE\", \"ARG\", \"SUR\", \"SVN\", \"MLT\", \"NOR\", \"BGD\", \"CRI\", \"LUX\", \"BHR\", \"PRT\", \"PER\", \"COL\", \"LKA\", \"MAR\", \"SLV\", \"IRN\", \"FIN\", \"PAK\", \"OMN\", \"MMR\", \"UGA\", \"EGY\", \"BGR\", \"URY\", \"KWT\", \"KEN\", \"UKR\", \"NAM\", \"CUB\", \"PNG\", \"JOR\", \"GRC\", \"ROU\", \"HRV\", \"TZA\", \"LTU\", \"AGO\", \"ECU\", \"ZWE\", \"NGA\", \"SVK\", \"NIC\", \"PAN\", \"SEN\", \"LBN\", \"ZMB\", \"GUY\", \"GTM\", \"DOM\", \"CYP\", \"VEN\", \"EST\", \"GHA\", \"LVA\", \"YEM\", \"SRB\", \"PRY\", \"HND\", \"ETH\", \"BRB\", \"TUN\", \"MOZ\", \"LAO\", \"MUS\", \"MDA\", \"BLR\", \"GUM\", \"BRN\", \"MDG\", \"TGO\", \"MDV\", \"\", \"GEO\", \"BOL\", \"JAM\", \"ISL\", \"HTI\", \"GIN\", \"COD\", \"MRT\", \"MNE\", \"SLB\", \"FJI\", \"DZA\", \"SYC\", \"IRQ\", \"NPL\", \"GAB\", \"KAZ\", \"MWI\", \"DJI\", \"VUT\", \"MNG\", \"UZB\", \"MKD\", \"CMR\", \"TTO\", \"AZE\", \"BEN\", \"LBR\", \"COG\", \"BLZ\", \"SDN\", \"CIV\", \"RWA\", \"MLI\", \"BHS\", \"SOM\", \"CPV\", \"ALB\", \"KGZ\", \"SLE\", \"ARM\", \"ABW\", \"ASM\", \"SWZ\", \"BIH\", \"CAF\", \"AND\", \"FSM\", \"TKL\", \"AFG\", \"TKM\", \"KIR\", \"GMB\", \"GIB\", \"MHL\", \"MNP\", \"SMR\", \"\", \"BTN\", \"SSD\", \"SYR\", \"NER\", \"WSM\", \"TCD\", \"TON\", \"BFA\", \"\", \"COM\", \"LSO\", \"BDI\", \"\", \"LBY\", \"TJK\", \"GNQ\", \"GNB\", \"VAT\", \"UMI\", \"GRD\", \"NRU\", \"PRK\"], \"marker\": {\"line\": {\"color\": \"darkgray\", \"width\": 0.5}}, \"reversescale\": false, \"text\": [\"China\", \"Other Asia, nes\", \"Singapore\", \"South Korea\", \"Japan\", \"United States\", \"Malaysia\", \"Switzerland\", \"Thailand\", \"India\", \"Philippines\", \"United Kingdom\", \"Vietnam\", \"Australia\", \"Germany\", \"France\", \"Italy\", \"United Arab Emirates\", \"Belgium\", \"Indonesia\", \"South Africa\", \"Brazil\", \"Netherlands\", \"Israel\", \"Canada\", \"Chile\", \"Spain\", \"Mexico\", \"Ireland\", \"Macau\", \"Russia\", \"Qatar\", \"Turkey\", \"New Zealand\", \"Denmark\", \"Saudi Arabia\", \"Hungary\", \"Poland\", \"Botswana\", \"Austria\", \"Czech Republic\", \"Cambodia\", \"Sweden\", \"Argentina\", \"Suriname\", \"Slovenia\", \"Malta\", \"Norway\", \"Bangladesh\", \"Costa Rica\", \"Luxembourg\", \"Bahrain\", \"Portugal\", \"Peru\", \"Colombia\", \"Sri Lanka\", \"Morocco\", \"El Salvador\", \"Iran\", \"Finland\", \"Pakistan\", \"Oman\", \"Myanmar\", \"Uganda\", \"Egypt\", \"Bulgaria\", \"Uruguay\", \"Kuwait\", \"Kenya\", \"Ukraine\", \"Namibia\", \"Cuba\", \"Papua New Guinea\", \"Jordan\", \"Greece\", \"Romania\", \"Croatia\", \"Tanzania\", \"Lithuania\", \"Angola\", \"Ecuador\", \"Zimbabwe\", \"Nigeria\", \"Slovakia\", \"Nicaragua\", \"Panama\", \"Senegal\", \"Lebanon\", \"Zambia\", \"Guyana\", \"Guatemala\", \"Dominican Republic\", \"Cyprus\", \"Venezuela\", \"Estonia\", \"Ghana\", \"Latvia\", \"Yemen\", \"Serbia\", \"Paraguay\", \"Honduras\", \"Ethiopia\", \"Barbados\", \"Tunisia\", \"Mozambique\", \"Laos\", \"Mauritius\", \"Moldova\", \"Belarus\", \"Guam\", \"Brunei\", \"Madagascar\", \"Togo\", \"Maldives\", \"Oceania, nes\", \"Georgia\", \"Bolivia\", \"Jamaica\", \"Iceland\", \"Haiti\", \"Guinea\", \"Republic of the Congo\", \"Mauritania\", \"Montenegro\", \"Solomon Islands\", \"Fiji\", \"Algeria\", \"Seychelles\", \"Iraq\", \"Nepal\", \"Gabon\", \"Kazakhstan\", \"Malawi\", \"Djibouti\", \"Vanuatu\", \"Mongolia\", \"Uzbekistan\", \"Macedonia\", \"Cameroon\", \"Trinidad And Tobago\", \"Azerbaijan\", \"Benin\", \"Liberia\", \"Congo\", \"Belize\", \"Sudan\", \"Ivory Coast\", \"Rwanda\", \"Mali\", \"Bahamas\", \"Somalia\", \"Cape Verde\", \"Albania\", \"Kyrgyzstan\", \"Sierra Leone\", \"Armenia\", \"Aruba\", \"American Samoa\", \"Swaziland\", \"Bosnia And Herzegovina\", \"Central African Republic\", \"Andorra\", \"FS Micronesia\", \"Tokelau\", \"Afghanistan\", \"Turkmenistan\", \"Kiribati\", \"Gambia\", \"Gibraltar\", \"Marshall Islands\", \"Northern Mariana Islands\", \"San Marino\", \"Other Europe, nes\", \"Bhutan\", \"South Sudan\", \"Syria\", \"Niger\", \"Samoa\", \"Chad\", \"Tonga\", \"Burkina Faso\", \"America, nes\", \"Comoros\", \"Lesotho\", \"Burundi\", \"Other Africa, nes\", \"Libya\", \"Tajikistan\", \"Equatorial Guinea\", \"Guinea Bissau\", \"Vatican City State\", \"United States Minor Outlying Islands\", \"Grenada\", \"Nauru\", \"North Korea\"], \"type\": \"choropleth\", \"z\": [1, 2, 3, 4, 5, 6, 7, 8, 9, 10, 11, 12, 13, 14, 15, 16, 17, 18, 19, 20, 21, 22, 23, 24, 25, 26, 27, 28, 29, 30, 31, 32, 33, 34, 35, 36, 37, 38, 39, 40, 41, 42, 43, 44, 45, 46, 47, 48, 49, 50, 51, 52, 53, 54, 55, 56, 57, 58, 59, 60, 61, 62, 63, 64, 65, 66, 67, 68, 69, 70, 71, 72, 73, 74, 75, 76, 77, 78, 79, 80, 81, 82, 83, 84, 85, 86, 87, 88, 89, 90, 91, 92, 93, 94, 95, 96, 97, 98, 99, 100, 101, 102, 103, 104, 105, 106, 107, 108, 109, 110, 111, 112, 113, 114, 115, 116, 117, 118, 119, 120, 121, 122, 123, 124, 125, 126, 127, 128, 129, 130, 131, 132, 133, 134, 135, 136, 137, 138, 139, 140, 141, 142, 143, 144, 145, 146, 147, 148, 149, 150, 151, 152, 153, 154, 155, 156, 157, 158, 159, 160, 161, 162, 163, 164, 165, 166, 167, 168, 169, 170, 171, 172, 173, 174, 175, 176, 177, 178, 179, 180, 181, 182, 183, 184, 185, 186, 187, 188, 189, 190, 191, 192, 193, 194, 195]}],\n",
       "                        {\"annotations\": [{\"showarrow\": false, \"text\": \"Source: <a href=\\\"https://tradingeconomics.com/hong-kong/exports-by-country\\\">            Trading Economics</a>\", \"x\": 0.55, \"xref\": \"paper\", \"y\": 0.1, \"yref\": \"paper\"}], \"geo\": {\"projection\": {\"type\": \"equirectangular\"}, \"showcoastlines\": true, \"showframe\": false}, \"template\": {\"data\": {\"bar\": [{\"error_x\": {\"color\": \"#2a3f5f\"}, \"error_y\": {\"color\": \"#2a3f5f\"}, \"marker\": {\"line\": {\"color\": \"#E5ECF6\", \"width\": 0.5}}, \"type\": \"bar\"}], \"barpolar\": [{\"marker\": {\"line\": {\"color\": \"#E5ECF6\", \"width\": 0.5}}, \"type\": \"barpolar\"}], \"carpet\": [{\"aaxis\": {\"endlinecolor\": \"#2a3f5f\", \"gridcolor\": \"white\", \"linecolor\": \"white\", \"minorgridcolor\": \"white\", \"startlinecolor\": \"#2a3f5f\"}, \"baxis\": {\"endlinecolor\": \"#2a3f5f\", \"gridcolor\": \"white\", \"linecolor\": \"white\", \"minorgridcolor\": \"white\", \"startlinecolor\": \"#2a3f5f\"}, \"type\": \"carpet\"}], \"choropleth\": [{\"colorbar\": {\"outlinewidth\": 0, \"ticks\": \"\"}, \"type\": \"choropleth\"}], \"contour\": [{\"colorbar\": {\"outlinewidth\": 0, \"ticks\": \"\"}, \"colorscale\": [[0.0, \"#0d0887\"], [0.1111111111111111, \"#46039f\"], [0.2222222222222222, \"#7201a8\"], [0.3333333333333333, \"#9c179e\"], [0.4444444444444444, \"#bd3786\"], [0.5555555555555556, \"#d8576b\"], [0.6666666666666666, \"#ed7953\"], [0.7777777777777778, \"#fb9f3a\"], [0.8888888888888888, \"#fdca26\"], [1.0, \"#f0f921\"]], \"type\": \"contour\"}], \"contourcarpet\": [{\"colorbar\": {\"outlinewidth\": 0, \"ticks\": \"\"}, \"type\": \"contourcarpet\"}], \"heatmap\": [{\"colorbar\": {\"outlinewidth\": 0, \"ticks\": \"\"}, \"colorscale\": [[0.0, \"#0d0887\"], [0.1111111111111111, \"#46039f\"], [0.2222222222222222, \"#7201a8\"], [0.3333333333333333, \"#9c179e\"], [0.4444444444444444, \"#bd3786\"], [0.5555555555555556, \"#d8576b\"], [0.6666666666666666, \"#ed7953\"], [0.7777777777777778, \"#fb9f3a\"], [0.8888888888888888, \"#fdca26\"], [1.0, \"#f0f921\"]], \"type\": \"heatmap\"}], \"heatmapgl\": [{\"colorbar\": {\"outlinewidth\": 0, \"ticks\": \"\"}, \"colorscale\": [[0.0, \"#0d0887\"], [0.1111111111111111, \"#46039f\"], [0.2222222222222222, \"#7201a8\"], [0.3333333333333333, \"#9c179e\"], [0.4444444444444444, \"#bd3786\"], [0.5555555555555556, \"#d8576b\"], [0.6666666666666666, \"#ed7953\"], [0.7777777777777778, \"#fb9f3a\"], [0.8888888888888888, \"#fdca26\"], [1.0, \"#f0f921\"]], \"type\": \"heatmapgl\"}], \"histogram\": [{\"marker\": {\"colorbar\": {\"outlinewidth\": 0, \"ticks\": \"\"}}, \"type\": \"histogram\"}], \"histogram2d\": [{\"colorbar\": {\"outlinewidth\": 0, \"ticks\": \"\"}, \"colorscale\": [[0.0, \"#0d0887\"], [0.1111111111111111, \"#46039f\"], [0.2222222222222222, \"#7201a8\"], [0.3333333333333333, \"#9c179e\"], [0.4444444444444444, \"#bd3786\"], [0.5555555555555556, \"#d8576b\"], [0.6666666666666666, \"#ed7953\"], [0.7777777777777778, \"#fb9f3a\"], [0.8888888888888888, \"#fdca26\"], [1.0, \"#f0f921\"]], \"type\": \"histogram2d\"}], \"histogram2dcontour\": [{\"colorbar\": {\"outlinewidth\": 0, \"ticks\": \"\"}, \"colorscale\": [[0.0, \"#0d0887\"], [0.1111111111111111, \"#46039f\"], [0.2222222222222222, \"#7201a8\"], [0.3333333333333333, \"#9c179e\"], [0.4444444444444444, \"#bd3786\"], [0.5555555555555556, \"#d8576b\"], [0.6666666666666666, \"#ed7953\"], [0.7777777777777778, \"#fb9f3a\"], [0.8888888888888888, \"#fdca26\"], [1.0, \"#f0f921\"]], \"type\": \"histogram2dcontour\"}], \"mesh3d\": [{\"colorbar\": {\"outlinewidth\": 0, \"ticks\": \"\"}, \"type\": \"mesh3d\"}], \"parcoords\": [{\"line\": {\"colorbar\": {\"outlinewidth\": 0, \"ticks\": \"\"}}, \"type\": \"parcoords\"}], \"pie\": [{\"automargin\": true, \"type\": \"pie\"}], \"scatter\": [{\"marker\": {\"colorbar\": {\"outlinewidth\": 0, \"ticks\": \"\"}}, \"type\": \"scatter\"}], \"scatter3d\": [{\"line\": {\"colorbar\": {\"outlinewidth\": 0, \"ticks\": \"\"}}, \"marker\": {\"colorbar\": {\"outlinewidth\": 0, \"ticks\": \"\"}}, \"type\": \"scatter3d\"}], \"scattercarpet\": [{\"marker\": {\"colorbar\": {\"outlinewidth\": 0, \"ticks\": \"\"}}, \"type\": \"scattercarpet\"}], \"scattergeo\": [{\"marker\": {\"colorbar\": {\"outlinewidth\": 0, \"ticks\": \"\"}}, \"type\": \"scattergeo\"}], \"scattergl\": [{\"marker\": {\"colorbar\": {\"outlinewidth\": 0, \"ticks\": \"\"}}, \"type\": \"scattergl\"}], \"scattermapbox\": [{\"marker\": {\"colorbar\": {\"outlinewidth\": 0, \"ticks\": \"\"}}, \"type\": \"scattermapbox\"}], \"scatterpolar\": [{\"marker\": {\"colorbar\": {\"outlinewidth\": 0, \"ticks\": \"\"}}, \"type\": \"scatterpolar\"}], \"scatterpolargl\": [{\"marker\": {\"colorbar\": {\"outlinewidth\": 0, \"ticks\": \"\"}}, \"type\": \"scatterpolargl\"}], \"scatterternary\": [{\"marker\": {\"colorbar\": {\"outlinewidth\": 0, \"ticks\": \"\"}}, \"type\": \"scatterternary\"}], \"surface\": [{\"colorbar\": {\"outlinewidth\": 0, \"ticks\": \"\"}, \"colorscale\": [[0.0, \"#0d0887\"], [0.1111111111111111, \"#46039f\"], [0.2222222222222222, \"#7201a8\"], [0.3333333333333333, \"#9c179e\"], [0.4444444444444444, \"#bd3786\"], [0.5555555555555556, \"#d8576b\"], [0.6666666666666666, \"#ed7953\"], [0.7777777777777778, \"#fb9f3a\"], [0.8888888888888888, \"#fdca26\"], [1.0, \"#f0f921\"]], \"type\": \"surface\"}], \"table\": [{\"cells\": {\"fill\": {\"color\": \"#EBF0F8\"}, \"line\": {\"color\": \"white\"}}, \"header\": {\"fill\": {\"color\": \"#C8D4E3\"}, \"line\": {\"color\": \"white\"}}, \"type\": \"table\"}]}, \"layout\": {\"annotationdefaults\": {\"arrowcolor\": \"#2a3f5f\", \"arrowhead\": 0, \"arrowwidth\": 1}, \"coloraxis\": {\"colorbar\": {\"outlinewidth\": 0, \"ticks\": \"\"}}, \"colorscale\": {\"diverging\": [[0, \"#8e0152\"], [0.1, \"#c51b7d\"], [0.2, \"#de77ae\"], [0.3, \"#f1b6da\"], [0.4, \"#fde0ef\"], [0.5, \"#f7f7f7\"], [0.6, \"#e6f5d0\"], [0.7, \"#b8e186\"], [0.8, \"#7fbc41\"], [0.9, \"#4d9221\"], [1, \"#276419\"]], \"sequential\": [[0.0, \"#0d0887\"], [0.1111111111111111, \"#46039f\"], [0.2222222222222222, \"#7201a8\"], [0.3333333333333333, \"#9c179e\"], [0.4444444444444444, \"#bd3786\"], [0.5555555555555556, \"#d8576b\"], [0.6666666666666666, \"#ed7953\"], [0.7777777777777778, \"#fb9f3a\"], [0.8888888888888888, \"#fdca26\"], [1.0, \"#f0f921\"]], \"sequentialminus\": [[0.0, \"#0d0887\"], [0.1111111111111111, \"#46039f\"], [0.2222222222222222, \"#7201a8\"], [0.3333333333333333, \"#9c179e\"], [0.4444444444444444, \"#bd3786\"], [0.5555555555555556, \"#d8576b\"], [0.6666666666666666, \"#ed7953\"], [0.7777777777777778, \"#fb9f3a\"], [0.8888888888888888, \"#fdca26\"], [1.0, \"#f0f921\"]]}, \"colorway\": [\"#636efa\", \"#EF553B\", \"#00cc96\", \"#ab63fa\", \"#FFA15A\", \"#19d3f3\", \"#FF6692\", \"#B6E880\", \"#FF97FF\", \"#FECB52\"], \"font\": {\"color\": \"#2a3f5f\"}, \"geo\": {\"bgcolor\": \"white\", \"lakecolor\": \"white\", \"landcolor\": \"#E5ECF6\", \"showlakes\": true, \"showland\": true, \"subunitcolor\": \"white\"}, \"hoverlabel\": {\"align\": \"left\"}, \"hovermode\": \"closest\", \"mapbox\": {\"style\": \"light\"}, \"paper_bgcolor\": \"white\", \"plot_bgcolor\": \"#E5ECF6\", \"polar\": {\"angularaxis\": {\"gridcolor\": \"white\", \"linecolor\": \"white\", \"ticks\": \"\"}, \"bgcolor\": \"#E5ECF6\", \"radialaxis\": {\"gridcolor\": \"white\", \"linecolor\": \"white\", \"ticks\": \"\"}}, \"scene\": {\"xaxis\": {\"backgroundcolor\": \"#E5ECF6\", \"gridcolor\": \"white\", \"gridwidth\": 2, \"linecolor\": \"white\", \"showbackground\": true, \"ticks\": \"\", \"zerolinecolor\": \"white\"}, \"yaxis\": {\"backgroundcolor\": \"#E5ECF6\", \"gridcolor\": \"white\", \"gridwidth\": 2, \"linecolor\": \"white\", \"showbackground\": true, \"ticks\": \"\", \"zerolinecolor\": \"white\"}, \"zaxis\": {\"backgroundcolor\": \"#E5ECF6\", \"gridcolor\": \"white\", \"gridwidth\": 2, \"linecolor\": \"white\", \"showbackground\": true, \"ticks\": \"\", \"zerolinecolor\": \"white\"}}, \"shapedefaults\": {\"line\": {\"color\": \"#2a3f5f\"}}, \"ternary\": {\"aaxis\": {\"gridcolor\": \"white\", \"linecolor\": \"white\", \"ticks\": \"\"}, \"baxis\": {\"gridcolor\": \"white\", \"linecolor\": \"white\", \"ticks\": \"\"}, \"bgcolor\": \"#E5ECF6\", \"caxis\": {\"gridcolor\": \"white\", \"linecolor\": \"white\", \"ticks\": \"\"}}, \"title\": {\"x\": 0.05}, \"xaxis\": {\"automargin\": true, \"gridcolor\": \"white\", \"linecolor\": \"white\", \"ticks\": \"\", \"title\": {\"standoff\": 15}, \"zerolinecolor\": \"white\", \"zerolinewidth\": 2}, \"yaxis\": {\"automargin\": true, \"gridcolor\": \"white\", \"linecolor\": \"white\", \"ticks\": \"\", \"title\": {\"standoff\": 15}, \"zerolinecolor\": \"white\", \"zerolinewidth\": 2}}}, \"title\": {\"text\": \"2018 HK Import\"}},\n",
       "                        {\"responsive\": true}\n",
       "                    ).then(function(){\n",
       "                            \n",
       "var gd = document.getElementById('df7c48ec-f72e-43c4-97d8-30337128f2b3');\n",
       "var x = new MutationObserver(function (mutations, observer) {{\n",
       "        var display = window.getComputedStyle(gd).display;\n",
       "        if (!display || display === 'none') {{\n",
       "            console.log([gd, 'removed!']);\n",
       "            Plotly.purge(gd);\n",
       "            observer.disconnect();\n",
       "        }}\n",
       "}});\n",
       "\n",
       "// Listen for the removal of the full notebook cells\n",
       "var notebookContainer = gd.closest('#notebook-container');\n",
       "if (notebookContainer) {{\n",
       "    x.observe(notebookContainer, {childList: true});\n",
       "}}\n",
       "\n",
       "// Listen for the clearing of the current output cell\n",
       "var outputEl = gd.closest('.output');\n",
       "if (outputEl) {{\n",
       "    x.observe(outputEl, {childList: true});\n",
       "}}\n",
       "\n",
       "                        })\n",
       "                };\n",
       "                });\n",
       "            </script>\n",
       "        </div>"
      ]
     },
     "metadata": {},
     "output_type": "display_data"
    }
   ],
   "source": [
    "fig = go.Figure(data=go.Choropleth(\n",
    "    locations = df['code'],\n",
    "    z = df.index+1,\n",
    "    text = df['country'],\n",
    "    colorscale = 'Blues',\n",
    "    autocolorscale=False,\n",
    "    reversescale=False,\n",
    "    marker_line_color='darkgray',\n",
    "    marker_line_width=0.5,\n",
    "    colorbar_tickprefix = '',\n",
    "    colorbar_title = 'Ranking',\n",
    "))\n",
    "\n",
    "fig.update_layout(\n",
    "    title_text='2018 HK Import',\n",
    "    geo=dict(\n",
    "        showframe=False,\n",
    "        showcoastlines=True,\n",
    "        projection_type='equirectangular'\n",
    "    ),\n",
    "    annotations = [dict(\n",
    "        x=0.55,\n",
    "        y=0.1,\n",
    "        xref='paper',\n",
    "        yref='paper',\n",
    "        text='Source: <a href=\"https://tradingeconomics.com/hong-kong/exports-by-country\">\\\n",
    "            Trading Economics</a>',\n",
    "        showarrow = False\n",
    "    )]\n",
    ")\n",
    "\n",
    "fig.show()"
   ]
  },
  {
   "cell_type": "code",
   "execution_count": null,
   "metadata": {},
   "outputs": [],
   "source": []
  },
  {
   "cell_type": "code",
   "execution_count": null,
   "metadata": {},
   "outputs": [],
   "source": []
  }
 ],
 "metadata": {
  "kernelspec": {
   "display_name": "Python 3",
   "language": "python",
   "name": "python3"
  },
  "language_info": {
   "codemirror_mode": {
    "name": "ipython",
    "version": 3
   },
   "file_extension": ".py",
   "mimetype": "text/x-python",
   "name": "python",
   "nbconvert_exporter": "python",
   "pygments_lexer": "ipython3",
   "version": "3.7.4"
  }
 },
 "nbformat": 4,
 "nbformat_minor": 2
}
